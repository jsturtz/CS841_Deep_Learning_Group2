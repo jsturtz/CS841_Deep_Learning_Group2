{
  "nbformat": 4,
  "nbformat_minor": 0,
  "metadata": {
    "colab": {
      "name": "lstm.ipynb",
      "provenance": [],
      "collapsed_sections": [],
      "toc_visible": true
    },
    "kernelspec": {
      "name": "python3",
      "display_name": "Python 3"
    },
    "language_info": {
      "name": "python"
    }
  },
  "cells": [
    {
      "cell_type": "markdown",
      "source": [
        "The following is a stripped-down notebook version of our current github project that can be inspected at  https://github.com/jsturtz/CS841_Deep_Learning_Group2.\n",
        "\n",
        "The idea with our project is that if we are given any partial de novo protein sequence with gaps, we can query the NCBI Protein blast server for the closest matches, then train on those matches to create predictions for the missing gaps. We therefore have two goals:\n",
        "\n",
        "1. get high accuracy predicting ALL the gaps in the target sequence from our ten training instances.\n",
        "2. get high accuracy when deploying our model to predict the gaps in the de novo sequence\n",
        "\n",
        "The `target_sequence_raw` variable holds the target we want to predict. In other words, it is our test data.\n",
        "\n",
        "The `de_novo_sequence_raw` variable is the same thing as the target sequence but with gaps. We built this variable manually by removing the gaps mentioned in our source paper. We used this value to query the NCBI Protein Blast server and then downloaded the top ten results. Those top ten results are what we stored in `training_sequences_raw`.\n",
        "\n"
      ],
      "metadata": {
        "id": "BtqVTAnVKY-I"
      }
    },
    {
      "cell_type": "code",
      "source": [
        "target_sequence_raw = \"\"\">1CE1:L CAMPATH-1H:Light Chain 1\n",
        "DIQMTQSPSSLSASVGDRVTITCKASQNIDKYLNWYQQKPGKAPKLLIYNTNNLQTGVPS\n",
        "RFSGSGSGTDFTFTISSLQPEDIATYYCLQHISRPRTFGQGTKVEIKRTVAAPSVFIFPP\n",
        "SDEQLKSGTASVVCLLNNFYPREAKVQWKVDNALQSGNSQESVTEQDSKDSTYSLSSTLT\n",
        "LSKADYEKHKVYACEVTHQGLSSPVTKSFNRGEC\"\"\"\n",
        "\n",
        "de_novo_sequence_raw = \"\"\">DE NOVO SEQUENCE\n",
        "MTQSPSSLSASVGDRVTITCKNIDKYLNWYQQKPGKAPKLLIYNTNNLQTGVPSRFGFTF\n",
        "TIYCLQHISRPRTFGQGTKVEIKRTVAAPSVFIFPPSDEQLKSGTASVVCLLNNFYPREA\n",
        "KVQWKVDNALQSGNSQESVTEQDSKDSTYSLSSTLTLSKADYEKHKVYACEVTHQGLSSP\n",
        "VTKSF\"\"\"\n",
        "\n",
        "training_sequences_raw = \"\"\">1CE1_L 1.9a Structure Of The Therapeutic Antibody Campath-1h Fab In Complex With A Synthetic Peptide Antigen [Homo sapiens]\n",
        "DIQMTQSPSSLSASVGDRVTITCKASQNIDKYLNWYQQKPGKAPKLLIYNTNNLQTGVPSRFSGSGSGTDFTFTISSLQP\n",
        "EDIATYYCLQHISRPRTFGQGTKVEIKRTVAAPSVFIFPPSDEQLKSGTASVVCLLNNFYPREAKVQWKVDNALQSGNSQ\n",
        "ESVTEQDSKDSTYSLSSTLTLSKADYEKHKVYACEVTHQGLSSPVTKSFNR\n",
        ">1BEY_L Antibody To Campath-1h Humanized Fab [Homo sapiens]\n",
        "DIQMTQSPSSLSASVGDRVTITCKASQNIDKYLNWYQQKPGKAPKLLIYNTNNLQTGVPSRFSGSGSGTDFTFTISSLQP\n",
        "EDIATYYCLQHISRPRTFGQGTKVEIKRTVAAPSVFIFPPSDEQLKSGTASVVCLLNNFYPREAKVQWKVDNALQSGNSQ\n",
        "ESVTEQDSKDSTYSLSSTLTLSKADYEKHKVYACEVTHQGLSSPVTKSFNRGEC\n",
        ">AAB21182.1 immunoglobulin light chain [Rattus sp.]\n",
        "MGWSCIILFLVATATGVHSDIQMTQSPSSLSASVGDRVTITCKASQNIDKYLNWYQQKPGKAPKLLIYNTNNLQTGVPSR\n",
        "FSGSGSGTDFTFTISSLQPEDIATYYCLQHISRPRTFGQGTKVEIKRTVAAPSVFIFPPSDEQLKSGTASVVCLLNNFYP\n",
        "REAKVQWKVDNALQSGNSQESVTEQDSKDSTYSLSSTLTLSKADYEKHKVYACEVTHQGLSSPVTKSFNRGEC\n",
        ">7S0C_L Chain L, N-612-017 Light Chain [Homo sapiens]\n",
        "DIQMTQSPSSLSASVGDRVTITCQASQDISNYLNWYQQKPGKAPKLLIYDASNLETGVPSRFSGSGSGTDFTFTISSLQP\n",
        "EDIATYYCQQHDALPWTFGQGTKVEIKRTVAAPSVFIFPPSDEQLKSGTASVVCLLNNFYPREAKVQWKVDNALQSGNSQ\n",
        "ESVTEQDSKDSTYSLSSTLTLSKADYEKHKVYACEVTHQGLSSPVTKSFNRGEC\n",
        ">1DEE_A Structure of S. aureus protein A bound to a human IgM Fab [Homo sapiens]\n",
        "DIQMTQSPSSLSASVGDRVTITCRTSQSISSYLNWYQQKPGKAPKLLIYAASSLQSGVPSRFSGSGSGTDFTLTISSLQP\n",
        "EDFATYYCQQSYSAPRTFGQGTKVEIKRTVAAPSVFIFPPSDEQLKSGTASVVCLLNNFYPREAKVQWKVDNALQSGNSQ\n",
        "ESVTEQDSKDSTYSLSSTLTLSKADYEKHKVYACEVTHQGLSSPVTKSFNRGEC\n",
        ">1HEZ_A antibody-antigen complex [Homo sapiens]\n",
        "DIQMTQSPSSLSASVGDRVTITCRTSQSISSYLNWYQQKPGKAPKLLIYAASSLQSGVPSRFSGSGSGTDFTLTISSLQP\n",
        "EDFATYYCQQSYSTPRTFGQGTKVEIKRTVAAPSVFIFPPSDEQLKSGTASVVCLLNNFYPREAKVQWKVDNALQSGNSQ\n",
        "ESVTEQDSKDSTYSLSSTLTLSKADYEKHKVYACEVTHQGLSSPVTKSFNRGEC\n",
        ">7S0B_B Chain B, N-612-056 Light Chain [Homo sapiens]\n",
        "DIQMTQSPSSLSASVGDRVTITCQASQDISNYLNWYQQKPGKAPKLLIYDASNLETGVPSRFSGSGSGTDFTFTISSLQP\n",
        "EDIATYYCQQDAGTPLTFGQGTKVEIKRTVAAPSVFIFPPSDEQLKSGTASVVCLLNNFYPREAKVQWKVDNALQSGNSQ\n",
        "ESVTEQDSKDSTYSLSSTLTLSKADYEKHKVYACEVTHQGLSSPVTKSFNRGEC\n",
        ">7S0D_L Chain L, N-612-014 Light Chain [Homo sapiens]\n",
        "DIQMTQSPSSLSASVGDRVTITCQASQDISNYLNWYQQKPGKAPKLLIYDASNLETGVPSRFSGSGSGTDFTFTISSLQP\n",
        "EDIATYYCQQAYAYPLTFGQGTKVEIKRTVAAPSVFIFPPSDEQLKSGTASVVCLLNNFYPREAKVQWKVDNALQSGNSQ\n",
        "ESVTEQDSKDSTYSLSSTLTLSKADYEKHKVYACEVTHQGLSSPVTKSFNRGEC\n",
        ">7E88_B Chain B, BD-515 Fab Light Chain [Homo sapiens]\n",
        "DIQMTQSPSSLSASVGDRVTITCQASQDINKYLNWYQQKPGKAPKLLIFDASHLETGVPSRFSASGSGTDFTFTISSLQP\n",
        "EDIATYYCHQYDNLPRTFGQGTRLEIKRTVAAPSVFIFPPSDEQLKSGTASVVCLLNNFYPREAKVQWKVDNALQSGNSQ\n",
        "ESVTEQDSKDSTYSLSSTLTLSKADYEKHKVYACEVTHQGLSSPVTKSFNRGEC\n",
        ">3FZU_D IgG1 Fab characterized by H/D exchange [Homo sapiens]\n",
        "DIQMTQSPSSLSASVGDRVTITCRASQDIRYYLNWYQQKPGKAPKLLIYVASSLQSGVPSRFSGSGSGTEFTLTVSSLQP\n",
        "EDFATYYCLQVYSTPRTFGQGTKVEIKRTVAAPSVFIFPPSDEQLKSGTASVVCLLNNFYPREAKVQWKVDNALQSGNSQ\n",
        "ESVTEQDSKDSTYSLSSTLTLSKADYEKHKVYACEVTHQGLSSPVTKSFNRGEC\"\"\""
      ],
      "metadata": {
        "id": "V6aNP-npJv-5"
      },
      "execution_count": 23,
      "outputs": []
    },
    {
      "cell_type": "code",
      "source": [
        "# =============================================================================\n",
        "# Imports here\n",
        "# =============================================================================\n",
        "\n",
        "from termcolor import colored\n",
        "import functools\n",
        "import json\n",
        "import numpy as np\n",
        "import os\n",
        "from datetime import datetime\n",
        "\n",
        "from tensorflow import keras\n",
        "from tensorflow.keras import layers\n",
        "from keras.utils import np_utils\n",
        "from matplotlib import pyplot as plt\n",
        "from matplotlib.ticker import MaxNLocator\n",
        "from tensorflow.keras.callbacks import EarlyStopping\n",
        "from tensorflow.keras.callbacks import Callback"
      ],
      "metadata": {
        "id": "R3iWANYuQmbG"
      },
      "execution_count": 24,
      "outputs": []
    },
    {
      "cell_type": "code",
      "source": [
        "# =============================================================================\n",
        "# Globals here\n",
        "# =============================================================================\n",
        "\n",
        "# Model parameters\n",
        "KMER_LENGTH = 5\n",
        "MAX_EPOCH_LENGTH = 100\n",
        "NUM_LSTM_LAYERS = 256\n",
        "FIRST_CONV_FILTERS = 128\n",
        "FIRST_CONV_KERNEL_SIZE = 3\n",
        "FIRST_DENSE_LAYER = 128\n",
        "SECOND_DENSE_LAYER = 64\n",
        "COST_FUNC = \"categorical_crossentropy\"\n",
        "OPTIMIZER = \"adam\"\n",
        "OUTPUT_ACTIVATION_FUNC = \"softmax\"\n",
        "HIDDEN_LAYER_ACTIVATION_FUNC = \"relu\"\n",
        "VALIDATION_PERCENT = 0.1\n",
        "BATCH_SIZE = 64\n",
        "NUM_CLASSES = -1\n",
        "CHAR_TO_INT = {}\n",
        "INT_TO_CHAR = {}"
      ],
      "metadata": {
        "id": "MOvueIu1QdKQ"
      },
      "execution_count": 25,
      "outputs": []
    },
    {
      "cell_type": "code",
      "source": [
        "# Use monospace to make formatting cleaner\n",
        "plt.rcParams.update({'font.family':'monospace'})\n",
        "\n",
        "# fix random seed for reproducibility\n",
        "np.random.seed(7)"
      ],
      "metadata": {
        "id": "oST_a7_pQx3V"
      },
      "execution_count": 26,
      "outputs": []
    },
    {
      "cell_type": "code",
      "source": [
        "# =============================================================================\n",
        "# FUNCTIONS START HERE\n",
        "# =============================================================================\n",
        "\n",
        "# =============================================================================\n",
        "def snake_case_prettify(s):\n",
        "    return \" \".join(w.capitalize() for w in s.split(\"_\"))\n",
        "\n",
        "# =============================================================================\n",
        "def plot_metric(history, title, metric):\n",
        "    metric_prettify = snake_case_prettify(metric)\n",
        "    title = \"{} on {}\".format(title, metric_prettify)\n",
        "    fig, ax = plt.subplots()\n",
        "    epoch_axis = list(range(1, MAX_EPOCH_LENGTH + 1))\n",
        "    ax.plot(epoch_axis, history[metric], label='Training')\n",
        "    ax.plot(epoch_axis, history[f\"val_{metric}\"], label='Validation')\n",
        "    ax.set_xlabel('Epochs')         # Add an x-label to the axes.\n",
        "    ax.set_ylabel(metric_prettify)  # Add a y-label to the axes.\n",
        "    ax.set_title(title)             # Add a title to the axes.\n",
        "    ax.xaxis.set_major_locator(MaxNLocator(integer=True))\n",
        "\n",
        "    ax.legend();  # Add a legend.\n",
        "    plt.show()\n",
        "\n",
        "# =============================================================================\n",
        "def generate_input_output_pairs(sequence):\n",
        "\n",
        "    # Extract all input_output pairs from all sequences\n",
        "    input_output_pairs = []\n",
        "    for seq in sequence:\n",
        "        for start in range(len(seq)-KMER_LENGTH):\n",
        "            end = start + KMER_LENGTH\n",
        "            seq_in = seq[start:end]\n",
        "            seq_out = seq[end]\n",
        "            input_output_pairs.append((seq_in, seq_out))\n",
        "\n",
        "    return input_output_pairs\n",
        "\n",
        "# =============================================================================\n",
        "def preprocess_data(dataset):\n",
        "    \"\"\"\n",
        "    Preprocesses raw dataset and returns tuple (dataX, dataY)\n",
        "    \"\"\"\n",
        "\n",
        "    # First, convert the raw strings to integers\n",
        "    input_as_lst = []\n",
        "    output_as_lst = []\n",
        "    for inp, out in dataset:\n",
        "        input_as_lst.append([CHAR_TO_INT[c] for c in inp])\n",
        "        output_as_lst.append(CHAR_TO_INT[out])\n",
        "\n",
        "    # reshape X to be [samples, time steps, features], normalize\n",
        "    dataX = np.reshape(input_as_lst, (len(input_as_lst), KMER_LENGTH, 1))\n",
        "    dataX = dataX / float(NUM_CLASSES)\n",
        "\n",
        "    # Convert output to categorical vector\n",
        "    dataY = np_utils.to_categorical(output_as_lst, num_classes=NUM_CLASSES)\n",
        "\n",
        "    return dataX, dataY\n",
        "\n",
        "# =============================================================================\n",
        "def get_sequence_predictions(model, seq, gap_char):\n",
        "\n",
        "    # Characters that already exist have a probability of 1. Until gaps are filled, their probability is 0\n",
        "    predictions_probabilities = [(c, 1 if c != gap_char else 0) for c in seq]\n",
        "\n",
        "    if not model:\n",
        "        return predictions_probabilities\n",
        "\n",
        "    for start in range(len(seq) - KMER_LENGTH):\n",
        "        end = start+KMER_LENGTH\n",
        "        # Only if we have a gap, do we need to update predictions_probabilities\n",
        "        if seq[end] == gap_char:\n",
        "            input_seq = [c for c, _ in predictions_probabilities[start:end]]\n",
        "            input_seq = np.array([CHAR_TO_INT[c] for c in input_seq])\n",
        "            input_seq = input_seq / float(NUM_CLASSES)\n",
        "            input_seq = np.reshape(input_seq, (1, KMER_LENGTH, 1))\n",
        "\n",
        "            output_arr = model.predict(input_seq).flatten()\n",
        "            highest_probability = np.amax(output_arr)\n",
        "            output_class = np.where(output_arr == highest_probability)[0][0]\n",
        "\n",
        "            # Convert the output class integer back into the predicted character\n",
        "            predicted_char = INT_TO_CHAR[output_class]\n",
        "            predictions_probabilities[end] = (predicted_char, highest_probability)\n",
        "\n",
        "    return predictions_probabilities\n",
        "\n",
        "# =============================================================================\n",
        "def predict_gaps(seq, forward_model=None, reverse_model=None, gap_char=\"-\"):\n",
        "\n",
        "    forward_preds = get_sequence_predictions(forward_model, seq, gap_char)\n",
        "    reverse_preds = get_sequence_predictions(reverse_model, seq[::-1], gap_char)\n",
        "\n",
        "    predicted_seq = \"\"\n",
        "    for ((forward_pred, forward_prob), (reverse_pred, reverse_prob)) in zip(forward_preds, reverse_preds[::-1]):\n",
        "        best_prediction = forward_pred if forward_prob >= reverse_prob else reverse_pred\n",
        "        predicted_seq += best_prediction\n",
        "\n",
        "    return predicted_seq\n",
        "\n",
        "# =============================================================================\n",
        "def get_nonmatching_indices(seq1, seq2):\n",
        "    s = set()\n",
        "    for i, (c1, c2) in enumerate(zip(seq1, seq2)):\n",
        "        if c1 != c2:\n",
        "            s.add(i)\n",
        "    return s\n",
        "\n",
        "# =============================================================================\n",
        "def highlight_indices(seq, indices, color):\n",
        "    seq = list(seq)\n",
        "    for i, char in enumerate(seq):\n",
        "        if i in indices:\n",
        "            seq[i] = colored(char, color=color, attrs=['bold'])\n",
        "\n",
        "    return functools.reduce(lambda a, b: a+b, seq)\n",
        "\n",
        "# =============================================================================\n",
        "def print_sequence(seq, header=None, incorrect_indices=None, correct_indices=None):\n",
        "\n",
        "    line_length = 40\n",
        "    group_length = 10\n",
        "\n",
        "    if header:\n",
        "        print(header)\n",
        "    print(\"=====================================================================\")\n",
        "\n",
        "    lines = [seq[begin:begin+line_length] for begin in range(0, len(seq), line_length)]\n",
        "    for line_num, line in enumerate(lines):\n",
        "\n",
        "        groups = [line[begin:begin+group_length] for begin in range(0, len(line), group_length)]\n",
        "\n",
        "        # FIXME: I hate this shit so much. Figure out a more elegant solution\n",
        "        for group_num, group in enumerate(groups):\n",
        "            start_group_index = line_num * line_length + group_num * group_length\n",
        "            group_indices = range(start_group_index, start_group_index + group_length)\n",
        "\n",
        "            if incorrect_indices:\n",
        "                fail_indices = incorrect_indices.intersection(group_indices)\n",
        "                fail_indices = set([item - start_group_index for item in fail_indices])\n",
        "                group = highlight_indices(group, fail_indices, color='red')\n",
        "\n",
        "            if correct_indices:\n",
        "                success_indices = correct_indices.intersection(group_indices)\n",
        "                success_indices = set([item - start_group_index for item in success_indices])\n",
        "                group = highlight_indices(group, success_indices, color='green')\n",
        "\n",
        "            groups[group_num] = group\n",
        "\n",
        "        print(\"\\t\".join(groups))\n",
        "\n",
        "# =============================================================================\n",
        "def get_sequences(raw_sequence):\n",
        "    sequences = [seq.split(\"\\n\") for seq in raw_sequence.split(\">\") if seq]\n",
        "    sequences = [\"\".join(parts).strip() for _, *parts in sequences]\n",
        "    return sequences\n",
        "\n",
        "# =============================================================================\n",
        "def build_lstm_model():\n",
        "    inputs = keras.Input(shape=(KMER_LENGTH, 1))\n",
        "    outputs = layers.LSTM(NUM_LSTM_LAYERS)(inputs)\n",
        "    outputs = layers.Dense(FIRST_DENSE_LAYER, activation=HIDDEN_LAYER_ACTIVATION_FUNC)(outputs)\n",
        "    outputs = layers.Dense(SECOND_DENSE_LAYER, activation=HIDDEN_LAYER_ACTIVATION_FUNC)(outputs)\n",
        "    outputs = layers.Dense(NUM_CLASSES, activation=OUTPUT_ACTIVATION_FUNC)(outputs)\n",
        "    return (keras.Model(inputs=inputs, outputs=outputs), \"LSTM\")\n",
        "\n",
        "# =============================================================================\n",
        "def build_cnn_lstm_model():\n",
        "    inputs = keras.Input(shape=(KMER_LENGTH, 1))\n",
        "    outputs = layers.Conv1D(filters=FIRST_CONV_FILTERS, kernel_size=FIRST_CONV_KERNEL_SIZE)(inputs)\n",
        "    outputs = layers.LSTM(NUM_LSTM_LAYERS)(outputs)\n",
        "    outputs = layers.Dense(FIRST_DENSE_LAYER, activation=HIDDEN_LAYER_ACTIVATION_FUNC)(outputs)\n",
        "    outputs = layers.Dense(SECOND_DENSE_LAYER, activation=HIDDEN_LAYER_ACTIVATION_FUNC)(outputs)\n",
        "    outputs = layers.Dense(NUM_CLASSES, activation=OUTPUT_ACTIVATION_FUNC)(outputs)\n",
        "    return (keras.Model(inputs=inputs, outputs=outputs), \"CNN LSTM\")\n",
        "\n",
        "# =============================================================================\n",
        "def build_bilstm_model():\n",
        "    inputs = keras.Input(shape=(KMER_LENGTH, 1))\n",
        "    outputs = layers.Bidirectional(layers.LSTM(NUM_LSTM_LAYERS))(inputs)\n",
        "    outputs = layers.Dense(FIRST_DENSE_LAYER, activation=HIDDEN_LAYER_ACTIVATION_FUNC)(outputs)\n",
        "    outputs = layers.Dense(SECOND_DENSE_LAYER, activation=HIDDEN_LAYER_ACTIVATION_FUNC)(outputs)\n",
        "    outputs = layers.Dense(NUM_CLASSES, activation=OUTPUT_ACTIVATION_FUNC)(outputs)\n",
        "    return (keras.Model(inputs=inputs, outputs=outputs), \"Bi-LSTM\")\n",
        "\n",
        "# =============================================================================\n",
        "def build_cnn_bilstm_model():\n",
        "    inputs = keras.Input(shape=(KMER_LENGTH, 1))\n",
        "    outputs = layers.Conv1D(filters=FIRST_CONV_FILTERS, kernel_size=FIRST_CONV_KERNEL_SIZE)(inputs)\n",
        "    outputs = layers.Bidirectional(layers.LSTM(NUM_LSTM_LAYERS))(outputs)\n",
        "    outputs = layers.Dense(FIRST_DENSE_LAYER, activation=HIDDEN_LAYER_ACTIVATION_FUNC)(outputs)\n",
        "    outputs = layers.Dense(SECOND_DENSE_LAYER, activation=HIDDEN_LAYER_ACTIVATION_FUNC)(outputs)\n",
        "    outputs = layers.Dense(NUM_CLASSES, activation=OUTPUT_ACTIVATION_FUNC)(outputs)\n",
        "    return (keras.Model(inputs=inputs, outputs=outputs), \"CNN Bi-LSTM\")\n",
        "\n",
        "# =============================================================================\n",
        "def build_model(training_seqs, model_type):\n",
        "\n",
        "    model_types = {\n",
        "        \"lstm\": build_lstm_model,\n",
        "        \"cnn_lstm\": build_cnn_lstm_model,\n",
        "        \"bilstm\": build_bilstm_model,\n",
        "        \"cnn_bilstm\": build_cnn_bilstm_model,\n",
        "    }\n",
        "\n",
        "    if model_type not in model_types:\n",
        "        raise Exception(\"Not a valid model type! Pick from {}\".format(model_types.keys()))\n",
        "\n",
        "    training_pairs = generate_input_output_pairs(training_seqs)\n",
        "\n",
        "    # Shuffle the training data so no bias is introduced when splitting for validation\n",
        "    np.random.shuffle(training_pairs)\n",
        "\n",
        "    # Determine indices to use to split randomized data into training/validation/test sets\n",
        "    validation_threshold = int(VALIDATION_PERCENT * len(training_pairs))\n",
        "\n",
        "    # Convert lists of lists to appropriate data structure complete with any necessary preprocessing\n",
        "    trainX, trainY = preprocess_data(training_pairs[validation_threshold:])\n",
        "    validX, validY = preprocess_data(training_pairs[:validation_threshold])\n",
        "\n",
        "    # Build model\n",
        "    model, model_type_name = model_types[model_type]()\n",
        "    model.compile(loss=COST_FUNC, optimizer=OPTIMIZER, metrics=['categorical_accuracy'])\n",
        "\n",
        "    history = model.fit(\n",
        "        trainX,\n",
        "        trainY,\n",
        "        epochs=MAX_EPOCH_LENGTH,\n",
        "        batch_size=BATCH_SIZE,\n",
        "        verbose=2,\n",
        "        validation_data=(validX, validY)\n",
        "    )\n",
        "    return model, history, model_type_name"
      ],
      "metadata": {
        "id": "s0DBGiW5GI1E"
      },
      "execution_count": 27,
      "outputs": []
    },
    {
      "cell_type": "code",
      "source": [
        "# =============================================================================\n",
        "# MAIN CODE STARTS HERE\n",
        "# =============================================================================\n",
        "training_sequences = get_sequences(training_sequences_raw)\n",
        "training_sequences_reversed = [item[::-1] for item in training_sequences]\n",
        "training_sequences"
      ],
      "metadata": {
        "colab": {
          "base_uri": "https://localhost:8080/"
        },
        "id": "4YCVFsHaQS4C",
        "outputId": "89677ce9-383d-42f0-8fa7-3308f03c1bf5"
      },
      "execution_count": 28,
      "outputs": [
        {
          "output_type": "execute_result",
          "data": {
            "text/plain": [
              "['DIQMTQSPSSLSASVGDRVTITCKASQNIDKYLNWYQQKPGKAPKLLIYNTNNLQTGVPSRFSGSGSGTDFTFTISSLQPEDIATYYCLQHISRPRTFGQGTKVEIKRTVAAPSVFIFPPSDEQLKSGTASVVCLLNNFYPREAKVQWKVDNALQSGNSQESVTEQDSKDSTYSLSSTLTLSKADYEKHKVYACEVTHQGLSSPVTKSFNR',\n",
              " 'DIQMTQSPSSLSASVGDRVTITCKASQNIDKYLNWYQQKPGKAPKLLIYNTNNLQTGVPSRFSGSGSGTDFTFTISSLQPEDIATYYCLQHISRPRTFGQGTKVEIKRTVAAPSVFIFPPSDEQLKSGTASVVCLLNNFYPREAKVQWKVDNALQSGNSQESVTEQDSKDSTYSLSSTLTLSKADYEKHKVYACEVTHQGLSSPVTKSFNRGEC',\n",
              " 'MGWSCIILFLVATATGVHSDIQMTQSPSSLSASVGDRVTITCKASQNIDKYLNWYQQKPGKAPKLLIYNTNNLQTGVPSRFSGSGSGTDFTFTISSLQPEDIATYYCLQHISRPRTFGQGTKVEIKRTVAAPSVFIFPPSDEQLKSGTASVVCLLNNFYPREAKVQWKVDNALQSGNSQESVTEQDSKDSTYSLSSTLTLSKADYEKHKVYACEVTHQGLSSPVTKSFNRGEC',\n",
              " 'DIQMTQSPSSLSASVGDRVTITCQASQDISNYLNWYQQKPGKAPKLLIYDASNLETGVPSRFSGSGSGTDFTFTISSLQPEDIATYYCQQHDALPWTFGQGTKVEIKRTVAAPSVFIFPPSDEQLKSGTASVVCLLNNFYPREAKVQWKVDNALQSGNSQESVTEQDSKDSTYSLSSTLTLSKADYEKHKVYACEVTHQGLSSPVTKSFNRGEC',\n",
              " 'DIQMTQSPSSLSASVGDRVTITCRTSQSISSYLNWYQQKPGKAPKLLIYAASSLQSGVPSRFSGSGSGTDFTLTISSLQPEDFATYYCQQSYSAPRTFGQGTKVEIKRTVAAPSVFIFPPSDEQLKSGTASVVCLLNNFYPREAKVQWKVDNALQSGNSQESVTEQDSKDSTYSLSSTLTLSKADYEKHKVYACEVTHQGLSSPVTKSFNRGEC',\n",
              " 'DIQMTQSPSSLSASVGDRVTITCRTSQSISSYLNWYQQKPGKAPKLLIYAASSLQSGVPSRFSGSGSGTDFTLTISSLQPEDFATYYCQQSYSTPRTFGQGTKVEIKRTVAAPSVFIFPPSDEQLKSGTASVVCLLNNFYPREAKVQWKVDNALQSGNSQESVTEQDSKDSTYSLSSTLTLSKADYEKHKVYACEVTHQGLSSPVTKSFNRGEC',\n",
              " 'DIQMTQSPSSLSASVGDRVTITCQASQDISNYLNWYQQKPGKAPKLLIYDASNLETGVPSRFSGSGSGTDFTFTISSLQPEDIATYYCQQDAGTPLTFGQGTKVEIKRTVAAPSVFIFPPSDEQLKSGTASVVCLLNNFYPREAKVQWKVDNALQSGNSQESVTEQDSKDSTYSLSSTLTLSKADYEKHKVYACEVTHQGLSSPVTKSFNRGEC',\n",
              " 'DIQMTQSPSSLSASVGDRVTITCQASQDISNYLNWYQQKPGKAPKLLIYDASNLETGVPSRFSGSGSGTDFTFTISSLQPEDIATYYCQQAYAYPLTFGQGTKVEIKRTVAAPSVFIFPPSDEQLKSGTASVVCLLNNFYPREAKVQWKVDNALQSGNSQESVTEQDSKDSTYSLSSTLTLSKADYEKHKVYACEVTHQGLSSPVTKSFNRGEC',\n",
              " 'DIQMTQSPSSLSASVGDRVTITCQASQDINKYLNWYQQKPGKAPKLLIFDASHLETGVPSRFSASGSGTDFTFTISSLQPEDIATYYCHQYDNLPRTFGQGTRLEIKRTVAAPSVFIFPPSDEQLKSGTASVVCLLNNFYPREAKVQWKVDNALQSGNSQESVTEQDSKDSTYSLSSTLTLSKADYEKHKVYACEVTHQGLSSPVTKSFNRGEC',\n",
              " 'DIQMTQSPSSLSASVGDRVTITCRASQDIRYYLNWYQQKPGKAPKLLIYVASSLQSGVPSRFSGSGSGTEFTLTVSSLQPEDFATYYCLQVYSTPRTFGQGTKVEIKRTVAAPSVFIFPPSDEQLKSGTASVVCLLNNFYPREAKVQWKVDNALQSGNSQESVTEQDSKDSTYSLSSTLTLSKADYEKHKVYACEVTHQGLSSPVTKSFNRGEC']"
            ]
          },
          "metadata": {},
          "execution_count": 28
        }
      ]
    },
    {
      "cell_type": "code",
      "source": [
        "target_sequence = get_sequences(target_sequence_raw)[0]\n",
        "target_sequence_reversed = target_sequence[::-1]\n",
        "target_sequence"
      ],
      "metadata": {
        "colab": {
          "base_uri": "https://localhost:8080/",
          "height": 70
        },
        "id": "cnSHtwQXRoQW",
        "outputId": "8f8ca154-2a3c-49db-93cb-ff21f0d75c31"
      },
      "execution_count": 29,
      "outputs": [
        {
          "output_type": "execute_result",
          "data": {
            "text/plain": [
              "'DIQMTQSPSSLSASVGDRVTITCKASQNIDKYLNWYQQKPGKAPKLLIYNTNNLQTGVPSRFSGSGSGTDFTFTISSLQPEDIATYYCLQHISRPRTFGQGTKVEIKRTVAAPSVFIFPPSDEQLKSGTASVVCLLNNFYPREAKVQWKVDNALQSGNSQESVTEQDSKDSTYSLSSTLTLSKADYEKHKVYACEVTHQGLSSPVTKSFNRGEC'"
            ],
            "application/vnd.google.colaboratory.intrinsic+json": {
              "type": "string"
            }
          },
          "metadata": {},
          "execution_count": 29
        }
      ]
    },
    {
      "cell_type": "code",
      "source": [
        "# extract all chars from all sequences to create our mappings and to determine classes\n",
        "all_chars = set(\"\".join(training_sequences) + target_sequence)\n",
        "\n",
        "# These globals must be determined at runtime\n",
        "global NUM_CLASSES, CHAR_TO_INT, INT_TO_CHAR\n",
        "NUM_CLASSES = len(all_chars)\n",
        "CHAR_TO_INT = {c: i for i, c in enumerate(all_chars)}\n",
        "INT_TO_CHAR = {v: k for k, v in CHAR_TO_INT.items()}\n",
        "NUM_CLASSES"
      ],
      "metadata": {
        "colab": {
          "base_uri": "https://localhost:8080/"
        },
        "id": "xjhoEGlURxgb",
        "outputId": "e8693ab2-756e-41b1-9b6a-964227237f0d"
      },
      "execution_count": 30,
      "outputs": [
        {
          "output_type": "execute_result",
          "data": {
            "text/plain": [
              "20"
            ]
          },
          "metadata": {},
          "execution_count": 30
        }
      ]
    },
    {
      "cell_type": "code",
      "source": [
        "# ==============================================================================\n",
        "# LSTM MODEL\n",
        "# ==============================================================================\n",
        "model_type=\"lstm\""
      ],
      "metadata": {
        "id": "PiXSBXOVVx48"
      },
      "execution_count": 31,
      "outputs": []
    },
    {
      "cell_type": "code",
      "source": [
        "forward_model, forward_history, model_name = build_model(training_sequences, model_type)"
      ],
      "metadata": {
        "colab": {
          "base_uri": "https://localhost:8080/"
        },
        "id": "R-u-fwKQKH0c",
        "outputId": "e1285052-0b90-48d4-ac8b-57ac7744a38e"
      },
      "execution_count": 32,
      "outputs": [
        {
          "output_type": "stream",
          "name": "stdout",
          "text": [
            "Epoch 1/100\n",
            "30/30 - 3s - loss: 2.9496 - categorical_accuracy: 0.0818 - val_loss: 2.8512 - val_categorical_accuracy: 0.1762 - 3s/epoch - 112ms/step\n",
            "Epoch 2/100\n",
            "30/30 - 1s - loss: 2.8689 - categorical_accuracy: 0.1445 - val_loss: 2.7547 - val_categorical_accuracy: 0.1762 - 866ms/epoch - 29ms/step\n",
            "Epoch 3/100\n",
            "30/30 - 1s - loss: 2.8401 - categorical_accuracy: 0.1445 - val_loss: 2.7291 - val_categorical_accuracy: 0.1762 - 873ms/epoch - 29ms/step\n",
            "Epoch 4/100\n",
            "30/30 - 1s - loss: 2.8254 - categorical_accuracy: 0.1445 - val_loss: 2.7148 - val_categorical_accuracy: 0.1762 - 827ms/epoch - 28ms/step\n",
            "Epoch 5/100\n",
            "30/30 - 1s - loss: 2.8213 - categorical_accuracy: 0.1445 - val_loss: 2.7556 - val_categorical_accuracy: 0.1762 - 823ms/epoch - 27ms/step\n",
            "Epoch 6/100\n",
            "30/30 - 1s - loss: 2.8109 - categorical_accuracy: 0.1445 - val_loss: 2.7255 - val_categorical_accuracy: 0.1762 - 822ms/epoch - 27ms/step\n",
            "Epoch 7/100\n",
            "30/30 - 1s - loss: 2.8053 - categorical_accuracy: 0.1482 - val_loss: 2.6991 - val_categorical_accuracy: 0.1762 - 869ms/epoch - 29ms/step\n",
            "Epoch 8/100\n",
            "30/30 - 1s - loss: 2.7874 - categorical_accuracy: 0.1503 - val_loss: 2.6753 - val_categorical_accuracy: 0.1762 - 826ms/epoch - 28ms/step\n",
            "Epoch 9/100\n",
            "30/30 - 1s - loss: 2.7655 - categorical_accuracy: 0.1545 - val_loss: 2.6627 - val_categorical_accuracy: 0.1762 - 819ms/epoch - 27ms/step\n",
            "Epoch 10/100\n",
            "30/30 - 1s - loss: 2.7429 - categorical_accuracy: 0.1619 - val_loss: 2.6726 - val_categorical_accuracy: 0.1905 - 831ms/epoch - 28ms/step\n",
            "Epoch 11/100\n",
            "30/30 - 1s - loss: 2.7083 - categorical_accuracy: 0.1667 - val_loss: 2.6573 - val_categorical_accuracy: 0.1905 - 844ms/epoch - 28ms/step\n",
            "Epoch 12/100\n",
            "30/30 - 1s - loss: 2.6744 - categorical_accuracy: 0.1709 - val_loss: 2.6254 - val_categorical_accuracy: 0.1714 - 834ms/epoch - 28ms/step\n",
            "Epoch 13/100\n",
            "30/30 - 1s - loss: 2.6490 - categorical_accuracy: 0.1783 - val_loss: 2.6181 - val_categorical_accuracy: 0.2095 - 823ms/epoch - 27ms/step\n",
            "Epoch 14/100\n",
            "30/30 - 1s - loss: 2.6179 - categorical_accuracy: 0.1735 - val_loss: 2.6213 - val_categorical_accuracy: 0.1810 - 804ms/epoch - 27ms/step\n",
            "Epoch 15/100\n",
            "30/30 - 1s - loss: 2.5739 - categorical_accuracy: 0.1857 - val_loss: 2.6208 - val_categorical_accuracy: 0.1810 - 836ms/epoch - 28ms/step\n",
            "Epoch 16/100\n",
            "30/30 - 1s - loss: 2.5338 - categorical_accuracy: 0.1999 - val_loss: 2.5980 - val_categorical_accuracy: 0.2048 - 820ms/epoch - 27ms/step\n",
            "Epoch 17/100\n",
            "30/30 - 1s - loss: 2.5102 - categorical_accuracy: 0.1983 - val_loss: 2.6002 - val_categorical_accuracy: 0.2238 - 828ms/epoch - 28ms/step\n",
            "Epoch 18/100\n",
            "30/30 - 1s - loss: 2.4850 - categorical_accuracy: 0.2131 - val_loss: 2.5986 - val_categorical_accuracy: 0.2143 - 829ms/epoch - 28ms/step\n",
            "Epoch 19/100\n",
            "30/30 - 1s - loss: 2.4315 - categorical_accuracy: 0.2379 - val_loss: 2.5578 - val_categorical_accuracy: 0.1857 - 842ms/epoch - 28ms/step\n",
            "Epoch 20/100\n",
            "30/30 - 1s - loss: 2.4086 - categorical_accuracy: 0.2368 - val_loss: 2.5298 - val_categorical_accuracy: 0.2048 - 810ms/epoch - 27ms/step\n",
            "Epoch 21/100\n",
            "30/30 - 1s - loss: 2.3631 - categorical_accuracy: 0.2532 - val_loss: 2.4860 - val_categorical_accuracy: 0.2476 - 844ms/epoch - 28ms/step\n",
            "Epoch 22/100\n",
            "30/30 - 1s - loss: 2.3480 - categorical_accuracy: 0.2442 - val_loss: 2.4942 - val_categorical_accuracy: 0.2190 - 882ms/epoch - 29ms/step\n",
            "Epoch 23/100\n",
            "30/30 - 1s - loss: 2.2861 - categorical_accuracy: 0.2611 - val_loss: 2.4812 - val_categorical_accuracy: 0.2571 - 843ms/epoch - 28ms/step\n",
            "Epoch 24/100\n",
            "30/30 - 1s - loss: 2.2539 - categorical_accuracy: 0.2832 - val_loss: 2.4391 - val_categorical_accuracy: 0.1952 - 903ms/epoch - 30ms/step\n",
            "Epoch 25/100\n",
            "30/30 - 1s - loss: 2.2540 - categorical_accuracy: 0.2648 - val_loss: 2.4329 - val_categorical_accuracy: 0.2095 - 879ms/epoch - 29ms/step\n",
            "Epoch 26/100\n",
            "30/30 - 1s - loss: 2.1785 - categorical_accuracy: 0.2959 - val_loss: 2.4300 - val_categorical_accuracy: 0.2762 - 875ms/epoch - 29ms/step\n",
            "Epoch 27/100\n",
            "30/30 - 1s - loss: 2.1402 - categorical_accuracy: 0.3112 - val_loss: 2.3739 - val_categorical_accuracy: 0.2333 - 808ms/epoch - 27ms/step\n",
            "Epoch 28/100\n",
            "30/30 - 1s - loss: 2.0855 - categorical_accuracy: 0.3043 - val_loss: 2.3054 - val_categorical_accuracy: 0.2429 - 815ms/epoch - 27ms/step\n",
            "Epoch 29/100\n",
            "30/30 - 1s - loss: 2.0839 - categorical_accuracy: 0.3249 - val_loss: 2.2712 - val_categorical_accuracy: 0.3476 - 860ms/epoch - 29ms/step\n",
            "Epoch 30/100\n",
            "30/30 - 1s - loss: 2.0423 - categorical_accuracy: 0.3370 - val_loss: 2.2411 - val_categorical_accuracy: 0.3238 - 875ms/epoch - 29ms/step\n",
            "Epoch 31/100\n",
            "30/30 - 1s - loss: 2.0038 - categorical_accuracy: 0.3323 - val_loss: 2.2168 - val_categorical_accuracy: 0.3095 - 867ms/epoch - 29ms/step\n",
            "Epoch 32/100\n",
            "30/30 - 1s - loss: 1.9770 - categorical_accuracy: 0.3507 - val_loss: 2.2904 - val_categorical_accuracy: 0.2905 - 809ms/epoch - 27ms/step\n",
            "Epoch 33/100\n",
            "30/30 - 1s - loss: 1.9317 - categorical_accuracy: 0.3602 - val_loss: 2.2554 - val_categorical_accuracy: 0.2952 - 837ms/epoch - 28ms/step\n",
            "Epoch 34/100\n",
            "30/30 - 1s - loss: 1.8691 - categorical_accuracy: 0.3797 - val_loss: 2.1411 - val_categorical_accuracy: 0.3429 - 861ms/epoch - 29ms/step\n",
            "Epoch 35/100\n",
            "30/30 - 1s - loss: 1.8352 - categorical_accuracy: 0.3935 - val_loss: 2.0744 - val_categorical_accuracy: 0.3619 - 846ms/epoch - 28ms/step\n",
            "Epoch 36/100\n",
            "30/30 - 1s - loss: 1.8123 - categorical_accuracy: 0.4109 - val_loss: 2.0877 - val_categorical_accuracy: 0.4000 - 844ms/epoch - 28ms/step\n",
            "Epoch 37/100\n",
            "30/30 - 1s - loss: 1.7382 - categorical_accuracy: 0.4193 - val_loss: 2.0249 - val_categorical_accuracy: 0.3619 - 868ms/epoch - 29ms/step\n",
            "Epoch 38/100\n",
            "30/30 - 1s - loss: 1.7169 - categorical_accuracy: 0.4225 - val_loss: 1.9820 - val_categorical_accuracy: 0.4143 - 799ms/epoch - 27ms/step\n",
            "Epoch 39/100\n",
            "30/30 - 1s - loss: 1.7254 - categorical_accuracy: 0.4214 - val_loss: 2.0254 - val_categorical_accuracy: 0.3381 - 823ms/epoch - 27ms/step\n",
            "Epoch 40/100\n",
            "30/30 - 1s - loss: 1.6664 - categorical_accuracy: 0.4599 - val_loss: 1.8632 - val_categorical_accuracy: 0.4048 - 881ms/epoch - 29ms/step\n",
            "Epoch 41/100\n",
            "30/30 - 1s - loss: 1.5830 - categorical_accuracy: 0.4720 - val_loss: 1.8534 - val_categorical_accuracy: 0.4333 - 850ms/epoch - 28ms/step\n",
            "Epoch 42/100\n",
            "30/30 - 1s - loss: 1.5336 - categorical_accuracy: 0.4968 - val_loss: 1.8252 - val_categorical_accuracy: 0.4524 - 843ms/epoch - 28ms/step\n",
            "Epoch 43/100\n",
            "30/30 - 1s - loss: 1.5238 - categorical_accuracy: 0.4947 - val_loss: 1.8051 - val_categorical_accuracy: 0.3810 - 870ms/epoch - 29ms/step\n",
            "Epoch 44/100\n",
            "30/30 - 1s - loss: 1.4942 - categorical_accuracy: 0.5095 - val_loss: 1.8455 - val_categorical_accuracy: 0.4190 - 862ms/epoch - 29ms/step\n",
            "Epoch 45/100\n",
            "30/30 - 1s - loss: 1.5192 - categorical_accuracy: 0.4873 - val_loss: 1.7710 - val_categorical_accuracy: 0.4952 - 848ms/epoch - 28ms/step\n",
            "Epoch 46/100\n",
            "30/30 - 1s - loss: 1.3923 - categorical_accuracy: 0.5390 - val_loss: 1.7513 - val_categorical_accuracy: 0.4524 - 873ms/epoch - 29ms/step\n",
            "Epoch 47/100\n",
            "30/30 - 1s - loss: 1.3744 - categorical_accuracy: 0.5622 - val_loss: 1.6569 - val_categorical_accuracy: 0.5429 - 831ms/epoch - 28ms/step\n",
            "Epoch 48/100\n",
            "30/30 - 1s - loss: 1.3451 - categorical_accuracy: 0.5659 - val_loss: 1.6784 - val_categorical_accuracy: 0.5381 - 815ms/epoch - 27ms/step\n",
            "Epoch 49/100\n",
            "30/30 - 1s - loss: 1.2626 - categorical_accuracy: 0.6086 - val_loss: 1.5751 - val_categorical_accuracy: 0.5524 - 819ms/epoch - 27ms/step\n",
            "Epoch 50/100\n",
            "30/30 - 1s - loss: 1.1971 - categorical_accuracy: 0.6276 - val_loss: 1.6533 - val_categorical_accuracy: 0.5857 - 827ms/epoch - 28ms/step\n",
            "Epoch 51/100\n",
            "30/30 - 1s - loss: 1.1637 - categorical_accuracy: 0.6493 - val_loss: 1.6042 - val_categorical_accuracy: 0.5905 - 837ms/epoch - 28ms/step\n",
            "Epoch 52/100\n",
            "30/30 - 1s - loss: 1.1758 - categorical_accuracy: 0.6424 - val_loss: 1.5614 - val_categorical_accuracy: 0.5524 - 831ms/epoch - 28ms/step\n",
            "Epoch 53/100\n",
            "30/30 - 1s - loss: 1.1463 - categorical_accuracy: 0.6598 - val_loss: 1.5027 - val_categorical_accuracy: 0.6429 - 841ms/epoch - 28ms/step\n",
            "Epoch 54/100\n",
            "30/30 - 1s - loss: 1.1140 - categorical_accuracy: 0.6672 - val_loss: 1.4620 - val_categorical_accuracy: 0.6048 - 867ms/epoch - 29ms/step\n",
            "Epoch 55/100\n",
            "30/30 - 1s - loss: 1.0643 - categorical_accuracy: 0.6946 - val_loss: 1.4023 - val_categorical_accuracy: 0.6381 - 851ms/epoch - 28ms/step\n",
            "Epoch 56/100\n",
            "30/30 - 1s - loss: 1.0013 - categorical_accuracy: 0.7331 - val_loss: 1.3798 - val_categorical_accuracy: 0.6619 - 883ms/epoch - 29ms/step\n",
            "Epoch 57/100\n",
            "30/30 - 1s - loss: 1.0172 - categorical_accuracy: 0.6957 - val_loss: 1.4876 - val_categorical_accuracy: 0.5905 - 851ms/epoch - 28ms/step\n",
            "Epoch 58/100\n",
            "30/30 - 1s - loss: 0.9931 - categorical_accuracy: 0.7083 - val_loss: 1.3572 - val_categorical_accuracy: 0.7381 - 858ms/epoch - 29ms/step\n",
            "Epoch 59/100\n",
            "30/30 - 1s - loss: 0.9387 - categorical_accuracy: 0.7463 - val_loss: 1.2659 - val_categorical_accuracy: 0.8000 - 853ms/epoch - 28ms/step\n",
            "Epoch 60/100\n",
            "30/30 - 1s - loss: 0.8836 - categorical_accuracy: 0.7664 - val_loss: 1.3724 - val_categorical_accuracy: 0.6952 - 852ms/epoch - 28ms/step\n",
            "Epoch 61/100\n",
            "30/30 - 1s - loss: 0.8717 - categorical_accuracy: 0.7637 - val_loss: 1.2684 - val_categorical_accuracy: 0.7381 - 847ms/epoch - 28ms/step\n",
            "Epoch 62/100\n",
            "30/30 - 1s - loss: 0.8363 - categorical_accuracy: 0.7832 - val_loss: 1.2622 - val_categorical_accuracy: 0.6905 - 841ms/epoch - 28ms/step\n",
            "Epoch 63/100\n",
            "30/30 - 1s - loss: 0.9523 - categorical_accuracy: 0.7215 - val_loss: 1.3885 - val_categorical_accuracy: 0.6905 - 870ms/epoch - 29ms/step\n",
            "Epoch 64/100\n",
            "30/30 - 1s - loss: 0.8727 - categorical_accuracy: 0.7621 - val_loss: 1.2289 - val_categorical_accuracy: 0.7714 - 867ms/epoch - 29ms/step\n",
            "Epoch 65/100\n",
            "30/30 - 1s - loss: 0.7595 - categorical_accuracy: 0.8054 - val_loss: 1.1996 - val_categorical_accuracy: 0.7381 - 851ms/epoch - 28ms/step\n",
            "Epoch 66/100\n",
            "30/30 - 1s - loss: 0.7235 - categorical_accuracy: 0.8333 - val_loss: 1.1856 - val_categorical_accuracy: 0.7714 - 858ms/epoch - 29ms/step\n",
            "Epoch 67/100\n",
            "30/30 - 1s - loss: 0.6987 - categorical_accuracy: 0.8275 - val_loss: 1.1444 - val_categorical_accuracy: 0.7714 - 873ms/epoch - 29ms/step\n",
            "Epoch 68/100\n",
            "30/30 - 1s - loss: 0.6726 - categorical_accuracy: 0.8259 - val_loss: 1.0877 - val_categorical_accuracy: 0.7810 - 813ms/epoch - 27ms/step\n",
            "Epoch 69/100\n",
            "30/30 - 1s - loss: 0.6709 - categorical_accuracy: 0.8349 - val_loss: 1.1134 - val_categorical_accuracy: 0.7810 - 831ms/epoch - 28ms/step\n",
            "Epoch 70/100\n",
            "30/30 - 1s - loss: 0.6245 - categorical_accuracy: 0.8397 - val_loss: 1.1200 - val_categorical_accuracy: 0.7905 - 882ms/epoch - 29ms/step\n",
            "Epoch 71/100\n",
            "30/30 - 1s - loss: 0.6365 - categorical_accuracy: 0.8402 - val_loss: 1.0273 - val_categorical_accuracy: 0.8190 - 850ms/epoch - 28ms/step\n",
            "Epoch 72/100\n",
            "30/30 - 1s - loss: 0.5938 - categorical_accuracy: 0.8481 - val_loss: 1.0199 - val_categorical_accuracy: 0.8190 - 861ms/epoch - 29ms/step\n",
            "Epoch 73/100\n",
            "30/30 - 1s - loss: 0.5858 - categorical_accuracy: 0.8465 - val_loss: 1.0137 - val_categorical_accuracy: 0.8238 - 844ms/epoch - 28ms/step\n",
            "Epoch 74/100\n",
            "30/30 - 1s - loss: 0.5490 - categorical_accuracy: 0.8671 - val_loss: 1.0310 - val_categorical_accuracy: 0.8048 - 980ms/epoch - 33ms/step\n",
            "Epoch 75/100\n",
            "30/30 - 1s - loss: 0.5488 - categorical_accuracy: 0.8613 - val_loss: 0.9570 - val_categorical_accuracy: 0.8238 - 856ms/epoch - 29ms/step\n",
            "Epoch 76/100\n",
            "30/30 - 1s - loss: 0.5314 - categorical_accuracy: 0.8597 - val_loss: 0.9807 - val_categorical_accuracy: 0.7667 - 823ms/epoch - 27ms/step\n",
            "Epoch 77/100\n",
            "30/30 - 1s - loss: 0.5647 - categorical_accuracy: 0.8486 - val_loss: 0.9482 - val_categorical_accuracy: 0.8190 - 842ms/epoch - 28ms/step\n",
            "Epoch 78/100\n",
            "30/30 - 1s - loss: 0.5531 - categorical_accuracy: 0.8528 - val_loss: 1.0219 - val_categorical_accuracy: 0.7762 - 842ms/epoch - 28ms/step\n",
            "Epoch 79/100\n",
            "30/30 - 1s - loss: 0.5486 - categorical_accuracy: 0.8518 - val_loss: 0.9915 - val_categorical_accuracy: 0.8333 - 866ms/epoch - 29ms/step\n",
            "Epoch 80/100\n",
            "30/30 - 1s - loss: 0.5167 - categorical_accuracy: 0.8724 - val_loss: 0.9786 - val_categorical_accuracy: 0.7952 - 839ms/epoch - 28ms/step\n",
            "Epoch 81/100\n",
            "30/30 - 1s - loss: 0.4925 - categorical_accuracy: 0.8692 - val_loss: 1.0337 - val_categorical_accuracy: 0.7571 - 854ms/epoch - 28ms/step\n",
            "Epoch 82/100\n",
            "30/30 - 1s - loss: 0.4782 - categorical_accuracy: 0.8739 - val_loss: 0.8761 - val_categorical_accuracy: 0.8333 - 853ms/epoch - 28ms/step\n",
            "Epoch 83/100\n",
            "30/30 - 1s - loss: 0.4608 - categorical_accuracy: 0.8882 - val_loss: 0.8507 - val_categorical_accuracy: 0.8238 - 824ms/epoch - 27ms/step\n",
            "Epoch 84/100\n",
            "30/30 - 1s - loss: 0.4550 - categorical_accuracy: 0.8776 - val_loss: 0.9114 - val_categorical_accuracy: 0.8286 - 813ms/epoch - 27ms/step\n",
            "Epoch 85/100\n",
            "30/30 - 1s - loss: 0.4370 - categorical_accuracy: 0.8871 - val_loss: 0.8944 - val_categorical_accuracy: 0.8143 - 843ms/epoch - 28ms/step\n",
            "Epoch 86/100\n",
            "30/30 - 1s - loss: 0.4193 - categorical_accuracy: 0.8924 - val_loss: 0.8477 - val_categorical_accuracy: 0.8286 - 810ms/epoch - 27ms/step\n",
            "Epoch 87/100\n",
            "30/30 - 1s - loss: 0.4376 - categorical_accuracy: 0.8824 - val_loss: 0.8263 - val_categorical_accuracy: 0.8524 - 816ms/epoch - 27ms/step\n",
            "Epoch 88/100\n",
            "30/30 - 1s - loss: 0.4034 - categorical_accuracy: 0.8919 - val_loss: 0.8950 - val_categorical_accuracy: 0.8190 - 835ms/epoch - 28ms/step\n",
            "Epoch 89/100\n",
            "30/30 - 1s - loss: 0.3854 - categorical_accuracy: 0.8987 - val_loss: 0.8191 - val_categorical_accuracy: 0.8381 - 887ms/epoch - 30ms/step\n",
            "Epoch 90/100\n",
            "30/30 - 1s - loss: 0.4157 - categorical_accuracy: 0.8882 - val_loss: 0.9340 - val_categorical_accuracy: 0.7952 - 847ms/epoch - 28ms/step\n",
            "Epoch 91/100\n",
            "30/30 - 1s - loss: 0.4285 - categorical_accuracy: 0.8724 - val_loss: 0.8459 - val_categorical_accuracy: 0.8714 - 851ms/epoch - 28ms/step\n",
            "Epoch 92/100\n",
            "30/30 - 1s - loss: 0.4472 - categorical_accuracy: 0.8634 - val_loss: 0.8320 - val_categorical_accuracy: 0.8476 - 822ms/epoch - 27ms/step\n",
            "Epoch 93/100\n",
            "30/30 - 1s - loss: 0.3821 - categorical_accuracy: 0.8961 - val_loss: 0.7861 - val_categorical_accuracy: 0.8429 - 874ms/epoch - 29ms/step\n",
            "Epoch 94/100\n",
            "30/30 - 1s - loss: 0.3553 - categorical_accuracy: 0.9040 - val_loss: 0.7912 - val_categorical_accuracy: 0.8714 - 842ms/epoch - 28ms/step\n",
            "Epoch 95/100\n",
            "30/30 - 1s - loss: 0.3286 - categorical_accuracy: 0.9140 - val_loss: 0.7800 - val_categorical_accuracy: 0.8714 - 829ms/epoch - 28ms/step\n",
            "Epoch 96/100\n",
            "30/30 - 1s - loss: 0.3489 - categorical_accuracy: 0.9040 - val_loss: 0.8199 - val_categorical_accuracy: 0.8714 - 829ms/epoch - 28ms/step\n",
            "Epoch 97/100\n",
            "30/30 - 1s - loss: 0.3576 - categorical_accuracy: 0.9008 - val_loss: 0.7872 - val_categorical_accuracy: 0.8714 - 841ms/epoch - 28ms/step\n",
            "Epoch 98/100\n",
            "30/30 - 1s - loss: 0.3382 - categorical_accuracy: 0.8982 - val_loss: 0.7884 - val_categorical_accuracy: 0.8429 - 867ms/epoch - 29ms/step\n",
            "Epoch 99/100\n",
            "30/30 - 1s - loss: 0.3466 - categorical_accuracy: 0.9003 - val_loss: 0.8332 - val_categorical_accuracy: 0.7952 - 833ms/epoch - 28ms/step\n",
            "Epoch 100/100\n",
            "30/30 - 1s - loss: 0.3315 - categorical_accuracy: 0.9056 - val_loss: 0.7367 - val_categorical_accuracy: 0.8714 - 854ms/epoch - 28ms/step\n"
          ]
        }
      ]
    },
    {
      "cell_type": "code",
      "source": [
        "reverse_model, reverse_history, _ = build_model(training_sequences_reversed, model_type)"
      ],
      "metadata": {
        "colab": {
          "base_uri": "https://localhost:8080/"
        },
        "id": "2aU1pi5fR3Iq",
        "outputId": "9164d686-39dc-4f8e-e6b3-e290918820b9"
      },
      "execution_count": 33,
      "outputs": [
        {
          "output_type": "stream",
          "name": "stdout",
          "text": [
            "Epoch 1/100\n",
            "30/30 - 3s - loss: 2.9153 - categorical_accuracy: 0.1023 - val_loss: 2.8723 - val_categorical_accuracy: 0.0952 - 3s/epoch - 113ms/step\n",
            "Epoch 2/100\n",
            "30/30 - 1s - loss: 2.8269 - categorical_accuracy: 0.1535 - val_loss: 2.8440 - val_categorical_accuracy: 0.0952 - 808ms/epoch - 27ms/step\n",
            "Epoch 3/100\n",
            "30/30 - 1s - loss: 2.8175 - categorical_accuracy: 0.1535 - val_loss: 2.8458 - val_categorical_accuracy: 0.0952 - 824ms/epoch - 27ms/step\n",
            "Epoch 4/100\n",
            "30/30 - 1s - loss: 2.8086 - categorical_accuracy: 0.1535 - val_loss: 2.8305 - val_categorical_accuracy: 0.0952 - 867ms/epoch - 29ms/step\n",
            "Epoch 5/100\n",
            "30/30 - 1s - loss: 2.8063 - categorical_accuracy: 0.1535 - val_loss: 2.8610 - val_categorical_accuracy: 0.0952 - 839ms/epoch - 28ms/step\n",
            "Epoch 6/100\n",
            "30/30 - 1s - loss: 2.7946 - categorical_accuracy: 0.1535 - val_loss: 2.8235 - val_categorical_accuracy: 0.0952 - 845ms/epoch - 28ms/step\n",
            "Epoch 7/100\n",
            "30/30 - 1s - loss: 2.7810 - categorical_accuracy: 0.1535 - val_loss: 2.8185 - val_categorical_accuracy: 0.1095 - 798ms/epoch - 27ms/step\n",
            "Epoch 8/100\n",
            "30/30 - 1s - loss: 2.7736 - categorical_accuracy: 0.1556 - val_loss: 2.8129 - val_categorical_accuracy: 0.1143 - 824ms/epoch - 27ms/step\n",
            "Epoch 9/100\n",
            "30/30 - 1s - loss: 2.7565 - categorical_accuracy: 0.1582 - val_loss: 2.7990 - val_categorical_accuracy: 0.1190 - 826ms/epoch - 28ms/step\n",
            "Epoch 10/100\n",
            "30/30 - 1s - loss: 2.7359 - categorical_accuracy: 0.1572 - val_loss: 2.7813 - val_categorical_accuracy: 0.1000 - 824ms/epoch - 27ms/step\n",
            "Epoch 11/100\n",
            "30/30 - 1s - loss: 2.7063 - categorical_accuracy: 0.1635 - val_loss: 2.7341 - val_categorical_accuracy: 0.1190 - 800ms/epoch - 27ms/step\n",
            "Epoch 12/100\n",
            "30/30 - 1s - loss: 2.6672 - categorical_accuracy: 0.1783 - val_loss: 2.6968 - val_categorical_accuracy: 0.1429 - 818ms/epoch - 27ms/step\n",
            "Epoch 13/100\n",
            "30/30 - 1s - loss: 2.6261 - categorical_accuracy: 0.1888 - val_loss: 2.6832 - val_categorical_accuracy: 0.1286 - 807ms/epoch - 27ms/step\n",
            "Epoch 14/100\n",
            "30/30 - 1s - loss: 2.5803 - categorical_accuracy: 0.1835 - val_loss: 2.6447 - val_categorical_accuracy: 0.1333 - 807ms/epoch - 27ms/step\n",
            "Epoch 15/100\n",
            "30/30 - 1s - loss: 2.5590 - categorical_accuracy: 0.1814 - val_loss: 2.5656 - val_categorical_accuracy: 0.2095 - 787ms/epoch - 26ms/step\n",
            "Epoch 16/100\n",
            "30/30 - 1s - loss: 2.4789 - categorical_accuracy: 0.2242 - val_loss: 2.5005 - val_categorical_accuracy: 0.2571 - 793ms/epoch - 26ms/step\n",
            "Epoch 17/100\n",
            "30/30 - 1s - loss: 2.4169 - categorical_accuracy: 0.2363 - val_loss: 2.4186 - val_categorical_accuracy: 0.2762 - 832ms/epoch - 28ms/step\n",
            "Epoch 18/100\n",
            "30/30 - 1s - loss: 2.3896 - categorical_accuracy: 0.2574 - val_loss: 2.4341 - val_categorical_accuracy: 0.2619 - 843ms/epoch - 28ms/step\n",
            "Epoch 19/100\n",
            "30/30 - 1s - loss: 2.3360 - categorical_accuracy: 0.2616 - val_loss: 2.4317 - val_categorical_accuracy: 0.2762 - 806ms/epoch - 27ms/step\n",
            "Epoch 20/100\n",
            "30/30 - 1s - loss: 2.3092 - categorical_accuracy: 0.2447 - val_loss: 2.3763 - val_categorical_accuracy: 0.2667 - 847ms/epoch - 28ms/step\n",
            "Epoch 21/100\n",
            "30/30 - 1s - loss: 2.2679 - categorical_accuracy: 0.2664 - val_loss: 2.3460 - val_categorical_accuracy: 0.2667 - 811ms/epoch - 27ms/step\n",
            "Epoch 22/100\n",
            "30/30 - 1s - loss: 2.2243 - categorical_accuracy: 0.2790 - val_loss: 2.3540 - val_categorical_accuracy: 0.3048 - 807ms/epoch - 27ms/step\n",
            "Epoch 23/100\n",
            "30/30 - 1s - loss: 2.2049 - categorical_accuracy: 0.2927 - val_loss: 2.3864 - val_categorical_accuracy: 0.2714 - 815ms/epoch - 27ms/step\n",
            "Epoch 24/100\n",
            "30/30 - 1s - loss: 2.1650 - categorical_accuracy: 0.3117 - val_loss: 2.3281 - val_categorical_accuracy: 0.3048 - 825ms/epoch - 27ms/step\n",
            "Epoch 25/100\n",
            "30/30 - 1s - loss: 2.1424 - categorical_accuracy: 0.2964 - val_loss: 2.2624 - val_categorical_accuracy: 0.3238 - 833ms/epoch - 28ms/step\n",
            "Epoch 26/100\n",
            "30/30 - 1s - loss: 2.0759 - categorical_accuracy: 0.3418 - val_loss: 2.2942 - val_categorical_accuracy: 0.2762 - 888ms/epoch - 30ms/step\n",
            "Epoch 27/100\n",
            "30/30 - 1s - loss: 2.0609 - categorical_accuracy: 0.3360 - val_loss: 2.2303 - val_categorical_accuracy: 0.3333 - 860ms/epoch - 29ms/step\n",
            "Epoch 28/100\n",
            "30/30 - 1s - loss: 2.0192 - categorical_accuracy: 0.3376 - val_loss: 2.1974 - val_categorical_accuracy: 0.2857 - 863ms/epoch - 29ms/step\n",
            "Epoch 29/100\n",
            "30/30 - 1s - loss: 1.9755 - categorical_accuracy: 0.3676 - val_loss: 2.1494 - val_categorical_accuracy: 0.3762 - 815ms/epoch - 27ms/step\n",
            "Epoch 30/100\n",
            "30/30 - 1s - loss: 1.9183 - categorical_accuracy: 0.3745 - val_loss: 2.1643 - val_categorical_accuracy: 0.3190 - 954ms/epoch - 32ms/step\n",
            "Epoch 31/100\n",
            "30/30 - 1s - loss: 1.9221 - categorical_accuracy: 0.3776 - val_loss: 2.0871 - val_categorical_accuracy: 0.3810 - 848ms/epoch - 28ms/step\n",
            "Epoch 32/100\n",
            "30/30 - 1s - loss: 1.8863 - categorical_accuracy: 0.3866 - val_loss: 2.0255 - val_categorical_accuracy: 0.4381 - 850ms/epoch - 28ms/step\n",
            "Epoch 33/100\n",
            "30/30 - 1s - loss: 1.8004 - categorical_accuracy: 0.4383 - val_loss: 2.0366 - val_categorical_accuracy: 0.4190 - 830ms/epoch - 28ms/step\n",
            "Epoch 34/100\n",
            "30/30 - 1s - loss: 1.8276 - categorical_accuracy: 0.4066 - val_loss: 2.0877 - val_categorical_accuracy: 0.3429 - 828ms/epoch - 28ms/step\n",
            "Epoch 35/100\n",
            "30/30 - 1s - loss: 1.7966 - categorical_accuracy: 0.4177 - val_loss: 1.9548 - val_categorical_accuracy: 0.4286 - 833ms/epoch - 28ms/step\n",
            "Epoch 36/100\n",
            "30/30 - 1s - loss: 1.7244 - categorical_accuracy: 0.4536 - val_loss: 2.0222 - val_categorical_accuracy: 0.3857 - 806ms/epoch - 27ms/step\n",
            "Epoch 37/100\n",
            "30/30 - 1s - loss: 1.7163 - categorical_accuracy: 0.4357 - val_loss: 1.9520 - val_categorical_accuracy: 0.4048 - 829ms/epoch - 28ms/step\n",
            "Epoch 38/100\n",
            "30/30 - 1s - loss: 1.6758 - categorical_accuracy: 0.4457 - val_loss: 1.9635 - val_categorical_accuracy: 0.4238 - 838ms/epoch - 28ms/step\n",
            "Epoch 39/100\n",
            "30/30 - 1s - loss: 1.6263 - categorical_accuracy: 0.4747 - val_loss: 1.9054 - val_categorical_accuracy: 0.3857 - 837ms/epoch - 28ms/step\n",
            "Epoch 40/100\n",
            "30/30 - 1s - loss: 1.5801 - categorical_accuracy: 0.4810 - val_loss: 1.8624 - val_categorical_accuracy: 0.4619 - 837ms/epoch - 28ms/step\n",
            "Epoch 41/100\n",
            "30/30 - 1s - loss: 1.5936 - categorical_accuracy: 0.4815 - val_loss: 1.8755 - val_categorical_accuracy: 0.4381 - 827ms/epoch - 28ms/step\n",
            "Epoch 42/100\n",
            "30/30 - 1s - loss: 1.5280 - categorical_accuracy: 0.5306 - val_loss: 1.7911 - val_categorical_accuracy: 0.4714 - 856ms/epoch - 29ms/step\n",
            "Epoch 43/100\n",
            "30/30 - 1s - loss: 1.4993 - categorical_accuracy: 0.5306 - val_loss: 1.7360 - val_categorical_accuracy: 0.5048 - 833ms/epoch - 28ms/step\n",
            "Epoch 44/100\n",
            "30/30 - 1s - loss: 1.4335 - categorical_accuracy: 0.5538 - val_loss: 1.7348 - val_categorical_accuracy: 0.5095 - 815ms/epoch - 27ms/step\n",
            "Epoch 45/100\n",
            "30/30 - 1s - loss: 1.4333 - categorical_accuracy: 0.5417 - val_loss: 1.7967 - val_categorical_accuracy: 0.4762 - 841ms/epoch - 28ms/step\n",
            "Epoch 46/100\n",
            "30/30 - 1s - loss: 1.4101 - categorical_accuracy: 0.5564 - val_loss: 1.7371 - val_categorical_accuracy: 0.5095 - 812ms/epoch - 27ms/step\n",
            "Epoch 47/100\n",
            "30/30 - 1s - loss: 1.3935 - categorical_accuracy: 0.5543 - val_loss: 1.6578 - val_categorical_accuracy: 0.5524 - 800ms/epoch - 27ms/step\n",
            "Epoch 48/100\n",
            "30/30 - 1s - loss: 1.3380 - categorical_accuracy: 0.5723 - val_loss: 1.6630 - val_categorical_accuracy: 0.5714 - 824ms/epoch - 27ms/step\n",
            "Epoch 49/100\n",
            "30/30 - 1s - loss: 1.2678 - categorical_accuracy: 0.6034 - val_loss: 1.6212 - val_categorical_accuracy: 0.5810 - 808ms/epoch - 27ms/step\n",
            "Epoch 50/100\n",
            "30/30 - 1s - loss: 1.2228 - categorical_accuracy: 0.6187 - val_loss: 1.5967 - val_categorical_accuracy: 0.5762 - 799ms/epoch - 27ms/step\n",
            "Epoch 51/100\n",
            "30/30 - 1s - loss: 1.2171 - categorical_accuracy: 0.6171 - val_loss: 1.5782 - val_categorical_accuracy: 0.5524 - 789ms/epoch - 26ms/step\n",
            "Epoch 52/100\n",
            "30/30 - 1s - loss: 1.1676 - categorical_accuracy: 0.6414 - val_loss: 1.5507 - val_categorical_accuracy: 0.5952 - 793ms/epoch - 26ms/step\n",
            "Epoch 53/100\n",
            "30/30 - 1s - loss: 1.1352 - categorical_accuracy: 0.6435 - val_loss: 1.4967 - val_categorical_accuracy: 0.5429 - 842ms/epoch - 28ms/step\n",
            "Epoch 54/100\n",
            "30/30 - 1s - loss: 1.1441 - categorical_accuracy: 0.6498 - val_loss: 1.4944 - val_categorical_accuracy: 0.6381 - 815ms/epoch - 27ms/step\n",
            "Epoch 55/100\n",
            "30/30 - 1s - loss: 1.0465 - categorical_accuracy: 0.6978 - val_loss: 1.4448 - val_categorical_accuracy: 0.5762 - 788ms/epoch - 26ms/step\n",
            "Epoch 56/100\n",
            "30/30 - 1s - loss: 0.9996 - categorical_accuracy: 0.7046 - val_loss: 1.3608 - val_categorical_accuracy: 0.6619 - 803ms/epoch - 27ms/step\n",
            "Epoch 57/100\n",
            "30/30 - 1s - loss: 0.9817 - categorical_accuracy: 0.7199 - val_loss: 1.3636 - val_categorical_accuracy: 0.6857 - 831ms/epoch - 28ms/step\n",
            "Epoch 58/100\n",
            "30/30 - 1s - loss: 0.9196 - categorical_accuracy: 0.7489 - val_loss: 1.3365 - val_categorical_accuracy: 0.6905 - 821ms/epoch - 27ms/step\n",
            "Epoch 59/100\n",
            "30/30 - 1s - loss: 0.9579 - categorical_accuracy: 0.7141 - val_loss: 1.2875 - val_categorical_accuracy: 0.6952 - 832ms/epoch - 28ms/step\n",
            "Epoch 60/100\n",
            "30/30 - 1s - loss: 0.8919 - categorical_accuracy: 0.7384 - val_loss: 1.2736 - val_categorical_accuracy: 0.7095 - 796ms/epoch - 27ms/step\n",
            "Epoch 61/100\n",
            "30/30 - 1s - loss: 0.8723 - categorical_accuracy: 0.7558 - val_loss: 1.2993 - val_categorical_accuracy: 0.7048 - 829ms/epoch - 28ms/step\n",
            "Epoch 62/100\n",
            "30/30 - 1s - loss: 0.8357 - categorical_accuracy: 0.7574 - val_loss: 1.2445 - val_categorical_accuracy: 0.7238 - 825ms/epoch - 27ms/step\n",
            "Epoch 63/100\n",
            "30/30 - 1s - loss: 0.8075 - categorical_accuracy: 0.7642 - val_loss: 1.2184 - val_categorical_accuracy: 0.7000 - 843ms/epoch - 28ms/step\n",
            "Epoch 64/100\n",
            "30/30 - 1s - loss: 0.7588 - categorical_accuracy: 0.7948 - val_loss: 1.2304 - val_categorical_accuracy: 0.6952 - 818ms/epoch - 27ms/step\n",
            "Epoch 65/100\n",
            "30/30 - 1s - loss: 0.7818 - categorical_accuracy: 0.7906 - val_loss: 1.2092 - val_categorical_accuracy: 0.7429 - 794ms/epoch - 26ms/step\n",
            "Epoch 66/100\n",
            "30/30 - 1s - loss: 0.7949 - categorical_accuracy: 0.7669 - val_loss: 1.2041 - val_categorical_accuracy: 0.7286 - 800ms/epoch - 27ms/step\n",
            "Epoch 67/100\n",
            "30/30 - 1s - loss: 0.7392 - categorical_accuracy: 0.7911 - val_loss: 1.1199 - val_categorical_accuracy: 0.7714 - 807ms/epoch - 27ms/step\n",
            "Epoch 68/100\n",
            "30/30 - 1s - loss: 0.7154 - categorical_accuracy: 0.7943 - val_loss: 1.2585 - val_categorical_accuracy: 0.7333 - 851ms/epoch - 28ms/step\n",
            "Epoch 69/100\n",
            "30/30 - 1s - loss: 0.7202 - categorical_accuracy: 0.7859 - val_loss: 1.0772 - val_categorical_accuracy: 0.8000 - 808ms/epoch - 27ms/step\n",
            "Epoch 70/100\n",
            "30/30 - 1s - loss: 0.6610 - categorical_accuracy: 0.8196 - val_loss: 1.1113 - val_categorical_accuracy: 0.7810 - 834ms/epoch - 28ms/step\n",
            "Epoch 71/100\n",
            "30/30 - 1s - loss: 0.6327 - categorical_accuracy: 0.8238 - val_loss: 1.0788 - val_categorical_accuracy: 0.7762 - 808ms/epoch - 27ms/step\n",
            "Epoch 72/100\n",
            "30/30 - 1s - loss: 0.6242 - categorical_accuracy: 0.8312 - val_loss: 1.0941 - val_categorical_accuracy: 0.7810 - 828ms/epoch - 28ms/step\n",
            "Epoch 73/100\n",
            "30/30 - 1s - loss: 0.6296 - categorical_accuracy: 0.8302 - val_loss: 1.0306 - val_categorical_accuracy: 0.8190 - 798ms/epoch - 27ms/step\n",
            "Epoch 74/100\n",
            "30/30 - 1s - loss: 0.6717 - categorical_accuracy: 0.8033 - val_loss: 1.1334 - val_categorical_accuracy: 0.7381 - 815ms/epoch - 27ms/step\n",
            "Epoch 75/100\n",
            "30/30 - 1s - loss: 0.5661 - categorical_accuracy: 0.8550 - val_loss: 1.0402 - val_categorical_accuracy: 0.8190 - 799ms/epoch - 27ms/step\n",
            "Epoch 76/100\n",
            "30/30 - 1s - loss: 0.5459 - categorical_accuracy: 0.8560 - val_loss: 1.0107 - val_categorical_accuracy: 0.8619 - 789ms/epoch - 26ms/step\n",
            "Epoch 77/100\n",
            "30/30 - 1s - loss: 0.5624 - categorical_accuracy: 0.8581 - val_loss: 1.0529 - val_categorical_accuracy: 0.8190 - 790ms/epoch - 26ms/step\n",
            "Epoch 78/100\n",
            "30/30 - 1s - loss: 0.5285 - categorical_accuracy: 0.8645 - val_loss: 1.0812 - val_categorical_accuracy: 0.7524 - 852ms/epoch - 28ms/step\n",
            "Epoch 79/100\n",
            "30/30 - 1s - loss: 0.5547 - categorical_accuracy: 0.8497 - val_loss: 1.0822 - val_categorical_accuracy: 0.8048 - 805ms/epoch - 27ms/step\n",
            "Epoch 80/100\n",
            "30/30 - 1s - loss: 0.4783 - categorical_accuracy: 0.8898 - val_loss: 0.9388 - val_categorical_accuracy: 0.8619 - 816ms/epoch - 27ms/step\n",
            "Epoch 81/100\n",
            "30/30 - 1s - loss: 0.4504 - categorical_accuracy: 0.8950 - val_loss: 0.9716 - val_categorical_accuracy: 0.8333 - 835ms/epoch - 28ms/step\n",
            "Epoch 82/100\n",
            "30/30 - 1s - loss: 0.4685 - categorical_accuracy: 0.8787 - val_loss: 1.1155 - val_categorical_accuracy: 0.7619 - 814ms/epoch - 27ms/step\n",
            "Epoch 83/100\n",
            "30/30 - 1s - loss: 0.4463 - categorical_accuracy: 0.8903 - val_loss: 0.9117 - val_categorical_accuracy: 0.8619 - 793ms/epoch - 26ms/step\n",
            "Epoch 84/100\n",
            "30/30 - 1s - loss: 0.4066 - categorical_accuracy: 0.9109 - val_loss: 0.9381 - val_categorical_accuracy: 0.8429 - 833ms/epoch - 28ms/step\n",
            "Epoch 85/100\n",
            "30/30 - 1s - loss: 0.3946 - categorical_accuracy: 0.9135 - val_loss: 0.9464 - val_categorical_accuracy: 0.8667 - 764ms/epoch - 25ms/step\n",
            "Epoch 86/100\n",
            "30/30 - 1s - loss: 0.4276 - categorical_accuracy: 0.8834 - val_loss: 0.8992 - val_categorical_accuracy: 0.8667 - 830ms/epoch - 28ms/step\n",
            "Epoch 87/100\n",
            "30/30 - 1s - loss: 0.4013 - categorical_accuracy: 0.8998 - val_loss: 0.9959 - val_categorical_accuracy: 0.8476 - 817ms/epoch - 27ms/step\n",
            "Epoch 88/100\n",
            "30/30 - 1s - loss: 0.3843 - categorical_accuracy: 0.9124 - val_loss: 0.9426 - val_categorical_accuracy: 0.8857 - 836ms/epoch - 28ms/step\n",
            "Epoch 89/100\n",
            "30/30 - 1s - loss: 0.3955 - categorical_accuracy: 0.9040 - val_loss: 1.0820 - val_categorical_accuracy: 0.8143 - 800ms/epoch - 27ms/step\n",
            "Epoch 90/100\n",
            "30/30 - 1s - loss: 0.3922 - categorical_accuracy: 0.8935 - val_loss: 0.9043 - val_categorical_accuracy: 0.8619 - 833ms/epoch - 28ms/step\n",
            "Epoch 91/100\n",
            "30/30 - 1s - loss: 0.3347 - categorical_accuracy: 0.9209 - val_loss: 0.8946 - val_categorical_accuracy: 0.8714 - 783ms/epoch - 26ms/step\n",
            "Epoch 92/100\n",
            "30/30 - 1s - loss: 0.5415 - categorical_accuracy: 0.8386 - val_loss: 1.1023 - val_categorical_accuracy: 0.7857 - 786ms/epoch - 26ms/step\n",
            "Epoch 93/100\n",
            "30/30 - 1s - loss: 0.4614 - categorical_accuracy: 0.8713 - val_loss: 0.9775 - val_categorical_accuracy: 0.8476 - 807ms/epoch - 27ms/step\n",
            "Epoch 94/100\n",
            "30/30 - 1s - loss: 0.3467 - categorical_accuracy: 0.9088 - val_loss: 0.8797 - val_categorical_accuracy: 0.8762 - 778ms/epoch - 26ms/step\n",
            "Epoch 95/100\n",
            "30/30 - 1s - loss: 0.3090 - categorical_accuracy: 0.9272 - val_loss: 0.8807 - val_categorical_accuracy: 0.8714 - 797ms/epoch - 27ms/step\n",
            "Epoch 96/100\n",
            "30/30 - 1s - loss: 0.2932 - categorical_accuracy: 0.9219 - val_loss: 0.9136 - val_categorical_accuracy: 0.8619 - 836ms/epoch - 28ms/step\n",
            "Epoch 97/100\n",
            "30/30 - 1s - loss: 0.2927 - categorical_accuracy: 0.9304 - val_loss: 0.9050 - val_categorical_accuracy: 0.8714 - 898ms/epoch - 30ms/step\n",
            "Epoch 98/100\n",
            "30/30 - 1s - loss: 0.2821 - categorical_accuracy: 0.9272 - val_loss: 0.8845 - val_categorical_accuracy: 0.8714 - 822ms/epoch - 27ms/step\n",
            "Epoch 99/100\n",
            "30/30 - 1s - loss: 0.2895 - categorical_accuracy: 0.9246 - val_loss: 0.9521 - val_categorical_accuracy: 0.8714 - 802ms/epoch - 27ms/step\n",
            "Epoch 100/100\n",
            "30/30 - 1s - loss: 0.2784 - categorical_accuracy: 0.9309 - val_loss: 0.9415 - val_categorical_accuracy: 0.8762 - 819ms/epoch - 27ms/step\n"
          ]
        }
      ]
    },
    {
      "cell_type": "code",
      "source": [
        "# Forward model is trained on forward data, tested on forward data\n",
        "testing_pairs = generate_input_output_pairs([target_sequence])\n",
        "testX, testY = preprocess_data(testing_pairs)\n",
        "_, forward_accuracy = forward_model.evaluate(testX, testY)\n",
        "print(f\"Accuracy on Forward Model for {model_name}: {forward_accuracy:.2f}\")"
      ],
      "metadata": {
        "colab": {
          "base_uri": "https://localhost:8080/"
        },
        "id": "qCbzrCOgR96h",
        "outputId": "8a1e3991-bd65-4435-f935-40bb3f4a37c8"
      },
      "execution_count": 34,
      "outputs": [
        {
          "output_type": "stream",
          "name": "stdout",
          "text": [
            "7/7 [==============================] - 0s 7ms/step - loss: 0.1796 - categorical_accuracy: 0.9713\n",
            "Accuracy on Forward Model for LSTM: 0.97\n"
          ]
        }
      ]
    },
    {
      "cell_type": "code",
      "source": [
        "# Reverse model is trained on reverse data, tested on reverse data\n",
        "testing_pairs = generate_input_output_pairs([target_sequence_reversed])\n",
        "testX, testY = preprocess_data(testing_pairs)\n",
        "_, reverse_accuracy = reverse_model.evaluate(testX, testY)\n",
        "print(f\"Accuracy on Reverse Model for {model_name}: {reverse_accuracy:.2f}\")"
      ],
      "metadata": {
        "colab": {
          "base_uri": "https://localhost:8080/"
        },
        "id": "e3Xxfd6WR_5p",
        "outputId": "a23b74bf-8bae-4f86-9098-27c631d34b0f"
      },
      "execution_count": 35,
      "outputs": [
        {
          "output_type": "stream",
          "name": "stdout",
          "text": [
            "7/7 [==============================] - 0s 7ms/step - loss: 0.2076 - categorical_accuracy: 0.9617\n",
            "Accuracy on Reverse Model for LSTM: 0.96\n"
          ]
        }
      ]
    },
    {
      "cell_type": "code",
      "source": [
        "plot_metric(forward_history.history, title=\"Forward\", metric=\"categorical_accuracy\")"
      ],
      "metadata": {
        "colab": {
          "base_uri": "https://localhost:8080/",
          "height": 295
        },
        "id": "LkXVEl0qSGU1",
        "outputId": "1f2d1f4d-da91-40b1-9e8c-43144f0fc396"
      },
      "execution_count": 36,
      "outputs": [
        {
          "output_type": "display_data",
          "data": {
            "text/plain": [
              "<Figure size 432x288 with 1 Axes>"
            ],
            "image/png": "[encoded data removed]"
          },
          "metadata": {
            "needs_background": "light"
          }
        }
      ]
    },
    {
      "cell_type": "code",
      "source": [
        "plot_metric(reverse_history.history, title=\"Reverse\", metric=\"categorical_accuracy\")"
      ],
      "metadata": {
        "colab": {
          "base_uri": "https://localhost:8080/",
          "height": 295
        },
        "id": "i15kBFNqSE7x",
        "outputId": "65767b98-2499-444d-a8f7-4d594aa56e18"
      },
      "execution_count": 37,
      "outputs": [
        {
          "output_type": "display_data",
          "data": {
            "text/plain": [
              "<Figure size 432x288 with 1 Axes>"
            ],
            "image/png": "[encoded data removed]"
          },
          "metadata": {
            "needs_background": "light"
          }
        }
      ]
    },
    {
      "cell_type": "code",
      "source": [
        "plot_metric(forward_history.history, title=\"Forward\", metric=\"loss\")"
      ],
      "metadata": {
        "colab": {
          "base_uri": "https://localhost:8080/",
          "height": 295
        },
        "id": "AKSP6RZSGLiL",
        "outputId": "a4be63f6-f8eb-4059-db91-f425c750bd8b"
      },
      "execution_count": 38,
      "outputs": [
        {
          "output_type": "display_data",
          "data": {
            "text/plain": [
              "<Figure size 432x288 with 1 Axes>"
            ],
            "image/png": "[encoded data removed]"
          },
          "metadata": {
            "needs_background": "light"
          }
        }
      ]
    },
    {
      "cell_type": "code",
      "source": [
        "plot_metric(reverse_history.history, title=\"Reverse\", metric=\"loss\")"
      ],
      "metadata": {
        "colab": {
          "base_uri": "https://localhost:8080/",
          "height": 295
        },
        "id": "cNiHZNzVGId_",
        "outputId": "ed332469-418c-4b70-cf6e-4b8b7971a414"
      },
      "execution_count": 39,
      "outputs": [
        {
          "output_type": "display_data",
          "data": {
            "text/plain": [
              "<Figure size 432x288 with 1 Axes>"
            ],
            "image/png": "[encoded data removed]"
          },
          "metadata": {
            "needs_background": "light"
          }
        }
      ]
    },
    {
      "cell_type": "code",
      "source": [
        "# Now use both models to predict a de novo sequence based on target sequence\n",
        "missing_indices = set([0, 1, 2, 24, 25, 26, 62, 63, 64, 66, 67, 68, 69, 75, 76, 77, 78, 79, 80, 81, 82, 83, 84, 85, 209, 210, 211, 212, 213])\n",
        "de_novo_sequence = \"\".join(c if i not in missing_indices else \"-\" for i, c in enumerate(target_sequence))\n",
        "\n",
        "pred_sequence_full = predict_gaps(de_novo_sequence, forward_model, reverse_model)\n",
        "incorrect_indices = get_nonmatching_indices(target_sequence, pred_sequence_full)\n",
        "correct_indices = missing_indices.difference(incorrect_indices)\n",
        "\n",
        "# Print the three different sequences for visual inspection\n",
        "print_sequence(target_sequence, \"TARGET SEQUENCE\")"
      ],
      "metadata": {
        "colab": {
          "base_uri": "https://localhost:8080/"
        },
        "id": "-KJwEY5dSsN4",
        "outputId": "07b931b1-ef44-45f1-cda3-912d2f6b4443"
      },
      "execution_count": 40,
      "outputs": [
        {
          "output_type": "stream",
          "name": "stdout",
          "text": [
            "TARGET SEQUENCE\n",
            "=====================================================================\n",
            "DIQMTQSPSS\tLSASVGDRVT\tITCKASQNID\tKYLNWYQQKP\n",
            "GKAPKLLIYN\tTNNLQTGVPS\tRFSGSGSGTD\tFTFTISSLQP\n",
            "EDIATYYCLQ\tHISRPRTFGQ\tGTKVEIKRTV\tAAPSVFIFPP\n",
            "SDEQLKSGTA\tSVVCLLNNFY\tPREAKVQWKV\tDNALQSGNSQ\n",
            "ESVTEQDSKD\tSTYSLSSTLT\tLSKADYEKHK\tVYACEVTHQG\n",
            "LSSPVTKSFN\tRGEC\n"
          ]
        }
      ]
    },
    {
      "cell_type": "code",
      "source": [
        "print_sequence(de_novo_sequence,\"DE NOVO SEQUENCE\", missing_indices)"
      ],
      "metadata": {
        "colab": {
          "base_uri": "https://localhost:8080/"
        },
        "id": "T98qnZC9Sz1W",
        "outputId": "11c190c8-96b0-4425-ad9b-8f31f0454e09"
      },
      "execution_count": 41,
      "outputs": [
        {
          "output_type": "stream",
          "name": "stdout",
          "text": [
            "DE NOVO SEQUENCE\n",
            "=====================================================================\n",
            "\u001b[1m\u001b[31m-\u001b[0m\u001b[1m\u001b[31m-\u001b[0m\u001b[1m\u001b[31m-\u001b[0mMTQSPSS\tLSASVGDRVT\tITCK\u001b[1m\u001b[31m-\u001b[0m\u001b[1m\u001b[31m-\u001b[0m\u001b[1m\u001b[31m-\u001b[0mNID\tKYLNWYQQKP\n",
            "GKAPKLLIYN\tTNNLQTGVPS\tRF\u001b[1m\u001b[31m-\u001b[0m\u001b[1m\u001b[31m-\u001b[0m\u001b[1m\u001b[31m-\u001b[0mG\u001b[1m\u001b[31m-\u001b[0m\u001b[1m\u001b[31m-\u001b[0m\u001b[1m\u001b[31m-\u001b[0m\u001b[1m\u001b[31m-\u001b[0m\tFTFTI\u001b[1m\u001b[31m-\u001b[0m\u001b[1m\u001b[31m-\u001b[0m\u001b[1m\u001b[31m-\u001b[0m\u001b[1m\u001b[31m-\u001b[0m\u001b[1m\u001b[31m-\u001b[0m\n",
            "\u001b[1m\u001b[31m-\u001b[0m\u001b[1m\u001b[31m-\u001b[0m\u001b[1m\u001b[31m-\u001b[0m\u001b[1m\u001b[31m-\u001b[0m\u001b[1m\u001b[31m-\u001b[0m\u001b[1m\u001b[31m-\u001b[0mYCLQ\tHISRPRTFGQ\tGTKVEIKRTV\tAAPSVFIFPP\n",
            "SDEQLKSGTA\tSVVCLLNNFY\tPREAKVQWKV\tDNALQSGNSQ\n",
            "ESVTEQDSKD\tSTYSLSSTLT\tLSKADYEKHK\tVYACEVTHQG\n",
            "LSSPVTKSF\u001b[1m\u001b[31m-\u001b[0m\t\u001b[1m\u001b[31m-\u001b[0m\u001b[1m\u001b[31m-\u001b[0m\u001b[1m\u001b[31m-\u001b[0m\u001b[1m\u001b[31m-\u001b[0m\n"
          ]
        }
      ]
    },
    {
      "cell_type": "code",
      "source": [
        "print_sequence(pred_sequence_full, \"PREDICTED SEQUENCE\", incorrect_indices, correct_indices)"
      ],
      "metadata": {
        "colab": {
          "base_uri": "https://localhost:8080/"
        },
        "id": "Gegi0pN7SxP2",
        "outputId": "2508b477-03bd-4043-aff9-791f575fcf1e"
      },
      "execution_count": 42,
      "outputs": [
        {
          "output_type": "stream",
          "name": "stdout",
          "text": [
            "PREDICTED SEQUENCE\n",
            "=====================================================================\n",
            "\u001b[1m\u001b[32mD\u001b[0m\u001b[1m\u001b[32mI\u001b[0m\u001b[1m\u001b[32mQ\u001b[0mMTQSPSS\tLSASVGDRVT\tITCK\u001b[1m\u001b[32mA\u001b[0m\u001b[1m\u001b[32mS\u001b[0m\u001b[1m\u001b[32mQ\u001b[0mNID\tKYLNWYQQKP\n",
            "GKAPKLLIYN\tTNNLQTGVPS\tRF\u001b[1m\u001b[32mS\u001b[0m\u001b[1m\u001b[32mG\u001b[0m\u001b[1m\u001b[32mS\u001b[0mG\u001b[1m\u001b[32mS\u001b[0m\u001b[1m\u001b[32mG\u001b[0m\u001b[1m\u001b[32mT\u001b[0m\u001b[1m\u001b[32mD\u001b[0m\tFTFTI\u001b[1m\u001b[32mS\u001b[0m\u001b[1m\u001b[32mS\u001b[0m\u001b[1m\u001b[32mL\u001b[0m\u001b[1m\u001b[32mQ\u001b[0m\u001b[1m\u001b[32mP\u001b[0m\n",
            "\u001b[1m\u001b[32mE\u001b[0m\u001b[1m\u001b[32mD\u001b[0m\u001b[1m\u001b[32mI\u001b[0m\u001b[1m\u001b[32mA\u001b[0m\u001b[1m\u001b[32mT\u001b[0m\u001b[1m\u001b[32mY\u001b[0mYCLQ\tHISRPRTFGQ\tGTKVEIKRTV\tAAPSVFIFPP\n",
            "SDEQLKSGTA\tSVVCLLNNFY\tPREAKVQWKV\tDNALQSGNSQ\n",
            "ESVTEQDSKD\tSTYSLSSTLT\tLSKADYEKHK\tVYACEVTHQG\n",
            "LSSPVTKSF\u001b[1m\u001b[32mN\u001b[0m\t\u001b[1m\u001b[32mR\u001b[0m\u001b[1m\u001b[32mG\u001b[0m\u001b[1m\u001b[32mE\u001b[0m\u001b[1m\u001b[32mC\u001b[0m\n"
          ]
        }
      ]
    },
    {
      "cell_type": "code",
      "source": [
        "# Compute final accuracy on de novo sequence\n",
        "target_len = len(target_sequence)\n",
        "full_accuracy = (target_len - len(incorrect_indices)) / target_len\n",
        "print(f\"Accuracy on De Novo Sequence: {full_accuracy:.3f}\")"
      ],
      "metadata": {
        "colab": {
          "base_uri": "https://localhost:8080/"
        },
        "id": "ohlmVCY1Q-Ij",
        "outputId": "a6c741bf-1f6e-4ba1-f3c7-edcad1688542"
      },
      "execution_count": 43,
      "outputs": [
        {
          "output_type": "stream",
          "name": "stdout",
          "text": [
            "Accuracy on De Novo Sequence: 1.000\n"
          ]
        }
      ]
    },
    {
      "cell_type": "code",
      "source": [
        "# Print the predictions in forward and reverse directions as well\n",
        "forward_pred = predict_gaps(de_novo_sequence, forward_model=forward_model, reverse_model=None)\n",
        "incorrect_indices = get_nonmatching_indices(target_sequence, forward_pred)\n",
        "correct_indices = missing_indices.difference(incorrect_indices)\n",
        "print_sequence(forward_pred, \"FORWARD PREDICTIONS\", incorrect_indices, correct_indices)\n",
        "\n",
        "reverse_pred = predict_gaps(de_novo_sequence, forward_model=None, reverse_model=reverse_model)\n",
        "incorrect_indices = get_nonmatching_indices(target_sequence, reverse_pred)\n",
        "correct_indices = missing_indices.difference(incorrect_indices)\n",
        "print_sequence(reverse_pred, \"REVERSE PREDICTIONS\", incorrect_indices, correct_indices)"
      ],
      "metadata": {
        "colab": {
          "base_uri": "https://localhost:8080/"
        },
        "id": "rVV3CQ14U-i2",
        "outputId": "06902b6b-de7b-409b-ca39-905ed50c4812"
      },
      "execution_count": 44,
      "outputs": [
        {
          "output_type": "stream",
          "name": "stdout",
          "text": [
            "FORWARD PREDICTIONS\n",
            "=====================================================================\n",
            "\u001b[1m\u001b[31m-\u001b[0m\u001b[1m\u001b[31m-\u001b[0m\u001b[1m\u001b[31m-\u001b[0mMTQSPSS\tLSASVGDRVT\tITCK\u001b[1m\u001b[32mA\u001b[0m\u001b[1m\u001b[32mS\u001b[0m\u001b[1m\u001b[32mQ\u001b[0mNID\tKYLNWYQQKP\n",
            "GKAPKLLIYN\tTNNLQTGVPS\tRF\u001b[1m\u001b[32mS\u001b[0m\u001b[1m\u001b[32mG\u001b[0m\u001b[1m\u001b[32mS\u001b[0mG\u001b[1m\u001b[32mS\u001b[0m\u001b[1m\u001b[32mG\u001b[0m\u001b[1m\u001b[31mF\u001b[0m\u001b[1m\u001b[31mT\u001b[0m\tFTFTI\u001b[1m\u001b[32mS\u001b[0m\u001b[1m\u001b[32mS\u001b[0m\u001b[1m\u001b[32mL\u001b[0m\u001b[1m\u001b[32mQ\u001b[0m\u001b[1m\u001b[32mP\u001b[0m\n",
            "\u001b[1m\u001b[32mE\u001b[0m\u001b[1m\u001b[32mD\u001b[0m\u001b[1m\u001b[32mI\u001b[0m\u001b[1m\u001b[32mA\u001b[0m\u001b[1m\u001b[32mT\u001b[0m\u001b[1m\u001b[32mY\u001b[0mYCLQ\tHISRPRTFGQ\tGTKVEIKRTV\tAAPSVFIFPP\n",
            "SDEQLKSGTA\tSVVCLLNNFY\tPREAKVQWKV\tDNALQSGNSQ\n",
            "ESVTEQDSKD\tSTYSLSSTLT\tLSKADYEKHK\tVYACEVTHQG\n",
            "LSSPVTKSF\u001b[1m\u001b[32mN\u001b[0m\t\u001b[1m\u001b[32mR\u001b[0m\u001b[1m\u001b[32mG\u001b[0m\u001b[1m\u001b[32mE\u001b[0m\u001b[1m\u001b[32mC\u001b[0m\n",
            "REVERSE PREDICTIONS\n",
            "=====================================================================\n",
            "\u001b[1m\u001b[32mD\u001b[0m\u001b[1m\u001b[32mI\u001b[0m\u001b[1m\u001b[32mQ\u001b[0mMTQSPSS\tLSASVGDRVT\tITCK\u001b[1m\u001b[32mA\u001b[0m\u001b[1m\u001b[32mS\u001b[0m\u001b[1m\u001b[32mQ\u001b[0mNID\tKYLNWYQQKP\n",
            "GKAPKLLIYN\tTNNLQTGVPS\tRF\u001b[1m\u001b[32mS\u001b[0m\u001b[1m\u001b[32mG\u001b[0m\u001b[1m\u001b[32mS\u001b[0mG\u001b[1m\u001b[32mS\u001b[0m\u001b[1m\u001b[32mG\u001b[0m\u001b[1m\u001b[32mT\u001b[0m\u001b[1m\u001b[32mD\u001b[0m\tFTFTI\u001b[1m\u001b[32mS\u001b[0m\u001b[1m\u001b[32mS\u001b[0m\u001b[1m\u001b[32mL\u001b[0m\u001b[1m\u001b[32mQ\u001b[0m\u001b[1m\u001b[32mP\u001b[0m\n",
            "\u001b[1m\u001b[32mE\u001b[0m\u001b[1m\u001b[32mD\u001b[0m\u001b[1m\u001b[32mI\u001b[0m\u001b[1m\u001b[32mA\u001b[0m\u001b[1m\u001b[32mT\u001b[0m\u001b[1m\u001b[32mY\u001b[0mYCLQ\tHISRPRTFGQ\tGTKVEIKRTV\tAAPSVFIFPP\n",
            "SDEQLKSGTA\tSVVCLLNNFY\tPREAKVQWKV\tDNALQSGNSQ\n",
            "ESVTEQDSKD\tSTYSLSSTLT\tLSKADYEKHK\tVYACEVTHQG\n",
            "LSSPVTKSF\u001b[1m\u001b[31m-\u001b[0m\t\u001b[1m\u001b[31m-\u001b[0m\u001b[1m\u001b[31m-\u001b[0m\u001b[1m\u001b[31m-\u001b[0m\u001b[1m\u001b[31m-\u001b[0m\n"
          ]
        }
      ]
    },
    {
      "cell_type": "code",
      "source": [
        "# ==============================================================================\n",
        "# CNN-LSTM MODEL\n",
        "# ==============================================================================\n",
        "model_type=\"cnn_lstm\""
      ],
      "metadata": {
        "id": "MEu_hjS5OAmR"
      },
      "execution_count": 45,
      "outputs": []
    },
    {
      "cell_type": "code",
      "source": [
        "forward_model, forward_history, model_name = build_model(training_sequences, model_type)"
      ],
      "metadata": {
        "colab": {
          "base_uri": "https://localhost:8080/"
        },
        "outputId": "3eb20b3b-7898-410c-cc5d-29eb202db50a",
        "id": "91WRuCA3OAmc"
      },
      "execution_count": 46,
      "outputs": [
        {
          "output_type": "stream",
          "name": "stdout",
          "text": [
            "Epoch 1/100\n",
            "30/30 - 3s - loss: 2.9078 - categorical_accuracy: 0.1466 - val_loss: 2.8747 - val_categorical_accuracy: 0.1143 - 3s/epoch - 112ms/step\n",
            "Epoch 2/100\n",
            "30/30 - 1s - loss: 2.8300 - categorical_accuracy: 0.1514 - val_loss: 2.8609 - val_categorical_accuracy: 0.1143 - 800ms/epoch - 27ms/step\n",
            "Epoch 3/100\n",
            "30/30 - 1s - loss: 2.8122 - categorical_accuracy: 0.1514 - val_loss: 2.8400 - val_categorical_accuracy: 0.1143 - 827ms/epoch - 28ms/step\n",
            "Epoch 4/100\n",
            "30/30 - 1s - loss: 2.7907 - categorical_accuracy: 0.1514 - val_loss: 2.8181 - val_categorical_accuracy: 0.1143 - 780ms/epoch - 26ms/step\n",
            "Epoch 5/100\n",
            "30/30 - 1s - loss: 2.7637 - categorical_accuracy: 0.1540 - val_loss: 2.8084 - val_categorical_accuracy: 0.1286 - 814ms/epoch - 27ms/step\n",
            "Epoch 6/100\n",
            "30/30 - 1s - loss: 2.7134 - categorical_accuracy: 0.1725 - val_loss: 2.7715 - val_categorical_accuracy: 0.1429 - 777ms/epoch - 26ms/step\n",
            "Epoch 7/100\n",
            "30/30 - 1s - loss: 2.6725 - categorical_accuracy: 0.1688 - val_loss: 2.7245 - val_categorical_accuracy: 0.1286 - 825ms/epoch - 28ms/step\n",
            "Epoch 8/100\n",
            "30/30 - 1s - loss: 2.6174 - categorical_accuracy: 0.1920 - val_loss: 2.6542 - val_categorical_accuracy: 0.1762 - 840ms/epoch - 28ms/step\n",
            "Epoch 9/100\n",
            "30/30 - 1s - loss: 2.5463 - categorical_accuracy: 0.2015 - val_loss: 2.5945 - val_categorical_accuracy: 0.1524 - 762ms/epoch - 25ms/step\n",
            "Epoch 10/100\n",
            "30/30 - 1s - loss: 2.4779 - categorical_accuracy: 0.2099 - val_loss: 2.6094 - val_categorical_accuracy: 0.1429 - 754ms/epoch - 25ms/step\n",
            "Epoch 11/100\n",
            "30/30 - 1s - loss: 2.4079 - categorical_accuracy: 0.2310 - val_loss: 2.4792 - val_categorical_accuracy: 0.1571 - 755ms/epoch - 25ms/step\n",
            "Epoch 12/100\n",
            "30/30 - 1s - loss: 2.3094 - categorical_accuracy: 0.2516 - val_loss: 2.4038 - val_categorical_accuracy: 0.1667 - 793ms/epoch - 26ms/step\n",
            "Epoch 13/100\n",
            "30/30 - 1s - loss: 2.2044 - categorical_accuracy: 0.2890 - val_loss: 2.3755 - val_categorical_accuracy: 0.1952 - 807ms/epoch - 27ms/step\n",
            "Epoch 14/100\n",
            "30/30 - 1s - loss: 2.0878 - categorical_accuracy: 0.3391 - val_loss: 2.1192 - val_categorical_accuracy: 0.2476 - 819ms/epoch - 27ms/step\n",
            "Epoch 15/100\n",
            "30/30 - 1s - loss: 1.9380 - categorical_accuracy: 0.3692 - val_loss: 1.9073 - val_categorical_accuracy: 0.4238 - 772ms/epoch - 26ms/step\n",
            "Epoch 16/100\n",
            "30/30 - 1s - loss: 1.7540 - categorical_accuracy: 0.4399 - val_loss: 1.8069 - val_categorical_accuracy: 0.3857 - 790ms/epoch - 26ms/step\n",
            "Epoch 17/100\n",
            "30/30 - 1s - loss: 1.5543 - categorical_accuracy: 0.5264 - val_loss: 1.6146 - val_categorical_accuracy: 0.5190 - 785ms/epoch - 26ms/step\n",
            "Epoch 18/100\n",
            "30/30 - 1s - loss: 1.3777 - categorical_accuracy: 0.5965 - val_loss: 1.5312 - val_categorical_accuracy: 0.5095 - 808ms/epoch - 27ms/step\n",
            "Epoch 19/100\n",
            "30/30 - 1s - loss: 1.2203 - categorical_accuracy: 0.6461 - val_loss: 1.2621 - val_categorical_accuracy: 0.6286 - 773ms/epoch - 26ms/step\n",
            "Epoch 20/100\n",
            "30/30 - 1s - loss: 1.0578 - categorical_accuracy: 0.7268 - val_loss: 1.1254 - val_categorical_accuracy: 0.6952 - 835ms/epoch - 28ms/step\n",
            "Epoch 21/100\n",
            "30/30 - 1s - loss: 0.9174 - categorical_accuracy: 0.7727 - val_loss: 0.9609 - val_categorical_accuracy: 0.7476 - 799ms/epoch - 27ms/step\n",
            "Epoch 22/100\n",
            "30/30 - 1s - loss: 0.7549 - categorical_accuracy: 0.8307 - val_loss: 0.9095 - val_categorical_accuracy: 0.7762 - 837ms/epoch - 28ms/step\n",
            "Epoch 23/100\n",
            "30/30 - 1s - loss: 0.6495 - categorical_accuracy: 0.8497 - val_loss: 0.7121 - val_categorical_accuracy: 0.8286 - 846ms/epoch - 28ms/step\n",
            "Epoch 24/100\n",
            "30/30 - 1s - loss: 0.5733 - categorical_accuracy: 0.8645 - val_loss: 0.7723 - val_categorical_accuracy: 0.7714 - 812ms/epoch - 27ms/step\n",
            "Epoch 25/100\n",
            "30/30 - 1s - loss: 0.4966 - categorical_accuracy: 0.8813 - val_loss: 0.5777 - val_categorical_accuracy: 0.8619 - 836ms/epoch - 28ms/step\n",
            "Epoch 26/100\n",
            "30/30 - 1s - loss: 0.4198 - categorical_accuracy: 0.9035 - val_loss: 0.5266 - val_categorical_accuracy: 0.8714 - 863ms/epoch - 29ms/step\n",
            "Epoch 27/100\n",
            "30/30 - 1s - loss: 0.3828 - categorical_accuracy: 0.9172 - val_loss: 0.5273 - val_categorical_accuracy: 0.8714 - 943ms/epoch - 31ms/step\n",
            "Epoch 28/100\n",
            "30/30 - 1s - loss: 0.3559 - categorical_accuracy: 0.9167 - val_loss: 0.4832 - val_categorical_accuracy: 0.8857 - 853ms/epoch - 28ms/step\n",
            "Epoch 29/100\n",
            "30/30 - 1s - loss: 0.3151 - categorical_accuracy: 0.9219 - val_loss: 0.4874 - val_categorical_accuracy: 0.9000 - 830ms/epoch - 28ms/step\n",
            "Epoch 30/100\n",
            "30/30 - 1s - loss: 0.2866 - categorical_accuracy: 0.9283 - val_loss: 0.4148 - val_categorical_accuracy: 0.9095 - 846ms/epoch - 28ms/step\n",
            "Epoch 31/100\n",
            "30/30 - 1s - loss: 0.2455 - categorical_accuracy: 0.9383 - val_loss: 0.4114 - val_categorical_accuracy: 0.9286 - 836ms/epoch - 28ms/step\n",
            "Epoch 32/100\n",
            "30/30 - 1s - loss: 0.2317 - categorical_accuracy: 0.9420 - val_loss: 0.3878 - val_categorical_accuracy: 0.9143 - 832ms/epoch - 28ms/step\n",
            "Epoch 33/100\n",
            "30/30 - 1s - loss: 0.2122 - categorical_accuracy: 0.9483 - val_loss: 0.4084 - val_categorical_accuracy: 0.9095 - 797ms/epoch - 27ms/step\n",
            "Epoch 34/100\n",
            "30/30 - 1s - loss: 0.2023 - categorical_accuracy: 0.9473 - val_loss: 0.3925 - val_categorical_accuracy: 0.9143 - 804ms/epoch - 27ms/step\n",
            "Epoch 35/100\n",
            "30/30 - 1s - loss: 0.2035 - categorical_accuracy: 0.9473 - val_loss: 0.3577 - val_categorical_accuracy: 0.9286 - 781ms/epoch - 26ms/step\n",
            "Epoch 36/100\n",
            "30/30 - 1s - loss: 0.1723 - categorical_accuracy: 0.9536 - val_loss: 0.3338 - val_categorical_accuracy: 0.9333 - 773ms/epoch - 26ms/step\n",
            "Epoch 37/100\n",
            "30/30 - 1s - loss: 0.1604 - categorical_accuracy: 0.9589 - val_loss: 0.3424 - val_categorical_accuracy: 0.9381 - 768ms/epoch - 26ms/step\n",
            "Epoch 38/100\n",
            "30/30 - 1s - loss: 0.1562 - categorical_accuracy: 0.9552 - val_loss: 0.3413 - val_categorical_accuracy: 0.9286 - 816ms/epoch - 27ms/step\n",
            "Epoch 39/100\n",
            "30/30 - 1s - loss: 0.1540 - categorical_accuracy: 0.9562 - val_loss: 0.3309 - val_categorical_accuracy: 0.9190 - 824ms/epoch - 27ms/step\n",
            "Epoch 40/100\n",
            "30/30 - 1s - loss: 0.1485 - categorical_accuracy: 0.9541 - val_loss: 0.3203 - val_categorical_accuracy: 0.9381 - 809ms/epoch - 27ms/step\n",
            "Epoch 41/100\n",
            "30/30 - 1s - loss: 0.1385 - categorical_accuracy: 0.9594 - val_loss: 0.3614 - val_categorical_accuracy: 0.9238 - 815ms/epoch - 27ms/step\n",
            "Epoch 42/100\n",
            "30/30 - 1s - loss: 0.1261 - categorical_accuracy: 0.9647 - val_loss: 0.3274 - val_categorical_accuracy: 0.9286 - 781ms/epoch - 26ms/step\n",
            "Epoch 43/100\n",
            "30/30 - 1s - loss: 0.1372 - categorical_accuracy: 0.9610 - val_loss: 0.3523 - val_categorical_accuracy: 0.9381 - 888ms/epoch - 30ms/step\n",
            "Epoch 44/100\n",
            "30/30 - 1s - loss: 0.1379 - categorical_accuracy: 0.9620 - val_loss: 0.3391 - val_categorical_accuracy: 0.9429 - 898ms/epoch - 30ms/step\n",
            "Epoch 45/100\n",
            "30/30 - 1s - loss: 0.1209 - categorical_accuracy: 0.9647 - val_loss: 0.3387 - val_categorical_accuracy: 0.9429 - 840ms/epoch - 28ms/step\n",
            "Epoch 46/100\n",
            "30/30 - 1s - loss: 0.1128 - categorical_accuracy: 0.9647 - val_loss: 0.3165 - val_categorical_accuracy: 0.9381 - 780ms/epoch - 26ms/step\n",
            "Epoch 47/100\n",
            "30/30 - 1s - loss: 0.1207 - categorical_accuracy: 0.9636 - val_loss: 0.3364 - val_categorical_accuracy: 0.9429 - 789ms/epoch - 26ms/step\n",
            "Epoch 48/100\n",
            "30/30 - 1s - loss: 0.1255 - categorical_accuracy: 0.9631 - val_loss: 0.3403 - val_categorical_accuracy: 0.9333 - 811ms/epoch - 27ms/step\n",
            "Epoch 49/100\n",
            "30/30 - 1s - loss: 0.1122 - categorical_accuracy: 0.9620 - val_loss: 0.3116 - val_categorical_accuracy: 0.9476 - 810ms/epoch - 27ms/step\n",
            "Epoch 50/100\n",
            "30/30 - 1s - loss: 0.1003 - categorical_accuracy: 0.9720 - val_loss: 0.3293 - val_categorical_accuracy: 0.9333 - 793ms/epoch - 26ms/step\n",
            "Epoch 51/100\n",
            "30/30 - 1s - loss: 0.1062 - categorical_accuracy: 0.9652 - val_loss: 0.3451 - val_categorical_accuracy: 0.9429 - 795ms/epoch - 26ms/step\n",
            "Epoch 52/100\n",
            "30/30 - 1s - loss: 0.0976 - categorical_accuracy: 0.9720 - val_loss: 0.3003 - val_categorical_accuracy: 0.9429 - 779ms/epoch - 26ms/step\n",
            "Epoch 53/100\n",
            "30/30 - 1s - loss: 0.0889 - categorical_accuracy: 0.9699 - val_loss: 0.3391 - val_categorical_accuracy: 0.9333 - 792ms/epoch - 26ms/step\n",
            "Epoch 54/100\n",
            "30/30 - 1s - loss: 0.0974 - categorical_accuracy: 0.9705 - val_loss: 0.3583 - val_categorical_accuracy: 0.9286 - 771ms/epoch - 26ms/step\n",
            "Epoch 55/100\n",
            "30/30 - 1s - loss: 0.0890 - categorical_accuracy: 0.9736 - val_loss: 0.3222 - val_categorical_accuracy: 0.9381 - 771ms/epoch - 26ms/step\n",
            "Epoch 56/100\n",
            "30/30 - 1s - loss: 0.0976 - categorical_accuracy: 0.9705 - val_loss: 0.3419 - val_categorical_accuracy: 0.9333 - 823ms/epoch - 27ms/step\n",
            "Epoch 57/100\n",
            "30/30 - 1s - loss: 0.0985 - categorical_accuracy: 0.9641 - val_loss: 0.3067 - val_categorical_accuracy: 0.9381 - 792ms/epoch - 26ms/step\n",
            "Epoch 58/100\n",
            "30/30 - 1s - loss: 0.0860 - categorical_accuracy: 0.9763 - val_loss: 0.3331 - val_categorical_accuracy: 0.9333 - 772ms/epoch - 26ms/step\n",
            "Epoch 59/100\n",
            "30/30 - 1s - loss: 0.0901 - categorical_accuracy: 0.9694 - val_loss: 0.3333 - val_categorical_accuracy: 0.9429 - 751ms/epoch - 25ms/step\n",
            "Epoch 60/100\n",
            "30/30 - 1s - loss: 0.0837 - categorical_accuracy: 0.9720 - val_loss: 0.3434 - val_categorical_accuracy: 0.9429 - 863ms/epoch - 29ms/step\n",
            "Epoch 61/100\n",
            "30/30 - 1s - loss: 0.0802 - categorical_accuracy: 0.9747 - val_loss: 0.3241 - val_categorical_accuracy: 0.9476 - 799ms/epoch - 27ms/step\n",
            "Epoch 62/100\n",
            "30/30 - 1s - loss: 0.0856 - categorical_accuracy: 0.9726 - val_loss: 0.3565 - val_categorical_accuracy: 0.9381 - 809ms/epoch - 27ms/step\n",
            "Epoch 63/100\n",
            "30/30 - 1s - loss: 0.0819 - categorical_accuracy: 0.9731 - val_loss: 0.3519 - val_categorical_accuracy: 0.9333 - 834ms/epoch - 28ms/step\n",
            "Epoch 64/100\n",
            "30/30 - 1s - loss: 0.0916 - categorical_accuracy: 0.9720 - val_loss: 0.3207 - val_categorical_accuracy: 0.9333 - 848ms/epoch - 28ms/step\n",
            "Epoch 65/100\n",
            "30/30 - 1s - loss: 0.0930 - categorical_accuracy: 0.9689 - val_loss: 0.3678 - val_categorical_accuracy: 0.9238 - 809ms/epoch - 27ms/step\n",
            "Epoch 66/100\n",
            "30/30 - 1s - loss: 0.0890 - categorical_accuracy: 0.9731 - val_loss: 0.3590 - val_categorical_accuracy: 0.9333 - 797ms/epoch - 27ms/step\n",
            "Epoch 67/100\n",
            "30/30 - 1s - loss: 0.0784 - categorical_accuracy: 0.9768 - val_loss: 0.3640 - val_categorical_accuracy: 0.9238 - 780ms/epoch - 26ms/step\n",
            "Epoch 68/100\n",
            "30/30 - 1s - loss: 0.0772 - categorical_accuracy: 0.9763 - val_loss: 0.3042 - val_categorical_accuracy: 0.9476 - 877ms/epoch - 29ms/step\n",
            "Epoch 69/100\n",
            "30/30 - 1s - loss: 0.0814 - categorical_accuracy: 0.9715 - val_loss: 0.3552 - val_categorical_accuracy: 0.9381 - 813ms/epoch - 27ms/step\n",
            "Epoch 70/100\n",
            "30/30 - 1s - loss: 0.0980 - categorical_accuracy: 0.9684 - val_loss: 0.3583 - val_categorical_accuracy: 0.9333 - 822ms/epoch - 27ms/step\n",
            "Epoch 71/100\n",
            "30/30 - 1s - loss: 0.0779 - categorical_accuracy: 0.9720 - val_loss: 0.3341 - val_categorical_accuracy: 0.9429 - 829ms/epoch - 28ms/step\n",
            "Epoch 72/100\n",
            "30/30 - 1s - loss: 0.0810 - categorical_accuracy: 0.9710 - val_loss: 0.3448 - val_categorical_accuracy: 0.9333 - 782ms/epoch - 26ms/step\n",
            "Epoch 73/100\n",
            "30/30 - 1s - loss: 0.0741 - categorical_accuracy: 0.9742 - val_loss: 0.3447 - val_categorical_accuracy: 0.9381 - 809ms/epoch - 27ms/step\n",
            "Epoch 74/100\n",
            "30/30 - 1s - loss: 0.0786 - categorical_accuracy: 0.9731 - val_loss: 0.3682 - val_categorical_accuracy: 0.9381 - 770ms/epoch - 26ms/step\n",
            "Epoch 75/100\n",
            "30/30 - 1s - loss: 0.0755 - categorical_accuracy: 0.9720 - val_loss: 0.3922 - val_categorical_accuracy: 0.9333 - 793ms/epoch - 26ms/step\n",
            "Epoch 76/100\n",
            "30/30 - 1s - loss: 0.0837 - categorical_accuracy: 0.9705 - val_loss: 0.3621 - val_categorical_accuracy: 0.9381 - 816ms/epoch - 27ms/step\n",
            "Epoch 77/100\n",
            "30/30 - 1s - loss: 0.0834 - categorical_accuracy: 0.9752 - val_loss: 0.4070 - val_categorical_accuracy: 0.9333 - 765ms/epoch - 26ms/step\n",
            "Epoch 78/100\n",
            "30/30 - 1s - loss: 0.0855 - categorical_accuracy: 0.9742 - val_loss: 0.3287 - val_categorical_accuracy: 0.9381 - 786ms/epoch - 26ms/step\n",
            "Epoch 79/100\n",
            "30/30 - 1s - loss: 0.0782 - categorical_accuracy: 0.9763 - val_loss: 0.3838 - val_categorical_accuracy: 0.9381 - 831ms/epoch - 28ms/step\n",
            "Epoch 80/100\n",
            "30/30 - 1s - loss: 0.0927 - categorical_accuracy: 0.9715 - val_loss: 0.3904 - val_categorical_accuracy: 0.9381 - 856ms/epoch - 29ms/step\n",
            "Epoch 81/100\n",
            "30/30 - 1s - loss: 0.0852 - categorical_accuracy: 0.9668 - val_loss: 0.3749 - val_categorical_accuracy: 0.9238 - 841ms/epoch - 28ms/step\n",
            "Epoch 82/100\n",
            "30/30 - 1s - loss: 0.1172 - categorical_accuracy: 0.9647 - val_loss: 0.3579 - val_categorical_accuracy: 0.9381 - 910ms/epoch - 30ms/step\n",
            "Epoch 83/100\n",
            "30/30 - 1s - loss: 0.0763 - categorical_accuracy: 0.9720 - val_loss: 0.3718 - val_categorical_accuracy: 0.9333 - 877ms/epoch - 29ms/step\n",
            "Epoch 84/100\n",
            "30/30 - 1s - loss: 0.0693 - categorical_accuracy: 0.9752 - val_loss: 0.3313 - val_categorical_accuracy: 0.9429 - 802ms/epoch - 27ms/step\n",
            "Epoch 85/100\n",
            "30/30 - 1s - loss: 0.0723 - categorical_accuracy: 0.9710 - val_loss: 0.3843 - val_categorical_accuracy: 0.9429 - 787ms/epoch - 26ms/step\n",
            "Epoch 86/100\n",
            "30/30 - 1s - loss: 0.0693 - categorical_accuracy: 0.9699 - val_loss: 0.3403 - val_categorical_accuracy: 0.9429 - 825ms/epoch - 28ms/step\n",
            "Epoch 87/100\n",
            "30/30 - 1s - loss: 0.0686 - categorical_accuracy: 0.9768 - val_loss: 0.3510 - val_categorical_accuracy: 0.9429 - 803ms/epoch - 27ms/step\n",
            "Epoch 88/100\n",
            "30/30 - 1s - loss: 0.0721 - categorical_accuracy: 0.9742 - val_loss: 0.4221 - val_categorical_accuracy: 0.9286 - 832ms/epoch - 28ms/step\n",
            "Epoch 89/100\n",
            "30/30 - 1s - loss: 0.0745 - categorical_accuracy: 0.9752 - val_loss: 0.3654 - val_categorical_accuracy: 0.9429 - 790ms/epoch - 26ms/step\n",
            "Epoch 90/100\n",
            "30/30 - 1s - loss: 0.0732 - categorical_accuracy: 0.9752 - val_loss: 0.4037 - val_categorical_accuracy: 0.9381 - 802ms/epoch - 27ms/step\n",
            "Epoch 91/100\n",
            "30/30 - 1s - loss: 0.0744 - categorical_accuracy: 0.9773 - val_loss: 0.3369 - val_categorical_accuracy: 0.9429 - 828ms/epoch - 28ms/step\n",
            "Epoch 92/100\n",
            "30/30 - 1s - loss: 0.0739 - categorical_accuracy: 0.9763 - val_loss: 0.3794 - val_categorical_accuracy: 0.9333 - 767ms/epoch - 26ms/step\n",
            "Epoch 93/100\n",
            "30/30 - 1s - loss: 0.0724 - categorical_accuracy: 0.9715 - val_loss: 0.3699 - val_categorical_accuracy: 0.9476 - 797ms/epoch - 27ms/step\n",
            "Epoch 94/100\n",
            "30/30 - 1s - loss: 0.0663 - categorical_accuracy: 0.9757 - val_loss: 0.3640 - val_categorical_accuracy: 0.9381 - 802ms/epoch - 27ms/step\n",
            "Epoch 95/100\n",
            "30/30 - 1s - loss: 0.0629 - categorical_accuracy: 0.9768 - val_loss: 0.3360 - val_categorical_accuracy: 0.9429 - 778ms/epoch - 26ms/step\n",
            "Epoch 96/100\n",
            "30/30 - 1s - loss: 0.0674 - categorical_accuracy: 0.9789 - val_loss: 0.3626 - val_categorical_accuracy: 0.9429 - 777ms/epoch - 26ms/step\n",
            "Epoch 97/100\n",
            "30/30 - 1s - loss: 0.0645 - categorical_accuracy: 0.9752 - val_loss: 0.3583 - val_categorical_accuracy: 0.9476 - 796ms/epoch - 27ms/step\n",
            "Epoch 98/100\n",
            "30/30 - 1s - loss: 0.0705 - categorical_accuracy: 0.9752 - val_loss: 0.3767 - val_categorical_accuracy: 0.9429 - 827ms/epoch - 28ms/step\n",
            "Epoch 99/100\n",
            "30/30 - 1s - loss: 0.0625 - categorical_accuracy: 0.9752 - val_loss: 0.3647 - val_categorical_accuracy: 0.9429 - 770ms/epoch - 26ms/step\n",
            "Epoch 100/100\n",
            "30/30 - 1s - loss: 0.0660 - categorical_accuracy: 0.9763 - val_loss: 0.3760 - val_categorical_accuracy: 0.9429 - 809ms/epoch - 27ms/step\n"
          ]
        }
      ]
    },
    {
      "cell_type": "code",
      "source": [
        "reverse_model, reverse_history, _ = build_model(training_sequences_reversed, model_type)"
      ],
      "metadata": {
        "colab": {
          "base_uri": "https://localhost:8080/"
        },
        "outputId": "08fc2901-1e48-430d-d847-a3502087d395",
        "id": "tmOYGipqOAmc"
      },
      "execution_count": 47,
      "outputs": [
        {
          "output_type": "stream",
          "name": "stdout",
          "text": [
            "Epoch 1/100\n",
            "30/30 - 4s - loss: 2.9153 - categorical_accuracy: 0.1440 - val_loss: 2.8435 - val_categorical_accuracy: 0.1571 - 4s/epoch - 124ms/step\n",
            "Epoch 2/100\n",
            "30/30 - 1s - loss: 2.8379 - categorical_accuracy: 0.1466 - val_loss: 2.7899 - val_categorical_accuracy: 0.1571 - 791ms/epoch - 26ms/step\n",
            "Epoch 3/100\n",
            "30/30 - 1s - loss: 2.8118 - categorical_accuracy: 0.1466 - val_loss: 2.7739 - val_categorical_accuracy: 0.1571 - 793ms/epoch - 26ms/step\n",
            "Epoch 4/100\n",
            "30/30 - 1s - loss: 2.7896 - categorical_accuracy: 0.1487 - val_loss: 2.7691 - val_categorical_accuracy: 0.1571 - 763ms/epoch - 25ms/step\n",
            "Epoch 5/100\n",
            "30/30 - 1s - loss: 2.7369 - categorical_accuracy: 0.1667 - val_loss: 2.7495 - val_categorical_accuracy: 0.1667 - 767ms/epoch - 26ms/step\n",
            "Epoch 6/100\n",
            "30/30 - 1s - loss: 2.6878 - categorical_accuracy: 0.1851 - val_loss: 2.6927 - val_categorical_accuracy: 0.1714 - 759ms/epoch - 25ms/step\n",
            "Epoch 7/100\n",
            "30/30 - 1s - loss: 2.6406 - categorical_accuracy: 0.1936 - val_loss: 2.6397 - val_categorical_accuracy: 0.1857 - 761ms/epoch - 25ms/step\n",
            "Epoch 8/100\n",
            "30/30 - 1s - loss: 2.5747 - categorical_accuracy: 0.2073 - val_loss: 2.5508 - val_categorical_accuracy: 0.2000 - 783ms/epoch - 26ms/step\n",
            "Epoch 9/100\n",
            "30/30 - 1s - loss: 2.4948 - categorical_accuracy: 0.2326 - val_loss: 2.4812 - val_categorical_accuracy: 0.2429 - 790ms/epoch - 26ms/step\n",
            "Epoch 10/100\n",
            "30/30 - 1s - loss: 2.3733 - categorical_accuracy: 0.2769 - val_loss: 2.3381 - val_categorical_accuracy: 0.2619 - 794ms/epoch - 26ms/step\n",
            "Epoch 11/100\n",
            "30/30 - 1s - loss: 2.2247 - categorical_accuracy: 0.2985 - val_loss: 2.2073 - val_categorical_accuracy: 0.2952 - 799ms/epoch - 27ms/step\n",
            "Epoch 12/100\n",
            "30/30 - 1s - loss: 2.0956 - categorical_accuracy: 0.3307 - val_loss: 2.0816 - val_categorical_accuracy: 0.3190 - 796ms/epoch - 27ms/step\n",
            "Epoch 13/100\n",
            "30/30 - 1s - loss: 1.8874 - categorical_accuracy: 0.4109 - val_loss: 1.8493 - val_categorical_accuracy: 0.4476 - 802ms/epoch - 27ms/step\n",
            "Epoch 14/100\n",
            "30/30 - 1s - loss: 1.7374 - categorical_accuracy: 0.4531 - val_loss: 1.7648 - val_categorical_accuracy: 0.4524 - 834ms/epoch - 28ms/step\n",
            "Epoch 15/100\n",
            "30/30 - 1s - loss: 1.5296 - categorical_accuracy: 0.5348 - val_loss: 1.5469 - val_categorical_accuracy: 0.5190 - 850ms/epoch - 28ms/step\n",
            "Epoch 16/100\n",
            "30/30 - 1s - loss: 1.3230 - categorical_accuracy: 0.6092 - val_loss: 1.3623 - val_categorical_accuracy: 0.6048 - 821ms/epoch - 27ms/step\n",
            "Epoch 17/100\n",
            "30/30 - 1s - loss: 1.1548 - categorical_accuracy: 0.6841 - val_loss: 1.3854 - val_categorical_accuracy: 0.6048 - 804ms/epoch - 27ms/step\n",
            "Epoch 18/100\n",
            "30/30 - 1s - loss: 1.0428 - categorical_accuracy: 0.7168 - val_loss: 1.0724 - val_categorical_accuracy: 0.7810 - 791ms/epoch - 26ms/step\n",
            "Epoch 19/100\n",
            "30/30 - 1s - loss: 0.8621 - categorical_accuracy: 0.7932 - val_loss: 0.9417 - val_categorical_accuracy: 0.8333 - 802ms/epoch - 27ms/step\n",
            "Epoch 20/100\n",
            "30/30 - 1s - loss: 0.7489 - categorical_accuracy: 0.8291 - val_loss: 0.8286 - val_categorical_accuracy: 0.8524 - 798ms/epoch - 27ms/step\n",
            "Epoch 21/100\n",
            "30/30 - 1s - loss: 0.6247 - categorical_accuracy: 0.8782 - val_loss: 0.7995 - val_categorical_accuracy: 0.8857 - 833ms/epoch - 28ms/step\n",
            "Epoch 22/100\n",
            "30/30 - 1s - loss: 0.5467 - categorical_accuracy: 0.8908 - val_loss: 0.7861 - val_categorical_accuracy: 0.8810 - 789ms/epoch - 26ms/step\n",
            "Epoch 23/100\n",
            "30/30 - 1s - loss: 0.4868 - categorical_accuracy: 0.9003 - val_loss: 0.6933 - val_categorical_accuracy: 0.8952 - 835ms/epoch - 28ms/step\n",
            "Epoch 24/100\n",
            "30/30 - 1s - loss: 0.4230 - categorical_accuracy: 0.9109 - val_loss: 0.6602 - val_categorical_accuracy: 0.9095 - 805ms/epoch - 27ms/step\n",
            "Epoch 25/100\n",
            "30/30 - 1s - loss: 0.4050 - categorical_accuracy: 0.9140 - val_loss: 0.7313 - val_categorical_accuracy: 0.8810 - 873ms/epoch - 29ms/step\n",
            "Epoch 26/100\n",
            "30/30 - 1s - loss: 0.3586 - categorical_accuracy: 0.9283 - val_loss: 0.6492 - val_categorical_accuracy: 0.8905 - 820ms/epoch - 27ms/step\n",
            "Epoch 27/100\n",
            "30/30 - 1s - loss: 0.3116 - categorical_accuracy: 0.9341 - val_loss: 0.5921 - val_categorical_accuracy: 0.9095 - 786ms/epoch - 26ms/step\n",
            "Epoch 28/100\n",
            "30/30 - 1s - loss: 0.2915 - categorical_accuracy: 0.9320 - val_loss: 0.6114 - val_categorical_accuracy: 0.8952 - 824ms/epoch - 27ms/step\n",
            "Epoch 29/100\n",
            "30/30 - 1s - loss: 0.2532 - categorical_accuracy: 0.9430 - val_loss: 0.6131 - val_categorical_accuracy: 0.9095 - 773ms/epoch - 26ms/step\n",
            "Epoch 30/100\n",
            "30/30 - 1s - loss: 0.2321 - categorical_accuracy: 0.9441 - val_loss: 0.6574 - val_categorical_accuracy: 0.9190 - 778ms/epoch - 26ms/step\n",
            "Epoch 31/100\n",
            "30/30 - 1s - loss: 0.2096 - categorical_accuracy: 0.9515 - val_loss: 0.5965 - val_categorical_accuracy: 0.9000 - 755ms/epoch - 25ms/step\n",
            "Epoch 32/100\n",
            "30/30 - 1s - loss: 0.1955 - categorical_accuracy: 0.9515 - val_loss: 0.6113 - val_categorical_accuracy: 0.9143 - 766ms/epoch - 26ms/step\n",
            "Epoch 33/100\n",
            "30/30 - 1s - loss: 0.1874 - categorical_accuracy: 0.9541 - val_loss: 0.5934 - val_categorical_accuracy: 0.9238 - 780ms/epoch - 26ms/step\n",
            "Epoch 34/100\n",
            "30/30 - 1s - loss: 0.1748 - categorical_accuracy: 0.9499 - val_loss: 0.5759 - val_categorical_accuracy: 0.9286 - 735ms/epoch - 25ms/step\n",
            "Epoch 35/100\n",
            "30/30 - 1s - loss: 0.1725 - categorical_accuracy: 0.9604 - val_loss: 0.5850 - val_categorical_accuracy: 0.9143 - 762ms/epoch - 25ms/step\n",
            "Epoch 36/100\n",
            "30/30 - 1s - loss: 0.1572 - categorical_accuracy: 0.9583 - val_loss: 0.5653 - val_categorical_accuracy: 0.9190 - 762ms/epoch - 25ms/step\n",
            "Epoch 37/100\n",
            "30/30 - 1s - loss: 0.1568 - categorical_accuracy: 0.9578 - val_loss: 0.6086 - val_categorical_accuracy: 0.9095 - 739ms/epoch - 25ms/step\n",
            "Epoch 38/100\n",
            "30/30 - 1s - loss: 0.1425 - categorical_accuracy: 0.9610 - val_loss: 0.5809 - val_categorical_accuracy: 0.9238 - 759ms/epoch - 25ms/step\n",
            "Epoch 39/100\n",
            "30/30 - 1s - loss: 0.1368 - categorical_accuracy: 0.9626 - val_loss: 0.5747 - val_categorical_accuracy: 0.9238 - 773ms/epoch - 26ms/step\n",
            "Epoch 40/100\n",
            "30/30 - 1s - loss: 0.1530 - categorical_accuracy: 0.9546 - val_loss: 0.6786 - val_categorical_accuracy: 0.9048 - 804ms/epoch - 27ms/step\n",
            "Epoch 41/100\n",
            "30/30 - 1s - loss: 0.1375 - categorical_accuracy: 0.9626 - val_loss: 0.5745 - val_categorical_accuracy: 0.9333 - 784ms/epoch - 26ms/step\n",
            "Epoch 42/100\n",
            "30/30 - 1s - loss: 0.1263 - categorical_accuracy: 0.9668 - val_loss: 0.5911 - val_categorical_accuracy: 0.9286 - 785ms/epoch - 26ms/step\n",
            "Epoch 43/100\n",
            "30/30 - 1s - loss: 0.1159 - categorical_accuracy: 0.9657 - val_loss: 0.6120 - val_categorical_accuracy: 0.9286 - 754ms/epoch - 25ms/step\n",
            "Epoch 44/100\n",
            "30/30 - 1s - loss: 0.1162 - categorical_accuracy: 0.9673 - val_loss: 0.6126 - val_categorical_accuracy: 0.9238 - 754ms/epoch - 25ms/step\n",
            "Epoch 45/100\n",
            "30/30 - 1s - loss: 0.1068 - categorical_accuracy: 0.9752 - val_loss: 0.5984 - val_categorical_accuracy: 0.9238 - 748ms/epoch - 25ms/step\n",
            "Epoch 46/100\n",
            "30/30 - 1s - loss: 0.0958 - categorical_accuracy: 0.9705 - val_loss: 0.5983 - val_categorical_accuracy: 0.9286 - 783ms/epoch - 26ms/step\n",
            "Epoch 47/100\n",
            "30/30 - 1s - loss: 0.0948 - categorical_accuracy: 0.9715 - val_loss: 0.5939 - val_categorical_accuracy: 0.9238 - 755ms/epoch - 25ms/step\n",
            "Epoch 48/100\n",
            "30/30 - 1s - loss: 0.0985 - categorical_accuracy: 0.9710 - val_loss: 0.6142 - val_categorical_accuracy: 0.9286 - 758ms/epoch - 25ms/step\n",
            "Epoch 49/100\n",
            "30/30 - 1s - loss: 0.1042 - categorical_accuracy: 0.9726 - val_loss: 0.6234 - val_categorical_accuracy: 0.9238 - 750ms/epoch - 25ms/step\n",
            "Epoch 50/100\n",
            "30/30 - 1s - loss: 0.1094 - categorical_accuracy: 0.9726 - val_loss: 0.6101 - val_categorical_accuracy: 0.9238 - 753ms/epoch - 25ms/step\n",
            "Epoch 51/100\n",
            "30/30 - 1s - loss: 0.1003 - categorical_accuracy: 0.9705 - val_loss: 0.6444 - val_categorical_accuracy: 0.9286 - 752ms/epoch - 25ms/step\n",
            "Epoch 52/100\n",
            "30/30 - 1s - loss: 0.0925 - categorical_accuracy: 0.9763 - val_loss: 0.6395 - val_categorical_accuracy: 0.9286 - 753ms/epoch - 25ms/step\n",
            "Epoch 53/100\n",
            "30/30 - 1s - loss: 0.0866 - categorical_accuracy: 0.9742 - val_loss: 0.6304 - val_categorical_accuracy: 0.9286 - 810ms/epoch - 27ms/step\n",
            "Epoch 54/100\n",
            "30/30 - 1s - loss: 0.0976 - categorical_accuracy: 0.9726 - val_loss: 0.6484 - val_categorical_accuracy: 0.9286 - 759ms/epoch - 25ms/step\n",
            "Epoch 55/100\n",
            "30/30 - 1s - loss: 0.0911 - categorical_accuracy: 0.9720 - val_loss: 0.6806 - val_categorical_accuracy: 0.9238 - 770ms/epoch - 26ms/step\n",
            "Epoch 56/100\n",
            "30/30 - 1s - loss: 0.0908 - categorical_accuracy: 0.9715 - val_loss: 0.6953 - val_categorical_accuracy: 0.9190 - 793ms/epoch - 26ms/step\n",
            "Epoch 57/100\n",
            "30/30 - 1s - loss: 0.1038 - categorical_accuracy: 0.9641 - val_loss: 0.6730 - val_categorical_accuracy: 0.9286 - 808ms/epoch - 27ms/step\n",
            "Epoch 58/100\n",
            "30/30 - 1s - loss: 0.0912 - categorical_accuracy: 0.9742 - val_loss: 0.6497 - val_categorical_accuracy: 0.9238 - 763ms/epoch - 25ms/step\n",
            "Epoch 59/100\n",
            "30/30 - 1s - loss: 0.0894 - categorical_accuracy: 0.9736 - val_loss: 0.6368 - val_categorical_accuracy: 0.9286 - 860ms/epoch - 29ms/step\n",
            "Epoch 60/100\n",
            "30/30 - 1s - loss: 0.0908 - categorical_accuracy: 0.9689 - val_loss: 0.6416 - val_categorical_accuracy: 0.9286 - 768ms/epoch - 26ms/step\n",
            "Epoch 61/100\n",
            "30/30 - 1s - loss: 0.0827 - categorical_accuracy: 0.9731 - val_loss: 0.6947 - val_categorical_accuracy: 0.9143 - 766ms/epoch - 26ms/step\n",
            "Epoch 62/100\n",
            "30/30 - 1s - loss: 0.0730 - categorical_accuracy: 0.9789 - val_loss: 0.6645 - val_categorical_accuracy: 0.9286 - 781ms/epoch - 26ms/step\n",
            "Epoch 63/100\n",
            "30/30 - 1s - loss: 0.0826 - categorical_accuracy: 0.9752 - val_loss: 0.6665 - val_categorical_accuracy: 0.9238 - 778ms/epoch - 26ms/step\n",
            "Epoch 64/100\n",
            "30/30 - 1s - loss: 0.0917 - categorical_accuracy: 0.9720 - val_loss: 0.6439 - val_categorical_accuracy: 0.9286 - 852ms/epoch - 28ms/step\n",
            "Epoch 65/100\n",
            "30/30 - 1s - loss: 0.0839 - categorical_accuracy: 0.9731 - val_loss: 0.6358 - val_categorical_accuracy: 0.9333 - 773ms/epoch - 26ms/step\n",
            "Epoch 66/100\n",
            "30/30 - 1s - loss: 0.0786 - categorical_accuracy: 0.9768 - val_loss: 0.6817 - val_categorical_accuracy: 0.9238 - 795ms/epoch - 27ms/step\n",
            "Epoch 67/100\n",
            "30/30 - 1s - loss: 0.0913 - categorical_accuracy: 0.9694 - val_loss: 0.6279 - val_categorical_accuracy: 0.9333 - 737ms/epoch - 25ms/step\n",
            "Epoch 68/100\n",
            "30/30 - 1s - loss: 0.0942 - categorical_accuracy: 0.9715 - val_loss: 0.7311 - val_categorical_accuracy: 0.9333 - 758ms/epoch - 25ms/step\n",
            "Epoch 69/100\n",
            "30/30 - 1s - loss: 0.0983 - categorical_accuracy: 0.9736 - val_loss: 0.6809 - val_categorical_accuracy: 0.9143 - 790ms/epoch - 26ms/step\n",
            "Epoch 70/100\n",
            "30/30 - 1s - loss: 0.0970 - categorical_accuracy: 0.9694 - val_loss: 0.6729 - val_categorical_accuracy: 0.9286 - 792ms/epoch - 26ms/step\n",
            "Epoch 71/100\n",
            "30/30 - 1s - loss: 0.0769 - categorical_accuracy: 0.9742 - val_loss: 0.6499 - val_categorical_accuracy: 0.9190 - 800ms/epoch - 27ms/step\n",
            "Epoch 72/100\n",
            "30/30 - 1s - loss: 0.0848 - categorical_accuracy: 0.9752 - val_loss: 0.6465 - val_categorical_accuracy: 0.9286 - 775ms/epoch - 26ms/step\n",
            "Epoch 73/100\n",
            "30/30 - 1s - loss: 0.0840 - categorical_accuracy: 0.9710 - val_loss: 0.6973 - val_categorical_accuracy: 0.9333 - 752ms/epoch - 25ms/step\n",
            "Epoch 74/100\n",
            "30/30 - 1s - loss: 0.0912 - categorical_accuracy: 0.9715 - val_loss: 0.6531 - val_categorical_accuracy: 0.9238 - 754ms/epoch - 25ms/step\n",
            "Epoch 75/100\n",
            "30/30 - 1s - loss: 0.0784 - categorical_accuracy: 0.9736 - val_loss: 0.6847 - val_categorical_accuracy: 0.9238 - 774ms/epoch - 26ms/step\n",
            "Epoch 76/100\n",
            "30/30 - 1s - loss: 0.0877 - categorical_accuracy: 0.9715 - val_loss: 0.6717 - val_categorical_accuracy: 0.9286 - 788ms/epoch - 26ms/step\n",
            "Epoch 77/100\n",
            "30/30 - 1s - loss: 0.0931 - categorical_accuracy: 0.9673 - val_loss: 0.7101 - val_categorical_accuracy: 0.9238 - 795ms/epoch - 26ms/step\n",
            "Epoch 78/100\n",
            "30/30 - 1s - loss: 0.0729 - categorical_accuracy: 0.9757 - val_loss: 0.6693 - val_categorical_accuracy: 0.9286 - 838ms/epoch - 28ms/step\n",
            "Epoch 79/100\n",
            "30/30 - 1s - loss: 0.0648 - categorical_accuracy: 0.9763 - val_loss: 0.6552 - val_categorical_accuracy: 0.9333 - 818ms/epoch - 27ms/step\n",
            "Epoch 80/100\n",
            "30/30 - 1s - loss: 0.0778 - categorical_accuracy: 0.9742 - val_loss: 0.6683 - val_categorical_accuracy: 0.9190 - 784ms/epoch - 26ms/step\n",
            "Epoch 81/100\n",
            "30/30 - 1s - loss: 0.0769 - categorical_accuracy: 0.9747 - val_loss: 0.7182 - val_categorical_accuracy: 0.9238 - 780ms/epoch - 26ms/step\n",
            "Epoch 82/100\n",
            "30/30 - 1s - loss: 0.0707 - categorical_accuracy: 0.9784 - val_loss: 0.6653 - val_categorical_accuracy: 0.9238 - 833ms/epoch - 28ms/step\n",
            "Epoch 83/100\n",
            "30/30 - 1s - loss: 0.0704 - categorical_accuracy: 0.9742 - val_loss: 0.7098 - val_categorical_accuracy: 0.9286 - 776ms/epoch - 26ms/step\n",
            "Epoch 84/100\n",
            "30/30 - 1s - loss: 0.0707 - categorical_accuracy: 0.9731 - val_loss: 0.6858 - val_categorical_accuracy: 0.9333 - 757ms/epoch - 25ms/step\n",
            "Epoch 85/100\n",
            "30/30 - 1s - loss: 0.0669 - categorical_accuracy: 0.9784 - val_loss: 0.6784 - val_categorical_accuracy: 0.9190 - 774ms/epoch - 26ms/step\n",
            "Epoch 86/100\n",
            "30/30 - 1s - loss: 0.0647 - categorical_accuracy: 0.9747 - val_loss: 0.6899 - val_categorical_accuracy: 0.9333 - 766ms/epoch - 26ms/step\n",
            "Epoch 87/100\n",
            "30/30 - 1s - loss: 0.0662 - categorical_accuracy: 0.9752 - val_loss: 0.6885 - val_categorical_accuracy: 0.9333 - 781ms/epoch - 26ms/step\n",
            "Epoch 88/100\n",
            "30/30 - 1s - loss: 0.0774 - categorical_accuracy: 0.9752 - val_loss: 0.6478 - val_categorical_accuracy: 0.9286 - 792ms/epoch - 26ms/step\n",
            "Epoch 89/100\n",
            "30/30 - 1s - loss: 0.0682 - categorical_accuracy: 0.9726 - val_loss: 0.7085 - val_categorical_accuracy: 0.9286 - 785ms/epoch - 26ms/step\n",
            "Epoch 90/100\n",
            "30/30 - 1s - loss: 0.0640 - categorical_accuracy: 0.9763 - val_loss: 0.7218 - val_categorical_accuracy: 0.9381 - 797ms/epoch - 27ms/step\n",
            "Epoch 91/100\n",
            "30/30 - 1s - loss: 0.0710 - categorical_accuracy: 0.9752 - val_loss: 0.6754 - val_categorical_accuracy: 0.9333 - 835ms/epoch - 28ms/step\n",
            "Epoch 92/100\n",
            "30/30 - 1s - loss: 0.0784 - categorical_accuracy: 0.9757 - val_loss: 0.7027 - val_categorical_accuracy: 0.9333 - 766ms/epoch - 26ms/step\n",
            "Epoch 93/100\n",
            "30/30 - 1s - loss: 0.0687 - categorical_accuracy: 0.9757 - val_loss: 0.6816 - val_categorical_accuracy: 0.9333 - 759ms/epoch - 25ms/step\n",
            "Epoch 94/100\n",
            "30/30 - 1s - loss: 0.0664 - categorical_accuracy: 0.9747 - val_loss: 0.6571 - val_categorical_accuracy: 0.9381 - 781ms/epoch - 26ms/step\n",
            "Epoch 95/100\n",
            "30/30 - 1s - loss: 0.0753 - categorical_accuracy: 0.9747 - val_loss: 0.6931 - val_categorical_accuracy: 0.9238 - 765ms/epoch - 25ms/step\n",
            "Epoch 96/100\n",
            "30/30 - 1s - loss: 0.0624 - categorical_accuracy: 0.9778 - val_loss: 0.6730 - val_categorical_accuracy: 0.9333 - 740ms/epoch - 25ms/step\n",
            "Epoch 97/100\n",
            "30/30 - 1s - loss: 0.0719 - categorical_accuracy: 0.9763 - val_loss: 0.7336 - val_categorical_accuracy: 0.9238 - 776ms/epoch - 26ms/step\n",
            "Epoch 98/100\n",
            "30/30 - 1s - loss: 0.0641 - categorical_accuracy: 0.9784 - val_loss: 0.6816 - val_categorical_accuracy: 0.9333 - 785ms/epoch - 26ms/step\n",
            "Epoch 99/100\n",
            "30/30 - 1s - loss: 0.0605 - categorical_accuracy: 0.9757 - val_loss: 0.7154 - val_categorical_accuracy: 0.9190 - 771ms/epoch - 26ms/step\n",
            "Epoch 100/100\n",
            "30/30 - 1s - loss: 0.0636 - categorical_accuracy: 0.9752 - val_loss: 0.7246 - val_categorical_accuracy: 0.9381 - 785ms/epoch - 26ms/step\n"
          ]
        }
      ]
    },
    {
      "cell_type": "code",
      "source": [
        "# Forward model is trained on forward data, tested on forward data\n",
        "testing_pairs = generate_input_output_pairs([target_sequence])\n",
        "testX, testY = preprocess_data(testing_pairs)\n",
        "_, forward_accuracy = forward_model.evaluate(testX, testY)\n",
        "print(f\"Accuracy on Forward Model for {model_name}: {forward_accuracy:.2f}\")"
      ],
      "metadata": {
        "colab": {
          "base_uri": "https://localhost:8080/"
        },
        "outputId": "8c9d7b88-f195-4e03-c72c-c2db060214ca",
        "id": "KJRnqGTiOAmd"
      },
      "execution_count": 48,
      "outputs": [
        {
          "output_type": "stream",
          "name": "stdout",
          "text": [
            "7/7 [==============================] - 0s 8ms/step - loss: 0.0297 - categorical_accuracy: 0.9904\n",
            "Accuracy on Forward Model for CNN LSTM: 0.99\n"
          ]
        }
      ]
    },
    {
      "cell_type": "code",
      "source": [
        "# Reverse model is trained on reverse data, tested on reverse data\n",
        "testing_pairs = generate_input_output_pairs([target_sequence_reversed])\n",
        "testX, testY = preprocess_data(testing_pairs)\n",
        "_, reverse_accuracy = reverse_model.evaluate(testX, testY)\n",
        "print(f\"Accuracy on Reverse Model for {model_name}: {reverse_accuracy:.2f}\")"
      ],
      "metadata": {
        "colab": {
          "base_uri": "https://localhost:8080/"
        },
        "outputId": "2a877dda-7eda-4795-b570-149ba96bc72f",
        "id": "SS68IiMROAme"
      },
      "execution_count": 49,
      "outputs": [
        {
          "output_type": "stream",
          "name": "stdout",
          "text": [
            "7/7 [==============================] - 0s 8ms/step - loss: 0.0347 - categorical_accuracy: 0.9904\n",
            "Accuracy on Reverse Model for CNN LSTM: 0.99\n"
          ]
        }
      ]
    },
    {
      "cell_type": "code",
      "source": [
        "plot_metric(forward_history.history, title=\"Forward\", metric=\"categorical_accuracy\")"
      ],
      "metadata": {
        "colab": {
          "base_uri": "https://localhost:8080/",
          "height": 295
        },
        "outputId": "9e8d509e-cf78-47e9-86eb-171e7846efd3",
        "id": "IOZ4Fvx9OAme"
      },
      "execution_count": 50,
      "outputs": [
        {
          "output_type": "display_data",
          "data": {
            "text/plain": [
              "<Figure size 432x288 with 1 Axes>"
            ],
            "image/png": "[encoded data removed]"
          },
          "metadata": {
            "needs_background": "light"
          }
        }
      ]
    },
    {
      "cell_type": "code",
      "source": [
        "plot_metric(reverse_history.history, title=\"Reverse\", metric=\"categorical_accuracy\")"
      ],
      "metadata": {
        "colab": {
          "base_uri": "https://localhost:8080/",
          "height": 295
        },
        "outputId": "4006e58c-8c80-40fe-f65c-e117538d9e4a",
        "id": "9q9xLG6AOAme"
      },
      "execution_count": 51,
      "outputs": [
        {
          "output_type": "display_data",
          "data": {
            "text/plain": [
              "<Figure size 432x288 with 1 Axes>"
            ],
            "image/png": "[encoded data removed]"
          },
          "metadata": {
            "needs_background": "light"
          }
        }
      ]
    },
    {
      "cell_type": "code",
      "source": [
        "plot_metric(forward_history.history, title=\"Forward\", metric=\"loss\")"
      ],
      "metadata": {
        "colab": {
          "base_uri": "https://localhost:8080/",
          "height": 295
        },
        "outputId": "3c2e39e8-8a55-4016-b028-fa438b1171e8",
        "id": "3V3bnDFhOAmf"
      },
      "execution_count": 52,
      "outputs": [
        {
          "output_type": "display_data",
          "data": {
            "text/plain": [
              "<Figure size 432x288 with 1 Axes>"
            ],
            "image/png": "[encoded data removed]"
          },
          "metadata": {
            "needs_background": "light"
          }
        }
      ]
    },
    {
      "cell_type": "code",
      "source": [
        "plot_metric(reverse_history.history, title=\"Reverse\", metric=\"loss\")"
      ],
      "metadata": {
        "colab": {
          "base_uri": "https://localhost:8080/",
          "height": 295
        },
        "outputId": "9d0db4a5-dec8-4a59-90d8-3ca3c1a03323",
        "id": "QeopnSbeOAmf"
      },
      "execution_count": 53,
      "outputs": [
        {
          "output_type": "display_data",
          "data": {
            "text/plain": [
              "<Figure size 432x288 with 1 Axes>"
            ],
            "image/png": "[encoded data removed]"
          },
          "metadata": {
            "needs_background": "light"
          }
        }
      ]
    },
    {
      "cell_type": "code",
      "source": [
        "# Now use both models to predict a de novo sequence based on target sequence\n",
        "missing_indices = set([0, 1, 2, 24, 25, 26, 62, 63, 64, 66, 67, 68, 69, 75, 76, 77, 78, 79, 80, 81, 82, 83, 84, 85, 209, 210, 211, 212, 213])\n",
        "de_novo_sequence = \"\".join(c if i not in missing_indices else \"-\" for i, c in enumerate(target_sequence))\n",
        "\n",
        "pred_sequence_full = predict_gaps(de_novo_sequence, forward_model, reverse_model)\n",
        "incorrect_indices = get_nonmatching_indices(target_sequence, pred_sequence_full)\n",
        "correct_indices = missing_indices.difference(incorrect_indices)\n",
        "\n",
        "# Print the three different sequences for visual inspection\n",
        "print_sequence(target_sequence, \"TARGET SEQUENCE\")"
      ],
      "metadata": {
        "colab": {
          "base_uri": "https://localhost:8080/"
        },
        "outputId": "4d2c747a-89c9-4653-d3c0-4b7aec52ff71",
        "id": "WACvrK8sOAmg"
      },
      "execution_count": 54,
      "outputs": [
        {
          "output_type": "stream",
          "name": "stdout",
          "text": [
            "TARGET SEQUENCE\n",
            "=====================================================================\n",
            "DIQMTQSPSS\tLSASVGDRVT\tITCKASQNID\tKYLNWYQQKP\n",
            "GKAPKLLIYN\tTNNLQTGVPS\tRFSGSGSGTD\tFTFTISSLQP\n",
            "EDIATYYCLQ\tHISRPRTFGQ\tGTKVEIKRTV\tAAPSVFIFPP\n",
            "SDEQLKSGTA\tSVVCLLNNFY\tPREAKVQWKV\tDNALQSGNSQ\n",
            "ESVTEQDSKD\tSTYSLSSTLT\tLSKADYEKHK\tVYACEVTHQG\n",
            "LSSPVTKSFN\tRGEC\n"
          ]
        }
      ]
    },
    {
      "cell_type": "code",
      "source": [
        "print_sequence(de_novo_sequence,\"DE NOVO SEQUENCE\", missing_indices)"
      ],
      "metadata": {
        "colab": {
          "base_uri": "https://localhost:8080/"
        },
        "outputId": "96f9e051-507c-4376-986a-728af4f7354a",
        "id": "vYCvmTDDOAmh"
      },
      "execution_count": 55,
      "outputs": [
        {
          "output_type": "stream",
          "name": "stdout",
          "text": [
            "DE NOVO SEQUENCE\n",
            "=====================================================================\n",
            "\u001b[1m\u001b[31m-\u001b[0m\u001b[1m\u001b[31m-\u001b[0m\u001b[1m\u001b[31m-\u001b[0mMTQSPSS\tLSASVGDRVT\tITCK\u001b[1m\u001b[31m-\u001b[0m\u001b[1m\u001b[31m-\u001b[0m\u001b[1m\u001b[31m-\u001b[0mNID\tKYLNWYQQKP\n",
            "GKAPKLLIYN\tTNNLQTGVPS\tRF\u001b[1m\u001b[31m-\u001b[0m\u001b[1m\u001b[31m-\u001b[0m\u001b[1m\u001b[31m-\u001b[0mG\u001b[1m\u001b[31m-\u001b[0m\u001b[1m\u001b[31m-\u001b[0m\u001b[1m\u001b[31m-\u001b[0m\u001b[1m\u001b[31m-\u001b[0m\tFTFTI\u001b[1m\u001b[31m-\u001b[0m\u001b[1m\u001b[31m-\u001b[0m\u001b[1m\u001b[31m-\u001b[0m\u001b[1m\u001b[31m-\u001b[0m\u001b[1m\u001b[31m-\u001b[0m\n",
            "\u001b[1m\u001b[31m-\u001b[0m\u001b[1m\u001b[31m-\u001b[0m\u001b[1m\u001b[31m-\u001b[0m\u001b[1m\u001b[31m-\u001b[0m\u001b[1m\u001b[31m-\u001b[0m\u001b[1m\u001b[31m-\u001b[0mYCLQ\tHISRPRTFGQ\tGTKVEIKRTV\tAAPSVFIFPP\n",
            "SDEQLKSGTA\tSVVCLLNNFY\tPREAKVQWKV\tDNALQSGNSQ\n",
            "ESVTEQDSKD\tSTYSLSSTLT\tLSKADYEKHK\tVYACEVTHQG\n",
            "LSSPVTKSF\u001b[1m\u001b[31m-\u001b[0m\t\u001b[1m\u001b[31m-\u001b[0m\u001b[1m\u001b[31m-\u001b[0m\u001b[1m\u001b[31m-\u001b[0m\u001b[1m\u001b[31m-\u001b[0m\n"
          ]
        }
      ]
    },
    {
      "cell_type": "code",
      "source": [
        "print_sequence(pred_sequence_full, \"PREDICTED SEQUENCE\", incorrect_indices, correct_indices)"
      ],
      "metadata": {
        "colab": {
          "base_uri": "https://localhost:8080/"
        },
        "outputId": "a6c18190-c08b-43a9-ac34-96d7a19d04a8",
        "id": "m6lszjJFOAmh"
      },
      "execution_count": 56,
      "outputs": [
        {
          "output_type": "stream",
          "name": "stdout",
          "text": [
            "PREDICTED SEQUENCE\n",
            "=====================================================================\n",
            "\u001b[1m\u001b[32mD\u001b[0m\u001b[1m\u001b[32mI\u001b[0m\u001b[1m\u001b[32mQ\u001b[0mMTQSPSS\tLSASVGDRVT\tITCK\u001b[1m\u001b[32mA\u001b[0m\u001b[1m\u001b[32mS\u001b[0m\u001b[1m\u001b[32mQ\u001b[0mNID\tKYLNWYQQKP\n",
            "GKAPKLLIYN\tTNNLQTGVPS\tRF\u001b[1m\u001b[32mS\u001b[0m\u001b[1m\u001b[32mG\u001b[0m\u001b[1m\u001b[32mS\u001b[0mG\u001b[1m\u001b[32mS\u001b[0m\u001b[1m\u001b[32mG\u001b[0m\u001b[1m\u001b[32mT\u001b[0m\u001b[1m\u001b[32mD\u001b[0m\tFTFTI\u001b[1m\u001b[32mS\u001b[0m\u001b[1m\u001b[32mS\u001b[0m\u001b[1m\u001b[32mL\u001b[0m\u001b[1m\u001b[32mQ\u001b[0m\u001b[1m\u001b[32mP\u001b[0m\n",
            "\u001b[1m\u001b[32mE\u001b[0m\u001b[1m\u001b[32mD\u001b[0m\u001b[1m\u001b[32mI\u001b[0m\u001b[1m\u001b[32mA\u001b[0m\u001b[1m\u001b[32mT\u001b[0m\u001b[1m\u001b[32mY\u001b[0mYCLQ\tHISRPRTFGQ\tGTKVEIKRTV\tAAPSVFIFPP\n",
            "SDEQLKSGTA\tSVVCLLNNFY\tPREAKVQWKV\tDNALQSGNSQ\n",
            "ESVTEQDSKD\tSTYSLSSTLT\tLSKADYEKHK\tVYACEVTHQG\n",
            "LSSPVTKSF\u001b[1m\u001b[32mN\u001b[0m\t\u001b[1m\u001b[32mR\u001b[0m\u001b[1m\u001b[32mG\u001b[0m\u001b[1m\u001b[32mE\u001b[0m\u001b[1m\u001b[32mC\u001b[0m\n"
          ]
        }
      ]
    },
    {
      "cell_type": "code",
      "source": [
        "# Compute final accuracy on de novo sequence\n",
        "target_len = len(target_sequence)\n",
        "full_accuracy = (target_len - len(incorrect_indices)) / target_len\n",
        "print(f\"Accuracy on De Novo Sequence: {full_accuracy:.3f}\")"
      ],
      "metadata": {
        "colab": {
          "base_uri": "https://localhost:8080/"
        },
        "outputId": "21efe862-8d63-45be-a99a-6be0f98a5d32",
        "id": "-x6wvDUuOAmh"
      },
      "execution_count": 57,
      "outputs": [
        {
          "output_type": "stream",
          "name": "stdout",
          "text": [
            "Accuracy on De Novo Sequence: 1.000\n"
          ]
        }
      ]
    },
    {
      "cell_type": "code",
      "source": [
        "# Print the predictions in forward and reverse directions as well\n",
        "forward_pred = predict_gaps(de_novo_sequence, forward_model=forward_model, reverse_model=None)\n",
        "incorrect_indices = get_nonmatching_indices(target_sequence, forward_pred)\n",
        "correct_indices = missing_indices.difference(incorrect_indices)\n",
        "print_sequence(forward_pred, \"FORWARD PREDICTIONS\", incorrect_indices, correct_indices)\n",
        "\n",
        "reverse_pred = predict_gaps(de_novo_sequence, forward_model=None, reverse_model=reverse_model)\n",
        "incorrect_indices = get_nonmatching_indices(target_sequence, reverse_pred)\n",
        "correct_indices = missing_indices.difference(incorrect_indices)\n",
        "print_sequence(reverse_pred, \"REVERSE PREDICTIONS\", incorrect_indices, correct_indices)"
      ],
      "metadata": {
        "colab": {
          "base_uri": "https://localhost:8080/"
        },
        "outputId": "5eb2238f-ef2c-449d-a33a-758fbf39e56e",
        "id": "UnabbemQOAmh"
      },
      "execution_count": 58,
      "outputs": [
        {
          "output_type": "stream",
          "name": "stdout",
          "text": [
            "FORWARD PREDICTIONS\n",
            "=====================================================================\n",
            "\u001b[1m\u001b[31m-\u001b[0m\u001b[1m\u001b[31m-\u001b[0m\u001b[1m\u001b[31m-\u001b[0mMTQSPSS\tLSASVGDRVT\tITCK\u001b[1m\u001b[32mA\u001b[0m\u001b[1m\u001b[32mS\u001b[0m\u001b[1m\u001b[32mQ\u001b[0mNID\tKYLNWYQQKP\n",
            "GKAPKLLIYN\tTNNLQTGVPS\tRF\u001b[1m\u001b[32mS\u001b[0m\u001b[1m\u001b[32mG\u001b[0m\u001b[1m\u001b[32mS\u001b[0mG\u001b[1m\u001b[32mS\u001b[0m\u001b[1m\u001b[32mG\u001b[0m\u001b[1m\u001b[32mT\u001b[0m\u001b[1m\u001b[32mD\u001b[0m\tFTFTI\u001b[1m\u001b[32mS\u001b[0m\u001b[1m\u001b[32mS\u001b[0m\u001b[1m\u001b[32mL\u001b[0m\u001b[1m\u001b[32mQ\u001b[0m\u001b[1m\u001b[32mP\u001b[0m\n",
            "\u001b[1m\u001b[32mE\u001b[0m\u001b[1m\u001b[32mD\u001b[0m\u001b[1m\u001b[32mI\u001b[0m\u001b[1m\u001b[32mA\u001b[0m\u001b[1m\u001b[32mT\u001b[0m\u001b[1m\u001b[32mY\u001b[0mYCLQ\tHISRPRTFGQ\tGTKVEIKRTV\tAAPSVFIFPP\n",
            "SDEQLKSGTA\tSVVCLLNNFY\tPREAKVQWKV\tDNALQSGNSQ\n",
            "ESVTEQDSKD\tSTYSLSSTLT\tLSKADYEKHK\tVYACEVTHQG\n",
            "LSSPVTKSF\u001b[1m\u001b[32mN\u001b[0m\t\u001b[1m\u001b[32mR\u001b[0m\u001b[1m\u001b[32mG\u001b[0m\u001b[1m\u001b[32mE\u001b[0m\u001b[1m\u001b[32mC\u001b[0m\n",
            "REVERSE PREDICTIONS\n",
            "=====================================================================\n",
            "\u001b[1m\u001b[32mD\u001b[0m\u001b[1m\u001b[32mI\u001b[0m\u001b[1m\u001b[32mQ\u001b[0mMTQSPSS\tLSASVGDRVT\tITCK\u001b[1m\u001b[32mA\u001b[0m\u001b[1m\u001b[32mS\u001b[0m\u001b[1m\u001b[32mQ\u001b[0mNID\tKYLNWYQQKP\n",
            "GKAPKLLIYN\tTNNLQTGVPS\tRF\u001b[1m\u001b[32mS\u001b[0m\u001b[1m\u001b[32mG\u001b[0m\u001b[1m\u001b[32mS\u001b[0mG\u001b[1m\u001b[32mS\u001b[0m\u001b[1m\u001b[32mG\u001b[0m\u001b[1m\u001b[32mT\u001b[0m\u001b[1m\u001b[32mD\u001b[0m\tFTFTI\u001b[1m\u001b[32mS\u001b[0m\u001b[1m\u001b[32mS\u001b[0m\u001b[1m\u001b[32mL\u001b[0m\u001b[1m\u001b[32mQ\u001b[0m\u001b[1m\u001b[32mP\u001b[0m\n",
            "\u001b[1m\u001b[32mE\u001b[0m\u001b[1m\u001b[32mD\u001b[0m\u001b[1m\u001b[32mI\u001b[0m\u001b[1m\u001b[32mA\u001b[0m\u001b[1m\u001b[32mT\u001b[0m\u001b[1m\u001b[32mY\u001b[0mYCLQ\tHISRPRTFGQ\tGTKVEIKRTV\tAAPSVFIFPP\n",
            "SDEQLKSGTA\tSVVCLLNNFY\tPREAKVQWKV\tDNALQSGNSQ\n",
            "ESVTEQDSKD\tSTYSLSSTLT\tLSKADYEKHK\tVYACEVTHQG\n",
            "LSSPVTKSF\u001b[1m\u001b[31m-\u001b[0m\t\u001b[1m\u001b[31m-\u001b[0m\u001b[1m\u001b[31m-\u001b[0m\u001b[1m\u001b[31m-\u001b[0m\u001b[1m\u001b[31m-\u001b[0m\n"
          ]
        }
      ]
    },
    {
      "cell_type": "code",
      "source": [
        "# ==============================================================================\n",
        "# BiLSTM MODEL\n",
        "# ==============================================================================\n",
        "model_type=\"bilstm\""
      ],
      "metadata": {
        "id": "w4JkF78mOMuc"
      },
      "execution_count": 59,
      "outputs": []
    },
    {
      "cell_type": "code",
      "source": [
        "forward_model, forward_history, model_name = build_model(training_sequences, model_type)"
      ],
      "metadata": {
        "id": "jFs-YiNfOTWB",
        "colab": {
          "base_uri": "https://localhost:8080/"
        },
        "outputId": "f267aaa3-05f8-49e2-c45d-9de889fbbd0e"
      },
      "execution_count": 60,
      "outputs": [
        {
          "output_type": "stream",
          "name": "stdout",
          "text": [
            "Epoch 1/100\n",
            "30/30 - 7s - loss: 2.9251 - categorical_accuracy: 0.1345 - val_loss: 2.8363 - val_categorical_accuracy: 0.1714 - 7s/epoch - 219ms/step\n",
            "Epoch 2/100\n",
            "30/30 - 1s - loss: 2.8513 - categorical_accuracy: 0.1450 - val_loss: 2.7817 - val_categorical_accuracy: 0.1714 - 1s/epoch - 47ms/step\n",
            "Epoch 3/100\n",
            "30/30 - 1s - loss: 2.8229 - categorical_accuracy: 0.1450 - val_loss: 2.7677 - val_categorical_accuracy: 0.1714 - 1s/epoch - 47ms/step\n",
            "Epoch 4/100\n",
            "30/30 - 1s - loss: 2.8172 - categorical_accuracy: 0.1450 - val_loss: 2.7635 - val_categorical_accuracy: 0.1714 - 1s/epoch - 48ms/step\n",
            "Epoch 5/100\n",
            "30/30 - 1s - loss: 2.8105 - categorical_accuracy: 0.1450 - val_loss: 2.7361 - val_categorical_accuracy: 0.1714 - 1s/epoch - 46ms/step\n",
            "Epoch 6/100\n",
            "30/30 - 1s - loss: 2.7939 - categorical_accuracy: 0.1450 - val_loss: 2.7297 - val_categorical_accuracy: 0.1905 - 1s/epoch - 46ms/step\n",
            "Epoch 7/100\n",
            "30/30 - 1s - loss: 2.7783 - categorical_accuracy: 0.1472 - val_loss: 2.7242 - val_categorical_accuracy: 0.1714 - 1s/epoch - 46ms/step\n",
            "Epoch 8/100\n",
            "30/30 - 1s - loss: 2.7477 - categorical_accuracy: 0.1524 - val_loss: 2.7075 - val_categorical_accuracy: 0.1714 - 1s/epoch - 46ms/step\n",
            "Epoch 9/100\n",
            "30/30 - 1s - loss: 2.7284 - categorical_accuracy: 0.1704 - val_loss: 2.6543 - val_categorical_accuracy: 0.2000 - 1s/epoch - 46ms/step\n",
            "Epoch 10/100\n",
            "30/30 - 1s - loss: 2.6980 - categorical_accuracy: 0.1624 - val_loss: 2.5956 - val_categorical_accuracy: 0.2238 - 1s/epoch - 47ms/step\n",
            "Epoch 11/100\n",
            "30/30 - 1s - loss: 2.6569 - categorical_accuracy: 0.1756 - val_loss: 2.5819 - val_categorical_accuracy: 0.2143 - 1s/epoch - 45ms/step\n",
            "Epoch 12/100\n",
            "30/30 - 1s - loss: 2.6209 - categorical_accuracy: 0.1846 - val_loss: 2.5311 - val_categorical_accuracy: 0.2333 - 1s/epoch - 46ms/step\n",
            "Epoch 13/100\n",
            "30/30 - 1s - loss: 2.5697 - categorical_accuracy: 0.1951 - val_loss: 2.5236 - val_categorical_accuracy: 0.2429 - 1s/epoch - 47ms/step\n",
            "Epoch 14/100\n",
            "30/30 - 1s - loss: 2.5251 - categorical_accuracy: 0.1909 - val_loss: 2.5036 - val_categorical_accuracy: 0.2333 - 1s/epoch - 46ms/step\n",
            "Epoch 15/100\n",
            "30/30 - 1s - loss: 2.4697 - categorical_accuracy: 0.2126 - val_loss: 2.4052 - val_categorical_accuracy: 0.2476 - 1s/epoch - 47ms/step\n",
            "Epoch 16/100\n",
            "30/30 - 1s - loss: 2.3915 - categorical_accuracy: 0.2199 - val_loss: 2.3537 - val_categorical_accuracy: 0.2810 - 1s/epoch - 47ms/step\n",
            "Epoch 17/100\n",
            "30/30 - 1s - loss: 2.3281 - categorical_accuracy: 0.2553 - val_loss: 2.2470 - val_categorical_accuracy: 0.2810 - 1s/epoch - 47ms/step\n",
            "Epoch 18/100\n",
            "30/30 - 1s - loss: 2.2828 - categorical_accuracy: 0.2605 - val_loss: 2.2854 - val_categorical_accuracy: 0.2571 - 1s/epoch - 48ms/step\n",
            "Epoch 19/100\n",
            "30/30 - 1s - loss: 2.1644 - categorical_accuracy: 0.2959 - val_loss: 2.1055 - val_categorical_accuracy: 0.2952 - 1s/epoch - 46ms/step\n",
            "Epoch 20/100\n",
            "30/30 - 1s - loss: 2.0304 - categorical_accuracy: 0.3386 - val_loss: 2.0003 - val_categorical_accuracy: 0.3429 - 1s/epoch - 46ms/step\n",
            "Epoch 21/100\n",
            "30/30 - 1s - loss: 1.9300 - categorical_accuracy: 0.3655 - val_loss: 1.8711 - val_categorical_accuracy: 0.4000 - 1s/epoch - 45ms/step\n",
            "Epoch 22/100\n",
            "30/30 - 1s - loss: 1.8889 - categorical_accuracy: 0.3782 - val_loss: 1.9209 - val_categorical_accuracy: 0.3429 - 1s/epoch - 46ms/step\n",
            "Epoch 23/100\n",
            "30/30 - 1s - loss: 1.7269 - categorical_accuracy: 0.4430 - val_loss: 1.8209 - val_categorical_accuracy: 0.4190 - 1s/epoch - 46ms/step\n",
            "Epoch 24/100\n",
            "30/30 - 1s - loss: 1.5767 - categorical_accuracy: 0.5090 - val_loss: 1.6362 - val_categorical_accuracy: 0.3905 - 1s/epoch - 47ms/step\n",
            "Epoch 25/100\n",
            "30/30 - 1s - loss: 1.4511 - categorical_accuracy: 0.5406 - val_loss: 1.4689 - val_categorical_accuracy: 0.5048 - 1s/epoch - 46ms/step\n",
            "Epoch 26/100\n",
            "30/30 - 1s - loss: 1.3645 - categorical_accuracy: 0.5749 - val_loss: 1.3212 - val_categorical_accuracy: 0.5429 - 1s/epoch - 47ms/step\n",
            "Epoch 27/100\n",
            "30/30 - 1s - loss: 1.2601 - categorical_accuracy: 0.6044 - val_loss: 1.1890 - val_categorical_accuracy: 0.6048 - 1s/epoch - 47ms/step\n",
            "Epoch 28/100\n",
            "30/30 - 1s - loss: 1.1622 - categorical_accuracy: 0.6319 - val_loss: 1.1016 - val_categorical_accuracy: 0.6905 - 1s/epoch - 47ms/step\n",
            "Epoch 29/100\n",
            "30/30 - 1s - loss: 1.0206 - categorical_accuracy: 0.7099 - val_loss: 1.0230 - val_categorical_accuracy: 0.7095 - 1s/epoch - 46ms/step\n",
            "Epoch 30/100\n",
            "30/30 - 1s - loss: 0.9302 - categorical_accuracy: 0.7226 - val_loss: 1.1389 - val_categorical_accuracy: 0.7095 - 1s/epoch - 46ms/step\n",
            "Epoch 31/100\n",
            "30/30 - 1s - loss: 0.8322 - categorical_accuracy: 0.7648 - val_loss: 0.9292 - val_categorical_accuracy: 0.7190 - 1s/epoch - 47ms/step\n",
            "Epoch 32/100\n",
            "30/30 - 1s - loss: 0.7387 - categorical_accuracy: 0.7927 - val_loss: 0.7906 - val_categorical_accuracy: 0.7667 - 1s/epoch - 47ms/step\n",
            "Epoch 33/100\n",
            "30/30 - 1s - loss: 0.6969 - categorical_accuracy: 0.8038 - val_loss: 0.7826 - val_categorical_accuracy: 0.7810 - 1s/epoch - 46ms/step\n",
            "Epoch 34/100\n",
            "30/30 - 1s - loss: 0.6266 - categorical_accuracy: 0.8286 - val_loss: 0.7037 - val_categorical_accuracy: 0.8190 - 1s/epoch - 47ms/step\n",
            "Epoch 35/100\n",
            "30/30 - 1s - loss: 0.5669 - categorical_accuracy: 0.8455 - val_loss: 0.6125 - val_categorical_accuracy: 0.8238 - 1s/epoch - 46ms/step\n",
            "Epoch 36/100\n",
            "30/30 - 1s - loss: 0.4837 - categorical_accuracy: 0.8660 - val_loss: 0.5753 - val_categorical_accuracy: 0.8810 - 1s/epoch - 46ms/step\n",
            "Epoch 37/100\n",
            "30/30 - 1s - loss: 0.4925 - categorical_accuracy: 0.8645 - val_loss: 0.7095 - val_categorical_accuracy: 0.8286 - 1s/epoch - 47ms/step\n",
            "Epoch 38/100\n",
            "30/30 - 1s - loss: 0.4332 - categorical_accuracy: 0.8961 - val_loss: 0.5507 - val_categorical_accuracy: 0.8667 - 1s/epoch - 47ms/step\n",
            "Epoch 39/100\n",
            "30/30 - 1s - loss: 0.3922 - categorical_accuracy: 0.9045 - val_loss: 0.5166 - val_categorical_accuracy: 0.9190 - 1s/epoch - 48ms/step\n",
            "Epoch 40/100\n",
            "30/30 - 1s - loss: 0.3947 - categorical_accuracy: 0.8972 - val_loss: 0.6097 - val_categorical_accuracy: 0.8619 - 1s/epoch - 46ms/step\n",
            "Epoch 41/100\n",
            "30/30 - 1s - loss: 0.3502 - categorical_accuracy: 0.9135 - val_loss: 0.4965 - val_categorical_accuracy: 0.9238 - 1s/epoch - 48ms/step\n",
            "Epoch 42/100\n",
            "30/30 - 1s - loss: 0.3141 - categorical_accuracy: 0.9193 - val_loss: 0.6470 - val_categorical_accuracy: 0.8524 - 1s/epoch - 46ms/step\n",
            "Epoch 43/100\n",
            "30/30 - 1s - loss: 0.4125 - categorical_accuracy: 0.8750 - val_loss: 0.5189 - val_categorical_accuracy: 0.8952 - 1s/epoch - 46ms/step\n",
            "Epoch 44/100\n",
            "30/30 - 1s - loss: 0.3236 - categorical_accuracy: 0.9130 - val_loss: 0.4876 - val_categorical_accuracy: 0.9238 - 1s/epoch - 46ms/step\n",
            "Epoch 45/100\n",
            "30/30 - 1s - loss: 0.2740 - categorical_accuracy: 0.9225 - val_loss: 0.5531 - val_categorical_accuracy: 0.8952 - 1s/epoch - 46ms/step\n",
            "Epoch 46/100\n",
            "30/30 - 1s - loss: 0.2639 - categorical_accuracy: 0.9288 - val_loss: 0.4952 - val_categorical_accuracy: 0.9000 - 1s/epoch - 46ms/step\n",
            "Epoch 47/100\n",
            "30/30 - 1s - loss: 0.2722 - categorical_accuracy: 0.9283 - val_loss: 0.5163 - val_categorical_accuracy: 0.9095 - 1s/epoch - 46ms/step\n",
            "Epoch 48/100\n",
            "30/30 - 1s - loss: 0.2458 - categorical_accuracy: 0.9351 - val_loss: 0.4231 - val_categorical_accuracy: 0.9095 - 1s/epoch - 47ms/step\n",
            "Epoch 49/100\n",
            "30/30 - 1s - loss: 0.2289 - categorical_accuracy: 0.9436 - val_loss: 0.5132 - val_categorical_accuracy: 0.9095 - 1s/epoch - 48ms/step\n",
            "Epoch 50/100\n",
            "30/30 - 1s - loss: 0.2610 - categorical_accuracy: 0.9262 - val_loss: 0.4296 - val_categorical_accuracy: 0.9190 - 1s/epoch - 50ms/step\n",
            "Epoch 51/100\n",
            "30/30 - 1s - loss: 0.2287 - categorical_accuracy: 0.9351 - val_loss: 0.4676 - val_categorical_accuracy: 0.9048 - 1s/epoch - 47ms/step\n",
            "Epoch 52/100\n",
            "30/30 - 1s - loss: 0.2160 - categorical_accuracy: 0.9425 - val_loss: 0.4200 - val_categorical_accuracy: 0.9190 - 1s/epoch - 46ms/step\n",
            "Epoch 53/100\n",
            "30/30 - 1s - loss: 0.1518 - categorical_accuracy: 0.9631 - val_loss: 0.4200 - val_categorical_accuracy: 0.9238 - 1s/epoch - 47ms/step\n",
            "Epoch 54/100\n",
            "30/30 - 1s - loss: 0.1508 - categorical_accuracy: 0.9631 - val_loss: 0.4477 - val_categorical_accuracy: 0.9190 - 1s/epoch - 46ms/step\n",
            "Epoch 55/100\n",
            "30/30 - 1s - loss: 0.1339 - categorical_accuracy: 0.9641 - val_loss: 0.3973 - val_categorical_accuracy: 0.9333 - 1s/epoch - 47ms/step\n",
            "Epoch 56/100\n",
            "30/30 - 1s - loss: 0.1294 - categorical_accuracy: 0.9668 - val_loss: 0.4263 - val_categorical_accuracy: 0.9333 - 1s/epoch - 47ms/step\n",
            "Epoch 57/100\n",
            "30/30 - 1s - loss: 0.1193 - categorical_accuracy: 0.9720 - val_loss: 0.4258 - val_categorical_accuracy: 0.9238 - 1s/epoch - 46ms/step\n",
            "Epoch 58/100\n",
            "30/30 - 1s - loss: 0.1367 - categorical_accuracy: 0.9647 - val_loss: 0.4329 - val_categorical_accuracy: 0.9286 - 1s/epoch - 45ms/step\n",
            "Epoch 59/100\n",
            "30/30 - 1s - loss: 0.1534 - categorical_accuracy: 0.9578 - val_loss: 0.4554 - val_categorical_accuracy: 0.9286 - 1s/epoch - 46ms/step\n",
            "Epoch 60/100\n",
            "30/30 - 1s - loss: 0.1328 - categorical_accuracy: 0.9631 - val_loss: 0.4367 - val_categorical_accuracy: 0.9190 - 1s/epoch - 47ms/step\n",
            "Epoch 61/100\n",
            "30/30 - 1s - loss: 0.1200 - categorical_accuracy: 0.9678 - val_loss: 0.4659 - val_categorical_accuracy: 0.9000 - 1s/epoch - 47ms/step\n",
            "Epoch 62/100\n",
            "30/30 - 1s - loss: 0.1286 - categorical_accuracy: 0.9684 - val_loss: 0.4397 - val_categorical_accuracy: 0.9238 - 1s/epoch - 47ms/step\n",
            "Epoch 63/100\n",
            "30/30 - 1s - loss: 0.1166 - categorical_accuracy: 0.9673 - val_loss: 0.4260 - val_categorical_accuracy: 0.9286 - 1s/epoch - 46ms/step\n",
            "Epoch 64/100\n",
            "30/30 - 1s - loss: 0.1075 - categorical_accuracy: 0.9684 - val_loss: 0.4305 - val_categorical_accuracy: 0.9238 - 1s/epoch - 48ms/step\n",
            "Epoch 65/100\n",
            "30/30 - 1s - loss: 0.1216 - categorical_accuracy: 0.9668 - val_loss: 0.4161 - val_categorical_accuracy: 0.9286 - 1s/epoch - 46ms/step\n",
            "Epoch 66/100\n",
            "30/30 - 1s - loss: 0.1097 - categorical_accuracy: 0.9715 - val_loss: 0.3930 - val_categorical_accuracy: 0.9381 - 1s/epoch - 47ms/step\n",
            "Epoch 67/100\n",
            "30/30 - 1s - loss: 0.0984 - categorical_accuracy: 0.9710 - val_loss: 0.5017 - val_categorical_accuracy: 0.9238 - 1s/epoch - 47ms/step\n",
            "Epoch 68/100\n",
            "30/30 - 1s - loss: 0.1345 - categorical_accuracy: 0.9594 - val_loss: 0.4543 - val_categorical_accuracy: 0.9333 - 1s/epoch - 46ms/step\n",
            "Epoch 69/100\n",
            "30/30 - 1s - loss: 0.1063 - categorical_accuracy: 0.9699 - val_loss: 0.4233 - val_categorical_accuracy: 0.9286 - 1s/epoch - 47ms/step\n",
            "Epoch 70/100\n",
            "30/30 - 1s - loss: 0.1075 - categorical_accuracy: 0.9662 - val_loss: 0.3896 - val_categorical_accuracy: 0.9524 - 1s/epoch - 48ms/step\n",
            "Epoch 71/100\n",
            "30/30 - 1s - loss: 0.0877 - categorical_accuracy: 0.9747 - val_loss: 0.4485 - val_categorical_accuracy: 0.9429 - 1s/epoch - 48ms/step\n",
            "Epoch 72/100\n",
            "30/30 - 1s - loss: 0.0914 - categorical_accuracy: 0.9710 - val_loss: 0.3770 - val_categorical_accuracy: 0.9524 - 1s/epoch - 47ms/step\n",
            "Epoch 73/100\n",
            "30/30 - 1s - loss: 0.0923 - categorical_accuracy: 0.9742 - val_loss: 0.4312 - val_categorical_accuracy: 0.9381 - 1s/epoch - 47ms/step\n",
            "Epoch 74/100\n",
            "30/30 - 1s - loss: 0.0791 - categorical_accuracy: 0.9757 - val_loss: 0.4449 - val_categorical_accuracy: 0.9333 - 1s/epoch - 48ms/step\n",
            "Epoch 75/100\n",
            "30/30 - 1s - loss: 0.0962 - categorical_accuracy: 0.9747 - val_loss: 0.3979 - val_categorical_accuracy: 0.9381 - 1s/epoch - 48ms/step\n",
            "Epoch 76/100\n",
            "30/30 - 1s - loss: 0.0842 - categorical_accuracy: 0.9763 - val_loss: 0.4200 - val_categorical_accuracy: 0.9333 - 1s/epoch - 48ms/step\n",
            "Epoch 77/100\n",
            "30/30 - 1s - loss: 0.0873 - categorical_accuracy: 0.9757 - val_loss: 0.3943 - val_categorical_accuracy: 0.9524 - 1s/epoch - 47ms/step\n",
            "Epoch 78/100\n",
            "30/30 - 1s - loss: 0.0982 - categorical_accuracy: 0.9720 - val_loss: 0.4930 - val_categorical_accuracy: 0.9286 - 1s/epoch - 46ms/step\n",
            "Epoch 79/100\n",
            "30/30 - 1s - loss: 0.1042 - categorical_accuracy: 0.9699 - val_loss: 0.4372 - val_categorical_accuracy: 0.9476 - 1s/epoch - 47ms/step\n",
            "Epoch 80/100\n",
            "30/30 - 1s - loss: 0.2020 - categorical_accuracy: 0.9415 - val_loss: 0.6604 - val_categorical_accuracy: 0.8857 - 1s/epoch - 48ms/step\n",
            "Epoch 81/100\n",
            "30/30 - 1s - loss: 0.3144 - categorical_accuracy: 0.9024 - val_loss: 0.5551 - val_categorical_accuracy: 0.9000 - 1s/epoch - 47ms/step\n",
            "Epoch 82/100\n",
            "30/30 - 1s - loss: 0.1699 - categorical_accuracy: 0.9451 - val_loss: 0.5490 - val_categorical_accuracy: 0.9048 - 1s/epoch - 48ms/step\n",
            "Epoch 83/100\n",
            "30/30 - 1s - loss: 0.1239 - categorical_accuracy: 0.9668 - val_loss: 0.4024 - val_categorical_accuracy: 0.9476 - 1s/epoch - 46ms/step\n",
            "Epoch 84/100\n",
            "30/30 - 1s - loss: 0.0979 - categorical_accuracy: 0.9673 - val_loss: 0.4596 - val_categorical_accuracy: 0.9238 - 1s/epoch - 47ms/step\n",
            "Epoch 85/100\n",
            "30/30 - 1s - loss: 0.1107 - categorical_accuracy: 0.9678 - val_loss: 0.4890 - val_categorical_accuracy: 0.9333 - 1s/epoch - 46ms/step\n",
            "Epoch 86/100\n",
            "30/30 - 1s - loss: 0.1139 - categorical_accuracy: 0.9620 - val_loss: 0.4217 - val_categorical_accuracy: 0.9476 - 1s/epoch - 46ms/step\n",
            "Epoch 87/100\n",
            "30/30 - 1s - loss: 0.0836 - categorical_accuracy: 0.9736 - val_loss: 0.4137 - val_categorical_accuracy: 0.9381 - 1s/epoch - 46ms/step\n",
            "Epoch 88/100\n",
            "30/30 - 1s - loss: 0.0920 - categorical_accuracy: 0.9710 - val_loss: 0.4111 - val_categorical_accuracy: 0.9429 - 1s/epoch - 47ms/step\n",
            "Epoch 89/100\n",
            "30/30 - 1s - loss: 0.0795 - categorical_accuracy: 0.9736 - val_loss: 0.4384 - val_categorical_accuracy: 0.9238 - 1s/epoch - 47ms/step\n",
            "Epoch 90/100\n",
            "30/30 - 1s - loss: 0.0749 - categorical_accuracy: 0.9752 - val_loss: 0.4365 - val_categorical_accuracy: 0.9238 - 1s/epoch - 47ms/step\n",
            "Epoch 91/100\n",
            "30/30 - 1s - loss: 0.0731 - categorical_accuracy: 0.9736 - val_loss: 0.4686 - val_categorical_accuracy: 0.9238 - 1s/epoch - 47ms/step\n",
            "Epoch 92/100\n",
            "30/30 - 1s - loss: 0.0807 - categorical_accuracy: 0.9747 - val_loss: 0.4626 - val_categorical_accuracy: 0.9286 - 1s/epoch - 48ms/step\n",
            "Epoch 93/100\n",
            "30/30 - 1s - loss: 0.0815 - categorical_accuracy: 0.9705 - val_loss: 0.4509 - val_categorical_accuracy: 0.9238 - 1s/epoch - 47ms/step\n",
            "Epoch 94/100\n",
            "30/30 - 1s - loss: 0.0735 - categorical_accuracy: 0.9773 - val_loss: 0.4560 - val_categorical_accuracy: 0.9286 - 1s/epoch - 47ms/step\n",
            "Epoch 95/100\n",
            "30/30 - 1s - loss: 0.0799 - categorical_accuracy: 0.9757 - val_loss: 0.3908 - val_categorical_accuracy: 0.9571 - 1s/epoch - 45ms/step\n",
            "Epoch 96/100\n",
            "30/30 - 1s - loss: 0.0826 - categorical_accuracy: 0.9742 - val_loss: 0.4187 - val_categorical_accuracy: 0.9476 - 1s/epoch - 46ms/step\n",
            "Epoch 97/100\n",
            "30/30 - 1s - loss: 0.0815 - categorical_accuracy: 0.9752 - val_loss: 0.4085 - val_categorical_accuracy: 0.9333 - 1s/epoch - 46ms/step\n",
            "Epoch 98/100\n",
            "30/30 - 1s - loss: 0.0682 - categorical_accuracy: 0.9752 - val_loss: 0.4249 - val_categorical_accuracy: 0.9333 - 1s/epoch - 48ms/step\n",
            "Epoch 99/100\n",
            "30/30 - 1s - loss: 0.0649 - categorical_accuracy: 0.9789 - val_loss: 0.4205 - val_categorical_accuracy: 0.9429 - 1s/epoch - 46ms/step\n",
            "Epoch 100/100\n",
            "30/30 - 1s - loss: 0.0692 - categorical_accuracy: 0.9747 - val_loss: 0.4120 - val_categorical_accuracy: 0.9619 - 1s/epoch - 47ms/step\n"
          ]
        }
      ]
    },
    {
      "cell_type": "code",
      "source": [
        "reverse_model, reverse_history, _ = build_model(training_sequences_reversed, model_type)"
      ],
      "metadata": {
        "id": "1ZxdBy4YOTWC",
        "colab": {
          "base_uri": "https://localhost:8080/"
        },
        "outputId": "57fa7839-271a-438d-d90c-488f28551509"
      },
      "execution_count": 61,
      "outputs": [
        {
          "output_type": "stream",
          "name": "stdout",
          "text": [
            "Epoch 1/100\n",
            "30/30 - 6s - loss: 2.9411 - categorical_accuracy: 0.1292 - val_loss: 2.8560 - val_categorical_accuracy: 0.1667 - 6s/epoch - 200ms/step\n",
            "Epoch 2/100\n",
            "30/30 - 1s - loss: 2.8517 - categorical_accuracy: 0.1456 - val_loss: 2.8002 - val_categorical_accuracy: 0.1667 - 1s/epoch - 47ms/step\n",
            "Epoch 3/100\n",
            "30/30 - 1s - loss: 2.8257 - categorical_accuracy: 0.1456 - val_loss: 2.7920 - val_categorical_accuracy: 0.1667 - 1s/epoch - 46ms/step\n",
            "Epoch 4/100\n",
            "30/30 - 1s - loss: 2.8171 - categorical_accuracy: 0.1472 - val_loss: 2.7882 - val_categorical_accuracy: 0.1667 - 1s/epoch - 45ms/step\n",
            "Epoch 5/100\n",
            "30/30 - 1s - loss: 2.8143 - categorical_accuracy: 0.1456 - val_loss: 2.7831 - val_categorical_accuracy: 0.1667 - 1s/epoch - 47ms/step\n",
            "Epoch 6/100\n",
            "30/30 - 1s - loss: 2.8052 - categorical_accuracy: 0.1456 - val_loss: 2.7727 - val_categorical_accuracy: 0.1762 - 1s/epoch - 45ms/step\n",
            "Epoch 7/100\n",
            "30/30 - 1s - loss: 2.7953 - categorical_accuracy: 0.1445 - val_loss: 2.7379 - val_categorical_accuracy: 0.1667 - 1s/epoch - 47ms/step\n",
            "Epoch 8/100\n",
            "30/30 - 1s - loss: 2.7597 - categorical_accuracy: 0.1603 - val_loss: 2.6919 - val_categorical_accuracy: 0.1857 - 1s/epoch - 48ms/step\n",
            "Epoch 9/100\n",
            "30/30 - 1s - loss: 2.7043 - categorical_accuracy: 0.1682 - val_loss: 2.6973 - val_categorical_accuracy: 0.1429 - 1s/epoch - 46ms/step\n",
            "Epoch 10/100\n",
            "30/30 - 1s - loss: 2.6523 - categorical_accuracy: 0.1793 - val_loss: 2.6404 - val_categorical_accuracy: 0.1905 - 1s/epoch - 47ms/step\n",
            "Epoch 11/100\n",
            "30/30 - 1s - loss: 2.5959 - categorical_accuracy: 0.1893 - val_loss: 2.6016 - val_categorical_accuracy: 0.1952 - 1s/epoch - 46ms/step\n",
            "Epoch 12/100\n",
            "30/30 - 1s - loss: 2.5628 - categorical_accuracy: 0.2110 - val_loss: 2.5112 - val_categorical_accuracy: 0.2190 - 1s/epoch - 45ms/step\n",
            "Epoch 13/100\n",
            "30/30 - 1s - loss: 2.4494 - categorical_accuracy: 0.2310 - val_loss: 2.4200 - val_categorical_accuracy: 0.2905 - 1s/epoch - 46ms/step\n",
            "Epoch 14/100\n",
            "30/30 - 1s - loss: 2.3683 - categorical_accuracy: 0.2574 - val_loss: 2.3935 - val_categorical_accuracy: 0.2476 - 1s/epoch - 46ms/step\n",
            "Epoch 15/100\n",
            "30/30 - 1s - loss: 2.2685 - categorical_accuracy: 0.2790 - val_loss: 2.2863 - val_categorical_accuracy: 0.2524 - 1s/epoch - 45ms/step\n",
            "Epoch 16/100\n",
            "30/30 - 1s - loss: 2.1283 - categorical_accuracy: 0.3080 - val_loss: 2.1437 - val_categorical_accuracy: 0.2857 - 1s/epoch - 45ms/step\n",
            "Epoch 17/100\n",
            "30/30 - 1s - loss: 2.0331 - categorical_accuracy: 0.3296 - val_loss: 2.1194 - val_categorical_accuracy: 0.3048 - 1s/epoch - 45ms/step\n",
            "Epoch 18/100\n",
            "30/30 - 1s - loss: 1.9018 - categorical_accuracy: 0.3734 - val_loss: 1.9785 - val_categorical_accuracy: 0.3286 - 1s/epoch - 44ms/step\n",
            "Epoch 19/100\n",
            "30/30 - 1s - loss: 1.8152 - categorical_accuracy: 0.4056 - val_loss: 1.9796 - val_categorical_accuracy: 0.3048 - 1s/epoch - 46ms/step\n",
            "Epoch 20/100\n",
            "30/30 - 1s - loss: 1.7318 - categorical_accuracy: 0.4262 - val_loss: 1.8182 - val_categorical_accuracy: 0.4095 - 1s/epoch - 46ms/step\n",
            "Epoch 21/100\n",
            "30/30 - 1s - loss: 1.5935 - categorical_accuracy: 0.4905 - val_loss: 1.6401 - val_categorical_accuracy: 0.4762 - 1s/epoch - 46ms/step\n",
            "Epoch 22/100\n",
            "30/30 - 1s - loss: 1.4622 - categorical_accuracy: 0.5227 - val_loss: 1.5918 - val_categorical_accuracy: 0.4952 - 1s/epoch - 45ms/step\n",
            "Epoch 23/100\n",
            "30/30 - 1s - loss: 1.3223 - categorical_accuracy: 0.5970 - val_loss: 1.5284 - val_categorical_accuracy: 0.5286 - 1s/epoch - 45ms/step\n",
            "Epoch 24/100\n",
            "30/30 - 1s - loss: 1.2466 - categorical_accuracy: 0.6166 - val_loss: 1.4347 - val_categorical_accuracy: 0.5619 - 1s/epoch - 45ms/step\n",
            "Epoch 25/100\n",
            "30/30 - 1s - loss: 1.1314 - categorical_accuracy: 0.6551 - val_loss: 1.3283 - val_categorical_accuracy: 0.6095 - 1s/epoch - 45ms/step\n",
            "Epoch 26/100\n",
            "30/30 - 1s - loss: 1.0807 - categorical_accuracy: 0.6809 - val_loss: 1.1766 - val_categorical_accuracy: 0.6333 - 1s/epoch - 45ms/step\n",
            "Epoch 27/100\n",
            "30/30 - 1s - loss: 0.9583 - categorical_accuracy: 0.7184 - val_loss: 1.1325 - val_categorical_accuracy: 0.6714 - 1s/epoch - 45ms/step\n",
            "Epoch 28/100\n",
            "30/30 - 1s - loss: 0.8700 - categorical_accuracy: 0.7774 - val_loss: 1.0050 - val_categorical_accuracy: 0.7429 - 1s/epoch - 46ms/step\n",
            "Epoch 29/100\n",
            "30/30 - 1s - loss: 0.7799 - categorical_accuracy: 0.7932 - val_loss: 1.0159 - val_categorical_accuracy: 0.7190 - 1s/epoch - 45ms/step\n",
            "Epoch 30/100\n",
            "30/30 - 1s - loss: 0.7161 - categorical_accuracy: 0.8196 - val_loss: 0.9226 - val_categorical_accuracy: 0.7476 - 1s/epoch - 45ms/step\n",
            "Epoch 31/100\n",
            "30/30 - 1s - loss: 0.6292 - categorical_accuracy: 0.8455 - val_loss: 0.8332 - val_categorical_accuracy: 0.7857 - 1s/epoch - 47ms/step\n",
            "Epoch 32/100\n",
            "30/30 - 1s - loss: 0.5606 - categorical_accuracy: 0.8666 - val_loss: 0.7235 - val_categorical_accuracy: 0.8190 - 1s/epoch - 46ms/step\n",
            "Epoch 33/100\n",
            "30/30 - 1s - loss: 0.5131 - categorical_accuracy: 0.8776 - val_loss: 0.7144 - val_categorical_accuracy: 0.8619 - 1s/epoch - 45ms/step\n",
            "Epoch 34/100\n",
            "30/30 - 1s - loss: 0.4848 - categorical_accuracy: 0.8940 - val_loss: 0.6662 - val_categorical_accuracy: 0.8381 - 1s/epoch - 46ms/step\n",
            "Epoch 35/100\n",
            "30/30 - 1s - loss: 0.4552 - categorical_accuracy: 0.9024 - val_loss: 0.6319 - val_categorical_accuracy: 0.8571 - 1s/epoch - 46ms/step\n",
            "Epoch 36/100\n",
            "30/30 - 1s - loss: 0.4149 - categorical_accuracy: 0.9130 - val_loss: 0.5927 - val_categorical_accuracy: 0.9048 - 1s/epoch - 47ms/step\n",
            "Epoch 37/100\n",
            "30/30 - 1s - loss: 0.3855 - categorical_accuracy: 0.9140 - val_loss: 0.6179 - val_categorical_accuracy: 0.8524 - 1s/epoch - 47ms/step\n",
            "Epoch 38/100\n",
            "30/30 - 1s - loss: 0.3862 - categorical_accuracy: 0.9040 - val_loss: 0.5920 - val_categorical_accuracy: 0.8810 - 1s/epoch - 47ms/step\n",
            "Epoch 39/100\n",
            "30/30 - 1s - loss: 0.3360 - categorical_accuracy: 0.9172 - val_loss: 0.5058 - val_categorical_accuracy: 0.8905 - 1s/epoch - 45ms/step\n",
            "Epoch 40/100\n",
            "30/30 - 1s - loss: 0.3100 - categorical_accuracy: 0.9198 - val_loss: 0.5344 - val_categorical_accuracy: 0.9048 - 1s/epoch - 46ms/step\n",
            "Epoch 41/100\n",
            "30/30 - 1s - loss: 0.2725 - categorical_accuracy: 0.9335 - val_loss: 0.4577 - val_categorical_accuracy: 0.8905 - 1s/epoch - 46ms/step\n",
            "Epoch 42/100\n",
            "30/30 - 1s - loss: 0.2682 - categorical_accuracy: 0.9341 - val_loss: 0.5004 - val_categorical_accuracy: 0.9095 - 1s/epoch - 46ms/step\n",
            "Epoch 43/100\n",
            "30/30 - 1s - loss: 0.2571 - categorical_accuracy: 0.9362 - val_loss: 0.4410 - val_categorical_accuracy: 0.9000 - 1s/epoch - 50ms/step\n",
            "Epoch 44/100\n",
            "30/30 - 1s - loss: 0.2439 - categorical_accuracy: 0.9362 - val_loss: 0.4093 - val_categorical_accuracy: 0.9095 - 1s/epoch - 46ms/step\n",
            "Epoch 45/100\n",
            "30/30 - 1s - loss: 0.2380 - categorical_accuracy: 0.9393 - val_loss: 0.4587 - val_categorical_accuracy: 0.9143 - 1s/epoch - 46ms/step\n",
            "Epoch 46/100\n",
            "30/30 - 1s - loss: 0.2153 - categorical_accuracy: 0.9420 - val_loss: 0.4249 - val_categorical_accuracy: 0.8952 - 1s/epoch - 48ms/step\n",
            "Epoch 47/100\n",
            "30/30 - 1s - loss: 0.1835 - categorical_accuracy: 0.9504 - val_loss: 0.3973 - val_categorical_accuracy: 0.9143 - 1s/epoch - 45ms/step\n",
            "Epoch 48/100\n",
            "30/30 - 1s - loss: 0.1735 - categorical_accuracy: 0.9573 - val_loss: 0.4092 - val_categorical_accuracy: 0.9190 - 1s/epoch - 47ms/step\n",
            "Epoch 49/100\n",
            "30/30 - 1s - loss: 0.1741 - categorical_accuracy: 0.9546 - val_loss: 0.3919 - val_categorical_accuracy: 0.9190 - 1s/epoch - 47ms/step\n",
            "Epoch 50/100\n",
            "30/30 - 1s - loss: 0.1783 - categorical_accuracy: 0.9494 - val_loss: 0.3782 - val_categorical_accuracy: 0.9190 - 1s/epoch - 47ms/step\n",
            "Epoch 51/100\n",
            "30/30 - 1s - loss: 0.1583 - categorical_accuracy: 0.9573 - val_loss: 0.3634 - val_categorical_accuracy: 0.9238 - 1s/epoch - 45ms/step\n",
            "Epoch 52/100\n",
            "30/30 - 1s - loss: 0.1477 - categorical_accuracy: 0.9589 - val_loss: 0.3941 - val_categorical_accuracy: 0.9190 - 1s/epoch - 47ms/step\n",
            "Epoch 53/100\n",
            "30/30 - 1s - loss: 0.1586 - categorical_accuracy: 0.9557 - val_loss: 0.3873 - val_categorical_accuracy: 0.9286 - 1s/epoch - 47ms/step\n",
            "Epoch 54/100\n",
            "30/30 - 1s - loss: 0.1700 - categorical_accuracy: 0.9499 - val_loss: 0.3973 - val_categorical_accuracy: 0.9333 - 1s/epoch - 46ms/step\n",
            "Epoch 55/100\n",
            "30/30 - 1s - loss: 0.2104 - categorical_accuracy: 0.9320 - val_loss: 0.4336 - val_categorical_accuracy: 0.9143 - 1s/epoch - 45ms/step\n",
            "Epoch 56/100\n",
            "30/30 - 1s - loss: 0.2130 - categorical_accuracy: 0.9436 - val_loss: 0.4087 - val_categorical_accuracy: 0.8905 - 1s/epoch - 46ms/step\n",
            "Epoch 57/100\n",
            "30/30 - 1s - loss: 0.1438 - categorical_accuracy: 0.9631 - val_loss: 0.3331 - val_categorical_accuracy: 0.9238 - 1s/epoch - 46ms/step\n",
            "Epoch 58/100\n",
            "30/30 - 1s - loss: 0.1405 - categorical_accuracy: 0.9589 - val_loss: 0.4125 - val_categorical_accuracy: 0.9143 - 1s/epoch - 45ms/step\n",
            "Epoch 59/100\n",
            "30/30 - 1s - loss: 0.1220 - categorical_accuracy: 0.9631 - val_loss: 0.4032 - val_categorical_accuracy: 0.9095 - 1s/epoch - 47ms/step\n",
            "Epoch 60/100\n",
            "30/30 - 1s - loss: 0.1243 - categorical_accuracy: 0.9668 - val_loss: 0.3717 - val_categorical_accuracy: 0.9238 - 1s/epoch - 48ms/step\n",
            "Epoch 61/100\n",
            "30/30 - 1s - loss: 0.1167 - categorical_accuracy: 0.9678 - val_loss: 0.3744 - val_categorical_accuracy: 0.9238 - 1s/epoch - 46ms/step\n",
            "Epoch 62/100\n",
            "30/30 - 1s - loss: 0.1052 - categorical_accuracy: 0.9736 - val_loss: 0.4071 - val_categorical_accuracy: 0.9143 - 1s/epoch - 46ms/step\n",
            "Epoch 63/100\n",
            "30/30 - 1s - loss: 0.1089 - categorical_accuracy: 0.9689 - val_loss: 0.4096 - val_categorical_accuracy: 0.9143 - 1s/epoch - 45ms/step\n",
            "Epoch 64/100\n",
            "30/30 - 1s - loss: 0.1250 - categorical_accuracy: 0.9631 - val_loss: 0.3735 - val_categorical_accuracy: 0.9333 - 1s/epoch - 46ms/step\n",
            "Epoch 65/100\n",
            "30/30 - 1s - loss: 0.1098 - categorical_accuracy: 0.9678 - val_loss: 0.3324 - val_categorical_accuracy: 0.9238 - 1s/epoch - 46ms/step\n",
            "Epoch 66/100\n",
            "30/30 - 1s - loss: 0.1019 - categorical_accuracy: 0.9731 - val_loss: 0.3938 - val_categorical_accuracy: 0.9143 - 1s/epoch - 45ms/step\n",
            "Epoch 67/100\n",
            "30/30 - 1s - loss: 0.1074 - categorical_accuracy: 0.9678 - val_loss: 0.4167 - val_categorical_accuracy: 0.9143 - 1s/epoch - 46ms/step\n",
            "Epoch 68/100\n",
            "30/30 - 1s - loss: 0.0942 - categorical_accuracy: 0.9763 - val_loss: 0.3880 - val_categorical_accuracy: 0.9238 - 1s/epoch - 46ms/step\n",
            "Epoch 69/100\n",
            "30/30 - 1s - loss: 0.0877 - categorical_accuracy: 0.9705 - val_loss: 0.3711 - val_categorical_accuracy: 0.9190 - 1s/epoch - 45ms/step\n",
            "Epoch 70/100\n",
            "30/30 - 1s - loss: 0.1127 - categorical_accuracy: 0.9684 - val_loss: 0.3629 - val_categorical_accuracy: 0.9381 - 1s/epoch - 44ms/step\n",
            "Epoch 71/100\n",
            "30/30 - 1s - loss: 0.1668 - categorical_accuracy: 0.9478 - val_loss: 0.5443 - val_categorical_accuracy: 0.9000 - 1s/epoch - 46ms/step\n",
            "Epoch 72/100\n",
            "30/30 - 1s - loss: 0.1920 - categorical_accuracy: 0.9451 - val_loss: 0.5145 - val_categorical_accuracy: 0.9095 - 1s/epoch - 46ms/step\n",
            "Epoch 73/100\n",
            "30/30 - 1s - loss: 0.1501 - categorical_accuracy: 0.9552 - val_loss: 0.3594 - val_categorical_accuracy: 0.9190 - 1s/epoch - 45ms/step\n",
            "Epoch 74/100\n",
            "30/30 - 1s - loss: 0.1176 - categorical_accuracy: 0.9689 - val_loss: 0.3814 - val_categorical_accuracy: 0.9333 - 1s/epoch - 45ms/step\n",
            "Epoch 75/100\n",
            "30/30 - 1s - loss: 0.0964 - categorical_accuracy: 0.9684 - val_loss: 0.3651 - val_categorical_accuracy: 0.9286 - 1s/epoch - 46ms/step\n",
            "Epoch 76/100\n",
            "30/30 - 1s - loss: 0.0840 - categorical_accuracy: 0.9747 - val_loss: 0.3576 - val_categorical_accuracy: 0.9333 - 1s/epoch - 46ms/step\n",
            "Epoch 77/100\n",
            "30/30 - 1s - loss: 0.0795 - categorical_accuracy: 0.9752 - val_loss: 0.3681 - val_categorical_accuracy: 0.9333 - 1s/epoch - 45ms/step\n",
            "Epoch 78/100\n",
            "30/30 - 1s - loss: 0.0781 - categorical_accuracy: 0.9757 - val_loss: 0.3641 - val_categorical_accuracy: 0.9143 - 1s/epoch - 46ms/step\n",
            "Epoch 79/100\n",
            "30/30 - 1s - loss: 0.0849 - categorical_accuracy: 0.9731 - val_loss: 0.3710 - val_categorical_accuracy: 0.9429 - 1s/epoch - 46ms/step\n",
            "Epoch 80/100\n",
            "30/30 - 1s - loss: 0.0857 - categorical_accuracy: 0.9768 - val_loss: 0.4195 - val_categorical_accuracy: 0.9143 - 1s/epoch - 45ms/step\n",
            "Epoch 81/100\n",
            "30/30 - 1s - loss: 0.0949 - categorical_accuracy: 0.9705 - val_loss: 0.4118 - val_categorical_accuracy: 0.9095 - 1s/epoch - 46ms/step\n",
            "Epoch 82/100\n",
            "30/30 - 1s - loss: 0.1005 - categorical_accuracy: 0.9694 - val_loss: 0.3795 - val_categorical_accuracy: 0.9238 - 1s/epoch - 47ms/step\n",
            "Epoch 83/100\n",
            "30/30 - 1s - loss: 0.1118 - categorical_accuracy: 0.9647 - val_loss: 0.3881 - val_categorical_accuracy: 0.9048 - 1s/epoch - 45ms/step\n",
            "Epoch 84/100\n",
            "30/30 - 1s - loss: 0.0985 - categorical_accuracy: 0.9699 - val_loss: 0.3447 - val_categorical_accuracy: 0.9190 - 1s/epoch - 46ms/step\n",
            "Epoch 85/100\n",
            "30/30 - 1s - loss: 0.0927 - categorical_accuracy: 0.9726 - val_loss: 0.3317 - val_categorical_accuracy: 0.9381 - 1s/epoch - 47ms/step\n",
            "Epoch 86/100\n",
            "30/30 - 1s - loss: 0.0804 - categorical_accuracy: 0.9763 - val_loss: 0.3669 - val_categorical_accuracy: 0.9238 - 1s/epoch - 49ms/step\n",
            "Epoch 87/100\n",
            "30/30 - 1s - loss: 0.0737 - categorical_accuracy: 0.9747 - val_loss: 0.3484 - val_categorical_accuracy: 0.9238 - 1s/epoch - 46ms/step\n",
            "Epoch 88/100\n",
            "30/30 - 1s - loss: 0.0832 - categorical_accuracy: 0.9763 - val_loss: 0.3648 - val_categorical_accuracy: 0.9286 - 1s/epoch - 47ms/step\n",
            "Epoch 89/100\n",
            "30/30 - 1s - loss: 0.0729 - categorical_accuracy: 0.9768 - val_loss: 0.3548 - val_categorical_accuracy: 0.9381 - 1s/epoch - 47ms/step\n",
            "Epoch 90/100\n",
            "30/30 - 1s - loss: 0.0786 - categorical_accuracy: 0.9752 - val_loss: 0.3640 - val_categorical_accuracy: 0.9238 - 1s/epoch - 46ms/step\n",
            "Epoch 91/100\n",
            "30/30 - 1s - loss: 0.0768 - categorical_accuracy: 0.9752 - val_loss: 0.3498 - val_categorical_accuracy: 0.9238 - 1s/epoch - 45ms/step\n",
            "Epoch 92/100\n",
            "30/30 - 1s - loss: 0.0834 - categorical_accuracy: 0.9736 - val_loss: 0.4073 - val_categorical_accuracy: 0.9190 - 1s/epoch - 45ms/step\n",
            "Epoch 93/100\n",
            "30/30 - 1s - loss: 0.0853 - categorical_accuracy: 0.9726 - val_loss: 0.4336 - val_categorical_accuracy: 0.9190 - 1s/epoch - 45ms/step\n",
            "Epoch 94/100\n",
            "30/30 - 1s - loss: 0.1027 - categorical_accuracy: 0.9710 - val_loss: 0.4162 - val_categorical_accuracy: 0.9238 - 1s/epoch - 45ms/step\n",
            "Epoch 95/100\n",
            "30/30 - 1s - loss: 0.0941 - categorical_accuracy: 0.9731 - val_loss: 0.3661 - val_categorical_accuracy: 0.9238 - 1s/epoch - 45ms/step\n",
            "Epoch 96/100\n",
            "30/30 - 1s - loss: 0.0711 - categorical_accuracy: 0.9747 - val_loss: 0.4260 - val_categorical_accuracy: 0.9333 - 1s/epoch - 46ms/step\n",
            "Epoch 97/100\n",
            "30/30 - 1s - loss: 0.0762 - categorical_accuracy: 0.9789 - val_loss: 0.3593 - val_categorical_accuracy: 0.9333 - 1s/epoch - 46ms/step\n",
            "Epoch 98/100\n",
            "30/30 - 1s - loss: 0.0669 - categorical_accuracy: 0.9763 - val_loss: 0.3826 - val_categorical_accuracy: 0.9333 - 1s/epoch - 49ms/step\n",
            "Epoch 99/100\n",
            "30/30 - 1s - loss: 0.0677 - categorical_accuracy: 0.9800 - val_loss: 0.3659 - val_categorical_accuracy: 0.9286 - 1s/epoch - 46ms/step\n",
            "Epoch 100/100\n",
            "30/30 - 1s - loss: 0.0991 - categorical_accuracy: 0.9694 - val_loss: 0.3741 - val_categorical_accuracy: 0.9286 - 1s/epoch - 46ms/step\n"
          ]
        }
      ]
    },
    {
      "cell_type": "code",
      "source": [
        "# Forward model is trained on forward data, tested on forward data\n",
        "testing_pairs = generate_input_output_pairs([target_sequence])\n",
        "testX, testY = preprocess_data(testing_pairs)\n",
        "_, forward_accuracy = forward_model.evaluate(testX, testY)\n",
        "print(f\"Accuracy on Forward Model for {model_name}: {forward_accuracy:.2f}\")"
      ],
      "metadata": {
        "id": "cc4bvpldOTWC",
        "colab": {
          "base_uri": "https://localhost:8080/"
        },
        "outputId": "fc67e22f-ca0e-4dbd-9573-1d7b2e53418e"
      },
      "execution_count": 62,
      "outputs": [
        {
          "output_type": "stream",
          "name": "stdout",
          "text": [
            "7/7 [==============================] - 0s 12ms/step - loss: 0.0327 - categorical_accuracy: 0.9856\n",
            "Accuracy on Forward Model for Bi-LSTM: 0.99\n"
          ]
        }
      ]
    },
    {
      "cell_type": "code",
      "source": [
        "# Reverse model is trained on reverse data, tested on reverse data\n",
        "testing_pairs = generate_input_output_pairs([target_sequence_reversed])\n",
        "testX, testY = preprocess_data(testing_pairs)\n",
        "_, reverse_accuracy = reverse_model.evaluate(testX, testY)\n",
        "print(f\"Accuracy on Reverse Model for {model_name}: {reverse_accuracy:.2f}\")"
      ],
      "metadata": {
        "id": "Fo9YaRq_OTWD",
        "colab": {
          "base_uri": "https://localhost:8080/"
        },
        "outputId": "d1a4c4ce-f051-4c4a-d496-5c8b18ed2516"
      },
      "execution_count": 63,
      "outputs": [
        {
          "output_type": "stream",
          "name": "stdout",
          "text": [
            "7/7 [==============================] - 0s 13ms/step - loss: 0.0356 - categorical_accuracy: 0.9904\n",
            "Accuracy on Reverse Model for Bi-LSTM: 0.99\n"
          ]
        }
      ]
    },
    {
      "cell_type": "code",
      "source": [
        "plot_metric(forward_history.history, title=\"Forward\", metric=\"categorical_accuracy\")"
      ],
      "metadata": {
        "id": "J1NzaAPNOTWD",
        "colab": {
          "base_uri": "https://localhost:8080/",
          "height": 295
        },
        "outputId": "80574ebb-de5d-4df9-9b9f-23bd2fcd6fd0"
      },
      "execution_count": 64,
      "outputs": [
        {
          "output_type": "display_data",
          "data": {
            "text/plain": [
              "<Figure size 432x288 with 1 Axes>"
            ],
            "image/png": "[encoded data removed]"
          },
          "metadata": {
            "needs_background": "light"
          }
        }
      ]
    },
    {
      "cell_type": "code",
      "source": [
        "plot_metric(reverse_history.history, title=\"Reverse\", metric=\"categorical_accuracy\")"
      ],
      "metadata": {
        "id": "TWWKkhPSOTWD",
        "colab": {
          "base_uri": "https://localhost:8080/",
          "height": 295
        },
        "outputId": "942761b0-d8e4-48d5-c958-49854f102577"
      },
      "execution_count": 65,
      "outputs": [
        {
          "output_type": "display_data",
          "data": {
            "text/plain": [
              "<Figure size 432x288 with 1 Axes>"
            ],
            "image/png": "[encoded data removed]"
          },
          "metadata": {
            "needs_background": "light"
          }
        }
      ]
    },
    {
      "cell_type": "code",
      "source": [
        "plot_metric(forward_history.history, title=\"Forward\", metric=\"loss\")"
      ],
      "metadata": {
        "id": "JmUr7zJwOTWE",
        "colab": {
          "base_uri": "https://localhost:8080/",
          "height": 295
        },
        "outputId": "65510a8c-4bcf-4ca4-d8c0-c21a14df5114"
      },
      "execution_count": 66,
      "outputs": [
        {
          "output_type": "display_data",
          "data": {
            "text/plain": [
              "<Figure size 432x288 with 1 Axes>"
            ],
            "image/png": "[encoded data removed]"
          },
          "metadata": {
            "needs_background": "light"
          }
        }
      ]
    },
    {
      "cell_type": "code",
      "source": [
        "plot_metric(reverse_history.history, title=\"Reverse\", metric=\"loss\")"
      ],
      "metadata": {
        "id": "nJ41cVt7OTWE",
        "colab": {
          "base_uri": "https://localhost:8080/",
          "height": 295
        },
        "outputId": "e776b27d-f5ea-41ea-b9c4-393e4345f8f5"
      },
      "execution_count": 67,
      "outputs": [
        {
          "output_type": "display_data",
          "data": {
            "text/plain": [
              "<Figure size 432x288 with 1 Axes>"
            ],
            "image/png": "[encoded data removed]"
          },
          "metadata": {
            "needs_background": "light"
          }
        }
      ]
    },
    {
      "cell_type": "code",
      "source": [
        "# Now use both models to predict a de novo sequence based on target sequence\n",
        "missing_indices = set([0, 1, 2, 24, 25, 26, 62, 63, 64, 66, 67, 68, 69, 75, 76, 77, 78, 79, 80, 81, 82, 83, 84, 85, 209, 210, 211, 212, 213])\n",
        "de_novo_sequence = \"\".join(c if i not in missing_indices else \"-\" for i, c in enumerate(target_sequence))\n",
        "\n",
        "pred_sequence_full = predict_gaps(de_novo_sequence, forward_model, reverse_model)\n",
        "incorrect_indices = get_nonmatching_indices(target_sequence, pred_sequence_full)\n",
        "correct_indices = missing_indices.difference(incorrect_indices)\n",
        "\n",
        "# Print the three different sequences for visual inspection\n",
        "print_sequence(target_sequence, \"TARGET SEQUENCE\")"
      ],
      "metadata": {
        "id": "HWKje9jAOTWE",
        "colab": {
          "base_uri": "https://localhost:8080/"
        },
        "outputId": "14c5b659-0acc-4378-911a-6040f9d7131c"
      },
      "execution_count": 68,
      "outputs": [
        {
          "output_type": "stream",
          "name": "stdout",
          "text": [
            "TARGET SEQUENCE\n",
            "=====================================================================\n",
            "DIQMTQSPSS\tLSASVGDRVT\tITCKASQNID\tKYLNWYQQKP\n",
            "GKAPKLLIYN\tTNNLQTGVPS\tRFSGSGSGTD\tFTFTISSLQP\n",
            "EDIATYYCLQ\tHISRPRTFGQ\tGTKVEIKRTV\tAAPSVFIFPP\n",
            "SDEQLKSGTA\tSVVCLLNNFY\tPREAKVQWKV\tDNALQSGNSQ\n",
            "ESVTEQDSKD\tSTYSLSSTLT\tLSKADYEKHK\tVYACEVTHQG\n",
            "LSSPVTKSFN\tRGEC\n"
          ]
        }
      ]
    },
    {
      "cell_type": "code",
      "source": [
        "print_sequence(de_novo_sequence,\"DE NOVO SEQUENCE\", missing_indices)"
      ],
      "metadata": {
        "id": "AgeeZFRLOTWF",
        "colab": {
          "base_uri": "https://localhost:8080/"
        },
        "outputId": "77671efb-82a7-409a-e487-a279437520fb"
      },
      "execution_count": 69,
      "outputs": [
        {
          "output_type": "stream",
          "name": "stdout",
          "text": [
            "DE NOVO SEQUENCE\n",
            "=====================================================================\n",
            "\u001b[1m\u001b[31m-\u001b[0m\u001b[1m\u001b[31m-\u001b[0m\u001b[1m\u001b[31m-\u001b[0mMTQSPSS\tLSASVGDRVT\tITCK\u001b[1m\u001b[31m-\u001b[0m\u001b[1m\u001b[31m-\u001b[0m\u001b[1m\u001b[31m-\u001b[0mNID\tKYLNWYQQKP\n",
            "GKAPKLLIYN\tTNNLQTGVPS\tRF\u001b[1m\u001b[31m-\u001b[0m\u001b[1m\u001b[31m-\u001b[0m\u001b[1m\u001b[31m-\u001b[0mG\u001b[1m\u001b[31m-\u001b[0m\u001b[1m\u001b[31m-\u001b[0m\u001b[1m\u001b[31m-\u001b[0m\u001b[1m\u001b[31m-\u001b[0m\tFTFTI\u001b[1m\u001b[31m-\u001b[0m\u001b[1m\u001b[31m-\u001b[0m\u001b[1m\u001b[31m-\u001b[0m\u001b[1m\u001b[31m-\u001b[0m\u001b[1m\u001b[31m-\u001b[0m\n",
            "\u001b[1m\u001b[31m-\u001b[0m\u001b[1m\u001b[31m-\u001b[0m\u001b[1m\u001b[31m-\u001b[0m\u001b[1m\u001b[31m-\u001b[0m\u001b[1m\u001b[31m-\u001b[0m\u001b[1m\u001b[31m-\u001b[0mYCLQ\tHISRPRTFGQ\tGTKVEIKRTV\tAAPSVFIFPP\n",
            "SDEQLKSGTA\tSVVCLLNNFY\tPREAKVQWKV\tDNALQSGNSQ\n",
            "ESVTEQDSKD\tSTYSLSSTLT\tLSKADYEKHK\tVYACEVTHQG\n",
            "LSSPVTKSF\u001b[1m\u001b[31m-\u001b[0m\t\u001b[1m\u001b[31m-\u001b[0m\u001b[1m\u001b[31m-\u001b[0m\u001b[1m\u001b[31m-\u001b[0m\u001b[1m\u001b[31m-\u001b[0m\n"
          ]
        }
      ]
    },
    {
      "cell_type": "code",
      "source": [
        "print_sequence(pred_sequence_full, \"PREDICTED SEQUENCE\", incorrect_indices, correct_indices)"
      ],
      "metadata": {
        "id": "8TR6BaxPOTWG",
        "colab": {
          "base_uri": "https://localhost:8080/"
        },
        "outputId": "9f454c7d-f11f-4a3b-e8b2-3e77cdaeaacb"
      },
      "execution_count": 70,
      "outputs": [
        {
          "output_type": "stream",
          "name": "stdout",
          "text": [
            "PREDICTED SEQUENCE\n",
            "=====================================================================\n",
            "\u001b[1m\u001b[32mD\u001b[0m\u001b[1m\u001b[32mI\u001b[0m\u001b[1m\u001b[32mQ\u001b[0mMTQSPSS\tLSASVGDRVT\tITCK\u001b[1m\u001b[32mA\u001b[0m\u001b[1m\u001b[32mS\u001b[0m\u001b[1m\u001b[32mQ\u001b[0mNID\tKYLNWYQQKP\n",
            "GKAPKLLIYN\tTNNLQTGVPS\tRF\u001b[1m\u001b[32mS\u001b[0m\u001b[1m\u001b[32mG\u001b[0m\u001b[1m\u001b[32mS\u001b[0mG\u001b[1m\u001b[32mS\u001b[0m\u001b[1m\u001b[32mG\u001b[0m\u001b[1m\u001b[32mT\u001b[0m\u001b[1m\u001b[32mD\u001b[0m\tFTFTI\u001b[1m\u001b[32mS\u001b[0m\u001b[1m\u001b[32mS\u001b[0m\u001b[1m\u001b[32mL\u001b[0m\u001b[1m\u001b[32mQ\u001b[0m\u001b[1m\u001b[32mP\u001b[0m\n",
            "\u001b[1m\u001b[32mE\u001b[0m\u001b[1m\u001b[32mD\u001b[0m\u001b[1m\u001b[32mI\u001b[0m\u001b[1m\u001b[32mA\u001b[0m\u001b[1m\u001b[32mT\u001b[0m\u001b[1m\u001b[32mY\u001b[0mYCLQ\tHISRPRTFGQ\tGTKVEIKRTV\tAAPSVFIFPP\n",
            "SDEQLKSGTA\tSVVCLLNNFY\tPREAKVQWKV\tDNALQSGNSQ\n",
            "ESVTEQDSKD\tSTYSLSSTLT\tLSKADYEKHK\tVYACEVTHQG\n",
            "LSSPVTKSF\u001b[1m\u001b[32mN\u001b[0m\t\u001b[1m\u001b[32mR\u001b[0m\u001b[1m\u001b[32mG\u001b[0m\u001b[1m\u001b[32mE\u001b[0m\u001b[1m\u001b[32mC\u001b[0m\n"
          ]
        }
      ]
    },
    {
      "cell_type": "code",
      "source": [
        "# Compute final accuracy on de novo sequence\n",
        "target_len = len(target_sequence)\n",
        "full_accuracy = (target_len - len(incorrect_indices)) / target_len\n",
        "print(f\"Accuracy on De Novo Sequence: {full_accuracy:.3f}\")"
      ],
      "metadata": {
        "id": "pU89tQA3OTWG",
        "colab": {
          "base_uri": "https://localhost:8080/"
        },
        "outputId": "3a9f4229-613d-4ef4-82d0-abaa418751ca"
      },
      "execution_count": 71,
      "outputs": [
        {
          "output_type": "stream",
          "name": "stdout",
          "text": [
            "Accuracy on De Novo Sequence: 1.000\n"
          ]
        }
      ]
    },
    {
      "cell_type": "code",
      "source": [
        "# Print the predictions in forward and reverse directions as well\n",
        "forward_pred = predict_gaps(de_novo_sequence, forward_model=forward_model, reverse_model=None)\n",
        "incorrect_indices = get_nonmatching_indices(target_sequence, forward_pred)\n",
        "correct_indices = missing_indices.difference(incorrect_indices)\n",
        "print_sequence(forward_pred, \"FORWARD PREDICTIONS\", incorrect_indices, correct_indices)\n",
        "\n",
        "reverse_pred = predict_gaps(de_novo_sequence, forward_model=None, reverse_model=reverse_model)\n",
        "incorrect_indices = get_nonmatching_indices(target_sequence, reverse_pred)\n",
        "correct_indices = missing_indices.difference(incorrect_indices)\n",
        "print_sequence(reverse_pred, \"REVERSE PREDICTIONS\", incorrect_indices, correct_indices)"
      ],
      "metadata": {
        "id": "j5fcYkrvOTWG",
        "colab": {
          "base_uri": "https://localhost:8080/"
        },
        "outputId": "c5c5aef5-c7cd-47ac-ece4-149c1b0a73ff"
      },
      "execution_count": 72,
      "outputs": [
        {
          "output_type": "stream",
          "name": "stdout",
          "text": [
            "FORWARD PREDICTIONS\n",
            "=====================================================================\n",
            "\u001b[1m\u001b[31m-\u001b[0m\u001b[1m\u001b[31m-\u001b[0m\u001b[1m\u001b[31m-\u001b[0mMTQSPSS\tLSASVGDRVT\tITCK\u001b[1m\u001b[32mA\u001b[0m\u001b[1m\u001b[32mS\u001b[0m\u001b[1m\u001b[32mQ\u001b[0mNID\tKYLNWYQQKP\n",
            "GKAPKLLIYN\tTNNLQTGVPS\tRF\u001b[1m\u001b[32mS\u001b[0m\u001b[1m\u001b[32mG\u001b[0m\u001b[1m\u001b[32mS\u001b[0mG\u001b[1m\u001b[32mS\u001b[0m\u001b[1m\u001b[32mG\u001b[0m\u001b[1m\u001b[32mT\u001b[0m\u001b[1m\u001b[32mD\u001b[0m\tFTFTI\u001b[1m\u001b[32mS\u001b[0m\u001b[1m\u001b[32mS\u001b[0m\u001b[1m\u001b[32mL\u001b[0m\u001b[1m\u001b[32mQ\u001b[0m\u001b[1m\u001b[32mP\u001b[0m\n",
            "\u001b[1m\u001b[32mE\u001b[0m\u001b[1m\u001b[32mD\u001b[0m\u001b[1m\u001b[32mI\u001b[0m\u001b[1m\u001b[32mA\u001b[0m\u001b[1m\u001b[32mT\u001b[0m\u001b[1m\u001b[32mY\u001b[0mYCLQ\tHISRPRTFGQ\tGTKVEIKRTV\tAAPSVFIFPP\n",
            "SDEQLKSGTA\tSVVCLLNNFY\tPREAKVQWKV\tDNALQSGNSQ\n",
            "ESVTEQDSKD\tSTYSLSSTLT\tLSKADYEKHK\tVYACEVTHQG\n",
            "LSSPVTKSF\u001b[1m\u001b[32mN\u001b[0m\t\u001b[1m\u001b[32mR\u001b[0m\u001b[1m\u001b[32mG\u001b[0m\u001b[1m\u001b[32mE\u001b[0m\u001b[1m\u001b[32mC\u001b[0m\n",
            "REVERSE PREDICTIONS\n",
            "=====================================================================\n",
            "\u001b[1m\u001b[32mD\u001b[0m\u001b[1m\u001b[32mI\u001b[0m\u001b[1m\u001b[32mQ\u001b[0mMTQSPSS\tLSASVGDRVT\tITCK\u001b[1m\u001b[32mA\u001b[0m\u001b[1m\u001b[32mS\u001b[0m\u001b[1m\u001b[32mQ\u001b[0mNID\tKYLNWYQQKP\n",
            "GKAPKLLIYN\tTNNLQTGVPS\tRF\u001b[1m\u001b[32mS\u001b[0m\u001b[1m\u001b[32mG\u001b[0m\u001b[1m\u001b[32mS\u001b[0mG\u001b[1m\u001b[32mS\u001b[0m\u001b[1m\u001b[32mG\u001b[0m\u001b[1m\u001b[32mT\u001b[0m\u001b[1m\u001b[32mD\u001b[0m\tFTFTI\u001b[1m\u001b[32mS\u001b[0m\u001b[1m\u001b[32mS\u001b[0m\u001b[1m\u001b[32mL\u001b[0m\u001b[1m\u001b[32mQ\u001b[0m\u001b[1m\u001b[32mP\u001b[0m\n",
            "\u001b[1m\u001b[32mE\u001b[0m\u001b[1m\u001b[32mD\u001b[0m\u001b[1m\u001b[32mI\u001b[0m\u001b[1m\u001b[32mA\u001b[0m\u001b[1m\u001b[32mT\u001b[0m\u001b[1m\u001b[32mY\u001b[0mYCLQ\tHISRPRTFGQ\tGTKVEIKRTV\tAAPSVFIFPP\n",
            "SDEQLKSGTA\tSVVCLLNNFY\tPREAKVQWKV\tDNALQSGNSQ\n",
            "ESVTEQDSKD\tSTYSLSSTLT\tLSKADYEKHK\tVYACEVTHQG\n",
            "LSSPVTKSF\u001b[1m\u001b[31m-\u001b[0m\t\u001b[1m\u001b[31m-\u001b[0m\u001b[1m\u001b[31m-\u001b[0m\u001b[1m\u001b[31m-\u001b[0m\u001b[1m\u001b[31m-\u001b[0m\n"
          ]
        }
      ]
    },
    {
      "cell_type": "code",
      "source": [
        "# ==============================================================================\n",
        "# CNN-BiLSTM MODEL\n",
        "# ==============================================================================\n",
        "model_type=\"cnn_bilstm\""
      ],
      "metadata": {
        "id": "4U_RuOdVO3iR"
      },
      "execution_count": 73,
      "outputs": []
    },
    {
      "cell_type": "code",
      "source": [
        "forward_model, forward_history, model_name = build_model(training_sequences, model_type)"
      ],
      "metadata": {
        "id": "dqmMyLeMOMud",
        "colab": {
          "base_uri": "https://localhost:8080/"
        },
        "outputId": "d37694a4-b873-4740-83b4-49b638c9c0df"
      },
      "execution_count": 74,
      "outputs": [
        {
          "output_type": "stream",
          "name": "stdout",
          "text": [
            "Epoch 1/100\n",
            "30/30 - 6s - loss: 2.9279 - categorical_accuracy: 0.1266 - val_loss: 2.8397 - val_categorical_accuracy: 0.1667 - 6s/epoch - 195ms/step\n",
            "Epoch 2/100\n",
            "30/30 - 1s - loss: 2.8413 - categorical_accuracy: 0.1456 - val_loss: 2.7993 - val_categorical_accuracy: 0.1667 - 1s/epoch - 43ms/step\n",
            "Epoch 3/100\n",
            "30/30 - 1s - loss: 2.8090 - categorical_accuracy: 0.1503 - val_loss: 2.7709 - val_categorical_accuracy: 0.1667 - 1s/epoch - 42ms/step\n",
            "Epoch 4/100\n",
            "30/30 - 1s - loss: 2.7705 - categorical_accuracy: 0.1577 - val_loss: 2.7390 - val_categorical_accuracy: 0.1667 - 1s/epoch - 42ms/step\n",
            "Epoch 5/100\n",
            "30/30 - 1s - loss: 2.7142 - categorical_accuracy: 0.1746 - val_loss: 2.6755 - val_categorical_accuracy: 0.1714 - 1s/epoch - 42ms/step\n",
            "Epoch 6/100\n",
            "30/30 - 1s - loss: 2.6649 - categorical_accuracy: 0.1767 - val_loss: 2.6596 - val_categorical_accuracy: 0.1905 - 1s/epoch - 42ms/step\n",
            "Epoch 7/100\n",
            "30/30 - 1s - loss: 2.6064 - categorical_accuracy: 0.1788 - val_loss: 2.5751 - val_categorical_accuracy: 0.2000 - 1s/epoch - 43ms/step\n",
            "Epoch 8/100\n",
            "30/30 - 1s - loss: 2.4952 - categorical_accuracy: 0.1930 - val_loss: 2.4899 - val_categorical_accuracy: 0.2429 - 1s/epoch - 43ms/step\n",
            "Epoch 9/100\n",
            "30/30 - 1s - loss: 2.3810 - categorical_accuracy: 0.2489 - val_loss: 2.3725 - val_categorical_accuracy: 0.2619 - 1s/epoch - 43ms/step\n",
            "Epoch 10/100\n",
            "30/30 - 1s - loss: 2.2540 - categorical_accuracy: 0.2991 - val_loss: 2.2386 - val_categorical_accuracy: 0.2762 - 1s/epoch - 42ms/step\n",
            "Epoch 11/100\n",
            "30/30 - 1s - loss: 2.0739 - categorical_accuracy: 0.3507 - val_loss: 2.0629 - val_categorical_accuracy: 0.3571 - 1s/epoch - 42ms/step\n",
            "Epoch 12/100\n",
            "30/30 - 1s - loss: 1.8474 - categorical_accuracy: 0.4277 - val_loss: 1.8315 - val_categorical_accuracy: 0.4476 - 1s/epoch - 44ms/step\n",
            "Epoch 13/100\n",
            "30/30 - 1s - loss: 1.6164 - categorical_accuracy: 0.5026 - val_loss: 1.6262 - val_categorical_accuracy: 0.5048 - 1s/epoch - 43ms/step\n",
            "Epoch 14/100\n",
            "30/30 - 1s - loss: 1.3775 - categorical_accuracy: 0.5839 - val_loss: 1.3805 - val_categorical_accuracy: 0.6095 - 1s/epoch - 42ms/step\n",
            "Epoch 15/100\n",
            "30/30 - 1s - loss: 1.1977 - categorical_accuracy: 0.6572 - val_loss: 1.3009 - val_categorical_accuracy: 0.6476 - 1s/epoch - 43ms/step\n",
            "Epoch 16/100\n",
            "30/30 - 1s - loss: 0.9939 - categorical_accuracy: 0.7268 - val_loss: 1.1073 - val_categorical_accuracy: 0.7238 - 1s/epoch - 43ms/step\n",
            "Epoch 17/100\n",
            "30/30 - 1s - loss: 0.8123 - categorical_accuracy: 0.8012 - val_loss: 0.9435 - val_categorical_accuracy: 0.8143 - 1s/epoch - 42ms/step\n",
            "Epoch 18/100\n",
            "30/30 - 1s - loss: 0.6515 - categorical_accuracy: 0.8397 - val_loss: 0.8645 - val_categorical_accuracy: 0.8143 - 1s/epoch - 43ms/step\n",
            "Epoch 19/100\n",
            "30/30 - 1s - loss: 0.5136 - categorical_accuracy: 0.8834 - val_loss: 0.7170 - val_categorical_accuracy: 0.8619 - 1s/epoch - 44ms/step\n",
            "Epoch 20/100\n",
            "30/30 - 1s - loss: 0.4331 - categorical_accuracy: 0.9003 - val_loss: 0.6817 - val_categorical_accuracy: 0.8714 - 1s/epoch - 44ms/step\n",
            "Epoch 21/100\n",
            "30/30 - 1s - loss: 0.3599 - categorical_accuracy: 0.9251 - val_loss: 0.6407 - val_categorical_accuracy: 0.8667 - 1s/epoch - 44ms/step\n",
            "Epoch 22/100\n",
            "30/30 - 1s - loss: 0.3171 - categorical_accuracy: 0.9293 - val_loss: 0.5903 - val_categorical_accuracy: 0.8905 - 1s/epoch - 44ms/step\n",
            "Epoch 23/100\n",
            "30/30 - 1s - loss: 0.2800 - categorical_accuracy: 0.9304 - val_loss: 0.5401 - val_categorical_accuracy: 0.8857 - 1s/epoch - 43ms/step\n",
            "Epoch 24/100\n",
            "30/30 - 1s - loss: 0.2471 - categorical_accuracy: 0.9483 - val_loss: 0.5234 - val_categorical_accuracy: 0.9000 - 1s/epoch - 43ms/step\n",
            "Epoch 25/100\n",
            "30/30 - 1s - loss: 0.2242 - categorical_accuracy: 0.9451 - val_loss: 0.5466 - val_categorical_accuracy: 0.8952 - 1s/epoch - 43ms/step\n",
            "Epoch 26/100\n",
            "30/30 - 1s - loss: 0.2107 - categorical_accuracy: 0.9515 - val_loss: 0.5121 - val_categorical_accuracy: 0.9143 - 1s/epoch - 42ms/step\n",
            "Epoch 27/100\n",
            "30/30 - 1s - loss: 0.1708 - categorical_accuracy: 0.9562 - val_loss: 0.4537 - val_categorical_accuracy: 0.9190 - 1s/epoch - 43ms/step\n",
            "Epoch 28/100\n",
            "30/30 - 1s - loss: 0.1494 - categorical_accuracy: 0.9647 - val_loss: 0.4894 - val_categorical_accuracy: 0.9143 - 1s/epoch - 43ms/step\n",
            "Epoch 29/100\n",
            "30/30 - 1s - loss: 0.1472 - categorical_accuracy: 0.9599 - val_loss: 0.4676 - val_categorical_accuracy: 0.9095 - 1s/epoch - 42ms/step\n",
            "Epoch 30/100\n",
            "30/30 - 1s - loss: 0.1367 - categorical_accuracy: 0.9678 - val_loss: 0.4354 - val_categorical_accuracy: 0.9238 - 1s/epoch - 43ms/step\n",
            "Epoch 31/100\n",
            "30/30 - 1s - loss: 0.1122 - categorical_accuracy: 0.9747 - val_loss: 0.4488 - val_categorical_accuracy: 0.9190 - 1s/epoch - 43ms/step\n",
            "Epoch 32/100\n",
            "30/30 - 1s - loss: 0.1177 - categorical_accuracy: 0.9668 - val_loss: 0.4876 - val_categorical_accuracy: 0.9143 - 1s/epoch - 44ms/step\n",
            "Epoch 33/100\n",
            "30/30 - 1s - loss: 0.1153 - categorical_accuracy: 0.9726 - val_loss: 0.4712 - val_categorical_accuracy: 0.9238 - 1s/epoch - 44ms/step\n",
            "Epoch 34/100\n",
            "30/30 - 1s - loss: 0.1023 - categorical_accuracy: 0.9736 - val_loss: 0.4406 - val_categorical_accuracy: 0.9286 - 1s/epoch - 42ms/step\n",
            "Epoch 35/100\n",
            "30/30 - 1s - loss: 0.0942 - categorical_accuracy: 0.9747 - val_loss: 0.4639 - val_categorical_accuracy: 0.9190 - 1s/epoch - 43ms/step\n",
            "Epoch 36/100\n",
            "30/30 - 1s - loss: 0.1088 - categorical_accuracy: 0.9710 - val_loss: 0.4764 - val_categorical_accuracy: 0.9238 - 1s/epoch - 44ms/step\n",
            "Epoch 37/100\n",
            "30/30 - 1s - loss: 0.0987 - categorical_accuracy: 0.9720 - val_loss: 0.4882 - val_categorical_accuracy: 0.9238 - 1s/epoch - 43ms/step\n",
            "Epoch 38/100\n",
            "30/30 - 1s - loss: 0.0954 - categorical_accuracy: 0.9726 - val_loss: 0.4592 - val_categorical_accuracy: 0.9238 - 1s/epoch - 43ms/step\n",
            "Epoch 39/100\n",
            "30/30 - 1s - loss: 0.0967 - categorical_accuracy: 0.9742 - val_loss: 0.4467 - val_categorical_accuracy: 0.9333 - 1s/epoch - 43ms/step\n",
            "Epoch 40/100\n",
            "30/30 - 1s - loss: 0.0966 - categorical_accuracy: 0.9736 - val_loss: 0.4591 - val_categorical_accuracy: 0.9238 - 1s/epoch - 42ms/step\n",
            "Epoch 41/100\n",
            "30/30 - 1s - loss: 0.0797 - categorical_accuracy: 0.9752 - val_loss: 0.4459 - val_categorical_accuracy: 0.9238 - 1s/epoch - 43ms/step\n",
            "Epoch 42/100\n",
            "30/30 - 1s - loss: 0.0738 - categorical_accuracy: 0.9789 - val_loss: 0.4496 - val_categorical_accuracy: 0.9286 - 1s/epoch - 43ms/step\n",
            "Epoch 43/100\n",
            "30/30 - 1s - loss: 0.0721 - categorical_accuracy: 0.9773 - val_loss: 0.4653 - val_categorical_accuracy: 0.9333 - 1s/epoch - 43ms/step\n",
            "Epoch 44/100\n",
            "30/30 - 1s - loss: 0.0822 - categorical_accuracy: 0.9752 - val_loss: 0.4290 - val_categorical_accuracy: 0.9286 - 1s/epoch - 45ms/step\n",
            "Epoch 45/100\n",
            "30/30 - 1s - loss: 0.0732 - categorical_accuracy: 0.9794 - val_loss: 0.4298 - val_categorical_accuracy: 0.9238 - 1s/epoch - 44ms/step\n",
            "Epoch 46/100\n",
            "30/30 - 1s - loss: 0.0697 - categorical_accuracy: 0.9778 - val_loss: 0.4763 - val_categorical_accuracy: 0.9333 - 1s/epoch - 45ms/step\n",
            "Epoch 47/100\n",
            "30/30 - 1s - loss: 0.0706 - categorical_accuracy: 0.9789 - val_loss: 0.4604 - val_categorical_accuracy: 0.9238 - 1s/epoch - 44ms/step\n",
            "Epoch 48/100\n",
            "30/30 - 1s - loss: 0.0728 - categorical_accuracy: 0.9768 - val_loss: 0.4538 - val_categorical_accuracy: 0.9333 - 1s/epoch - 44ms/step\n",
            "Epoch 49/100\n",
            "30/30 - 1s - loss: 0.0782 - categorical_accuracy: 0.9815 - val_loss: 0.4943 - val_categorical_accuracy: 0.9238 - 1s/epoch - 43ms/step\n",
            "Epoch 50/100\n",
            "30/30 - 1s - loss: 0.0703 - categorical_accuracy: 0.9778 - val_loss: 0.4859 - val_categorical_accuracy: 0.9286 - 1s/epoch - 45ms/step\n",
            "Epoch 51/100\n",
            "30/30 - 1s - loss: 0.0736 - categorical_accuracy: 0.9810 - val_loss: 0.4569 - val_categorical_accuracy: 0.9286 - 1s/epoch - 45ms/step\n",
            "Epoch 52/100\n",
            "30/30 - 1s - loss: 0.0663 - categorical_accuracy: 0.9773 - val_loss: 0.4706 - val_categorical_accuracy: 0.9286 - 1s/epoch - 43ms/step\n",
            "Epoch 53/100\n",
            "30/30 - 1s - loss: 0.0737 - categorical_accuracy: 0.9731 - val_loss: 0.4260 - val_categorical_accuracy: 0.9286 - 1s/epoch - 43ms/step\n",
            "Epoch 54/100\n",
            "30/30 - 1s - loss: 0.0821 - categorical_accuracy: 0.9757 - val_loss: 0.4728 - val_categorical_accuracy: 0.9286 - 1s/epoch - 43ms/step\n",
            "Epoch 55/100\n",
            "30/30 - 1s - loss: 0.0815 - categorical_accuracy: 0.9747 - val_loss: 0.4848 - val_categorical_accuracy: 0.9238 - 1s/epoch - 44ms/step\n",
            "Epoch 56/100\n",
            "30/30 - 1s - loss: 0.0712 - categorical_accuracy: 0.9773 - val_loss: 0.4684 - val_categorical_accuracy: 0.9286 - 1s/epoch - 43ms/step\n",
            "Epoch 57/100\n",
            "30/30 - 1s - loss: 0.0709 - categorical_accuracy: 0.9778 - val_loss: 0.5012 - val_categorical_accuracy: 0.9190 - 1s/epoch - 42ms/step\n",
            "Epoch 58/100\n",
            "30/30 - 1s - loss: 0.0870 - categorical_accuracy: 0.9731 - val_loss: 0.4537 - val_categorical_accuracy: 0.9333 - 1s/epoch - 42ms/step\n",
            "Epoch 59/100\n",
            "30/30 - 1s - loss: 0.1210 - categorical_accuracy: 0.9626 - val_loss: 0.4601 - val_categorical_accuracy: 0.9286 - 1s/epoch - 44ms/step\n",
            "Epoch 60/100\n",
            "30/30 - 1s - loss: 0.0781 - categorical_accuracy: 0.9778 - val_loss: 0.4563 - val_categorical_accuracy: 0.9333 - 1s/epoch - 42ms/step\n",
            "Epoch 61/100\n",
            "30/30 - 1s - loss: 0.0641 - categorical_accuracy: 0.9789 - val_loss: 0.4475 - val_categorical_accuracy: 0.9286 - 1s/epoch - 42ms/step\n",
            "Epoch 62/100\n",
            "30/30 - 1s - loss: 0.0641 - categorical_accuracy: 0.9784 - val_loss: 0.5083 - val_categorical_accuracy: 0.9238 - 1s/epoch - 43ms/step\n",
            "Epoch 63/100\n",
            "30/30 - 1s - loss: 0.0706 - categorical_accuracy: 0.9752 - val_loss: 0.4625 - val_categorical_accuracy: 0.9333 - 1s/epoch - 43ms/step\n",
            "Epoch 64/100\n",
            "30/30 - 1s - loss: 0.0646 - categorical_accuracy: 0.9773 - val_loss: 0.5128 - val_categorical_accuracy: 0.9286 - 1s/epoch - 42ms/step\n",
            "Epoch 65/100\n",
            "30/30 - 1s - loss: 0.0683 - categorical_accuracy: 0.9752 - val_loss: 0.4680 - val_categorical_accuracy: 0.9238 - 1s/epoch - 43ms/step\n",
            "Epoch 66/100\n",
            "30/30 - 1s - loss: 0.0569 - categorical_accuracy: 0.9784 - val_loss: 0.4949 - val_categorical_accuracy: 0.9190 - 1s/epoch - 43ms/step\n",
            "Epoch 67/100\n",
            "30/30 - 1s - loss: 0.0656 - categorical_accuracy: 0.9747 - val_loss: 0.5495 - val_categorical_accuracy: 0.9238 - 1s/epoch - 45ms/step\n",
            "Epoch 68/100\n",
            "30/30 - 1s - loss: 0.0709 - categorical_accuracy: 0.9789 - val_loss: 0.5544 - val_categorical_accuracy: 0.9190 - 1s/epoch - 42ms/step\n",
            "Epoch 69/100\n",
            "30/30 - 1s - loss: 0.0756 - categorical_accuracy: 0.9731 - val_loss: 0.6793 - val_categorical_accuracy: 0.9095 - 1s/epoch - 42ms/step\n",
            "Epoch 70/100\n",
            "30/30 - 1s - loss: 0.0839 - categorical_accuracy: 0.9763 - val_loss: 0.5054 - val_categorical_accuracy: 0.9190 - 1s/epoch - 44ms/step\n",
            "Epoch 71/100\n",
            "30/30 - 1s - loss: 0.0801 - categorical_accuracy: 0.9715 - val_loss: 0.4811 - val_categorical_accuracy: 0.9238 - 1s/epoch - 42ms/step\n",
            "Epoch 72/100\n",
            "30/30 - 1s - loss: 0.0638 - categorical_accuracy: 0.9784 - val_loss: 0.4593 - val_categorical_accuracy: 0.9381 - 1s/epoch - 42ms/step\n",
            "Epoch 73/100\n",
            "30/30 - 1s - loss: 0.0764 - categorical_accuracy: 0.9763 - val_loss: 0.4702 - val_categorical_accuracy: 0.9238 - 1s/epoch - 43ms/step\n",
            "Epoch 74/100\n",
            "30/30 - 1s - loss: 0.0633 - categorical_accuracy: 0.9768 - val_loss: 0.5083 - val_categorical_accuracy: 0.9333 - 1s/epoch - 43ms/step\n",
            "Epoch 75/100\n",
            "30/30 - 1s - loss: 0.0604 - categorical_accuracy: 0.9778 - val_loss: 0.4908 - val_categorical_accuracy: 0.9238 - 1s/epoch - 44ms/step\n",
            "Epoch 76/100\n",
            "30/30 - 1s - loss: 0.0593 - categorical_accuracy: 0.9784 - val_loss: 0.4602 - val_categorical_accuracy: 0.9286 - 1s/epoch - 42ms/step\n",
            "Epoch 77/100\n",
            "30/30 - 1s - loss: 0.0660 - categorical_accuracy: 0.9763 - val_loss: 0.4727 - val_categorical_accuracy: 0.9286 - 1s/epoch - 43ms/step\n",
            "Epoch 78/100\n",
            "30/30 - 1s - loss: 0.0717 - categorical_accuracy: 0.9800 - val_loss: 0.4508 - val_categorical_accuracy: 0.9238 - 1s/epoch - 43ms/step\n",
            "Epoch 79/100\n",
            "30/30 - 1s - loss: 0.0675 - categorical_accuracy: 0.9784 - val_loss: 0.4400 - val_categorical_accuracy: 0.9429 - 1s/epoch - 43ms/step\n",
            "Epoch 80/100\n",
            "30/30 - 1s - loss: 0.0592 - categorical_accuracy: 0.9805 - val_loss: 0.4944 - val_categorical_accuracy: 0.9238 - 1s/epoch - 43ms/step\n",
            "Epoch 81/100\n",
            "30/30 - 1s - loss: 0.1098 - categorical_accuracy: 0.9662 - val_loss: 0.5139 - val_categorical_accuracy: 0.9000 - 1s/epoch - 42ms/step\n",
            "Epoch 82/100\n",
            "30/30 - 1s - loss: 0.0921 - categorical_accuracy: 0.9710 - val_loss: 0.4856 - val_categorical_accuracy: 0.9333 - 1s/epoch - 44ms/step\n",
            "Epoch 83/100\n",
            "30/30 - 1s - loss: 0.0696 - categorical_accuracy: 0.9768 - val_loss: 0.4739 - val_categorical_accuracy: 0.9238 - 1s/epoch - 44ms/step\n",
            "Epoch 84/100\n",
            "30/30 - 1s - loss: 0.0611 - categorical_accuracy: 0.9800 - val_loss: 0.4965 - val_categorical_accuracy: 0.9286 - 1s/epoch - 43ms/step\n",
            "Epoch 85/100\n",
            "30/30 - 1s - loss: 0.0608 - categorical_accuracy: 0.9805 - val_loss: 0.5064 - val_categorical_accuracy: 0.9238 - 1s/epoch - 43ms/step\n",
            "Epoch 86/100\n",
            "30/30 - 1s - loss: 0.0533 - categorical_accuracy: 0.9805 - val_loss: 0.4955 - val_categorical_accuracy: 0.9286 - 1s/epoch - 44ms/step\n",
            "Epoch 87/100\n",
            "30/30 - 1s - loss: 0.0533 - categorical_accuracy: 0.9815 - val_loss: 0.4996 - val_categorical_accuracy: 0.9333 - 1s/epoch - 43ms/step\n",
            "Epoch 88/100\n",
            "30/30 - 1s - loss: 0.0519 - categorical_accuracy: 0.9794 - val_loss: 0.4939 - val_categorical_accuracy: 0.9286 - 1s/epoch - 45ms/step\n",
            "Epoch 89/100\n",
            "30/30 - 1s - loss: 0.0526 - categorical_accuracy: 0.9826 - val_loss: 0.4824 - val_categorical_accuracy: 0.9333 - 1s/epoch - 44ms/step\n",
            "Epoch 90/100\n",
            "30/30 - 1s - loss: 0.0633 - categorical_accuracy: 0.9778 - val_loss: 0.4933 - val_categorical_accuracy: 0.9333 - 1s/epoch - 44ms/step\n",
            "Epoch 91/100\n",
            "30/30 - 1s - loss: 0.0630 - categorical_accuracy: 0.9768 - val_loss: 0.4861 - val_categorical_accuracy: 0.9286 - 1s/epoch - 44ms/step\n",
            "Epoch 92/100\n",
            "30/30 - 1s - loss: 0.0530 - categorical_accuracy: 0.9826 - val_loss: 0.4622 - val_categorical_accuracy: 0.9333 - 1s/epoch - 43ms/step\n",
            "Epoch 93/100\n",
            "30/30 - 1s - loss: 0.0524 - categorical_accuracy: 0.9805 - val_loss: 0.4796 - val_categorical_accuracy: 0.9238 - 1s/epoch - 44ms/step\n",
            "Epoch 94/100\n",
            "30/30 - 1s - loss: 0.0518 - categorical_accuracy: 0.9800 - val_loss: 0.4630 - val_categorical_accuracy: 0.9381 - 1s/epoch - 43ms/step\n",
            "Epoch 95/100\n",
            "30/30 - 1s - loss: 0.0517 - categorical_accuracy: 0.9805 - val_loss: 0.4763 - val_categorical_accuracy: 0.9381 - 1s/epoch - 43ms/step\n",
            "Epoch 96/100\n",
            "30/30 - 1s - loss: 0.0562 - categorical_accuracy: 0.9789 - val_loss: 0.5003 - val_categorical_accuracy: 0.9238 - 1s/epoch - 44ms/step\n",
            "Epoch 97/100\n",
            "30/30 - 1s - loss: 0.0567 - categorical_accuracy: 0.9789 - val_loss: 0.4636 - val_categorical_accuracy: 0.9286 - 1s/epoch - 43ms/step\n",
            "Epoch 98/100\n",
            "30/30 - 1s - loss: 0.0535 - categorical_accuracy: 0.9794 - val_loss: 0.5252 - val_categorical_accuracy: 0.9190 - 1s/epoch - 45ms/step\n",
            "Epoch 99/100\n",
            "30/30 - 1s - loss: 0.0667 - categorical_accuracy: 0.9752 - val_loss: 0.4566 - val_categorical_accuracy: 0.9286 - 1s/epoch - 43ms/step\n",
            "Epoch 100/100\n",
            "30/30 - 1s - loss: 0.0651 - categorical_accuracy: 0.9763 - val_loss: 0.4528 - val_categorical_accuracy: 0.9238 - 1s/epoch - 44ms/step\n"
          ]
        }
      ]
    },
    {
      "cell_type": "code",
      "source": [
        "reverse_model, reverse_history, _ = build_model(training_sequences_reversed, model_type)"
      ],
      "metadata": {
        "id": "WmGBo95XOMud",
        "colab": {
          "base_uri": "https://localhost:8080/"
        },
        "outputId": "c0a7f73f-6312-455c-eeab-99991cf729e6"
      },
      "execution_count": 75,
      "outputs": [
        {
          "output_type": "stream",
          "name": "stdout",
          "text": [
            "Epoch 1/100\n",
            "30/30 - 6s - loss: 2.9021 - categorical_accuracy: 0.1203 - val_loss: 2.8206 - val_categorical_accuracy: 0.2048 - 6s/epoch - 217ms/step\n",
            "Epoch 2/100\n",
            "30/30 - 1s - loss: 2.8384 - categorical_accuracy: 0.1382 - val_loss: 2.8148 - val_categorical_accuracy: 0.2048 - 1s/epoch - 43ms/step\n",
            "Epoch 3/100\n",
            "30/30 - 1s - loss: 2.8169 - categorical_accuracy: 0.1414 - val_loss: 2.7438 - val_categorical_accuracy: 0.2048 - 1s/epoch - 43ms/step\n",
            "Epoch 4/100\n",
            "30/30 - 1s - loss: 2.7770 - categorical_accuracy: 0.1577 - val_loss: 2.6785 - val_categorical_accuracy: 0.2190 - 1s/epoch - 44ms/step\n",
            "Epoch 5/100\n",
            "30/30 - 1s - loss: 2.7261 - categorical_accuracy: 0.1630 - val_loss: 2.6739 - val_categorical_accuracy: 0.2286 - 1s/epoch - 42ms/step\n",
            "Epoch 6/100\n",
            "30/30 - 1s - loss: 2.6477 - categorical_accuracy: 0.1777 - val_loss: 2.6235 - val_categorical_accuracy: 0.2286 - 1s/epoch - 43ms/step\n",
            "Epoch 7/100\n",
            "30/30 - 1s - loss: 2.5838 - categorical_accuracy: 0.2062 - val_loss: 2.5762 - val_categorical_accuracy: 0.2429 - 1s/epoch - 45ms/step\n",
            "Epoch 8/100\n",
            "30/30 - 1s - loss: 2.4700 - categorical_accuracy: 0.2321 - val_loss: 2.5110 - val_categorical_accuracy: 0.2286 - 1s/epoch - 44ms/step\n",
            "Epoch 9/100\n",
            "30/30 - 1s - loss: 2.3301 - categorical_accuracy: 0.2627 - val_loss: 2.3633 - val_categorical_accuracy: 0.2000 - 1s/epoch - 43ms/step\n",
            "Epoch 10/100\n",
            "30/30 - 1s - loss: 2.1361 - categorical_accuracy: 0.3302 - val_loss: 2.1937 - val_categorical_accuracy: 0.3238 - 1s/epoch - 43ms/step\n",
            "Epoch 11/100\n",
            "30/30 - 1s - loss: 1.8879 - categorical_accuracy: 0.3966 - val_loss: 2.0416 - val_categorical_accuracy: 0.3619 - 1s/epoch - 44ms/step\n",
            "Epoch 12/100\n",
            "30/30 - 1s - loss: 1.6244 - categorical_accuracy: 0.4968 - val_loss: 1.8038 - val_categorical_accuracy: 0.4333 - 1s/epoch - 43ms/step\n",
            "Epoch 13/100\n",
            "30/30 - 1s - loss: 1.3256 - categorical_accuracy: 0.6028 - val_loss: 1.5022 - val_categorical_accuracy: 0.5714 - 1s/epoch - 43ms/step\n",
            "Epoch 14/100\n",
            "30/30 - 1s - loss: 1.1057 - categorical_accuracy: 0.6925 - val_loss: 1.1953 - val_categorical_accuracy: 0.6476 - 1s/epoch - 43ms/step\n",
            "Epoch 15/100\n",
            "30/30 - 1s - loss: 0.8755 - categorical_accuracy: 0.7959 - val_loss: 0.9586 - val_categorical_accuracy: 0.7619 - 1s/epoch - 44ms/step\n",
            "Epoch 16/100\n",
            "30/30 - 1s - loss: 0.7000 - categorical_accuracy: 0.8412 - val_loss: 0.8297 - val_categorical_accuracy: 0.7952 - 1s/epoch - 44ms/step\n",
            "Epoch 17/100\n",
            "30/30 - 1s - loss: 0.5825 - categorical_accuracy: 0.8687 - val_loss: 0.7294 - val_categorical_accuracy: 0.8333 - 1s/epoch - 45ms/step\n",
            "Epoch 18/100\n",
            "30/30 - 1s - loss: 0.4803 - categorical_accuracy: 0.8961 - val_loss: 0.6304 - val_categorical_accuracy: 0.8810 - 1s/epoch - 45ms/step\n",
            "Epoch 19/100\n",
            "30/30 - 1s - loss: 0.3927 - categorical_accuracy: 0.9167 - val_loss: 0.6051 - val_categorical_accuracy: 0.8619 - 1s/epoch - 46ms/step\n",
            "Epoch 20/100\n",
            "30/30 - 1s - loss: 0.3395 - categorical_accuracy: 0.9304 - val_loss: 0.5630 - val_categorical_accuracy: 0.8714 - 1s/epoch - 44ms/step\n",
            "Epoch 21/100\n",
            "30/30 - 1s - loss: 0.3002 - categorical_accuracy: 0.9299 - val_loss: 0.5211 - val_categorical_accuracy: 0.9190 - 1s/epoch - 44ms/step\n",
            "Epoch 22/100\n",
            "30/30 - 1s - loss: 0.2539 - categorical_accuracy: 0.9415 - val_loss: 0.4338 - val_categorical_accuracy: 0.9524 - 1s/epoch - 43ms/step\n",
            "Epoch 23/100\n",
            "30/30 - 1s - loss: 0.2197 - categorical_accuracy: 0.9473 - val_loss: 0.4780 - val_categorical_accuracy: 0.9143 - 1s/epoch - 44ms/step\n",
            "Epoch 24/100\n",
            "30/30 - 1s - loss: 0.1947 - categorical_accuracy: 0.9568 - val_loss: 0.4718 - val_categorical_accuracy: 0.9143 - 1s/epoch - 43ms/step\n",
            "Epoch 25/100\n",
            "30/30 - 1s - loss: 0.1814 - categorical_accuracy: 0.9546 - val_loss: 0.4548 - val_categorical_accuracy: 0.9286 - 1s/epoch - 45ms/step\n",
            "Epoch 26/100\n",
            "30/30 - 1s - loss: 0.1796 - categorical_accuracy: 0.9568 - val_loss: 0.4213 - val_categorical_accuracy: 0.9333 - 1s/epoch - 44ms/step\n",
            "Epoch 27/100\n",
            "30/30 - 1s - loss: 0.1466 - categorical_accuracy: 0.9641 - val_loss: 0.4622 - val_categorical_accuracy: 0.9333 - 1s/epoch - 43ms/step\n",
            "Epoch 28/100\n",
            "30/30 - 1s - loss: 0.1459 - categorical_accuracy: 0.9620 - val_loss: 0.4352 - val_categorical_accuracy: 0.9286 - 1s/epoch - 44ms/step\n",
            "Epoch 29/100\n",
            "30/30 - 1s - loss: 0.1316 - categorical_accuracy: 0.9652 - val_loss: 0.4536 - val_categorical_accuracy: 0.9190 - 1s/epoch - 43ms/step\n",
            "Epoch 30/100\n",
            "30/30 - 1s - loss: 0.1095 - categorical_accuracy: 0.9684 - val_loss: 0.4221 - val_categorical_accuracy: 0.9333 - 1s/epoch - 43ms/step\n",
            "Epoch 31/100\n",
            "30/30 - 1s - loss: 0.1070 - categorical_accuracy: 0.9710 - val_loss: 0.4104 - val_categorical_accuracy: 0.9524 - 1s/epoch - 43ms/step\n",
            "Epoch 32/100\n",
            "30/30 - 1s - loss: 0.1074 - categorical_accuracy: 0.9710 - val_loss: 0.3965 - val_categorical_accuracy: 0.9476 - 1s/epoch - 44ms/step\n",
            "Epoch 33/100\n",
            "30/30 - 1s - loss: 0.1087 - categorical_accuracy: 0.9742 - val_loss: 0.4511 - val_categorical_accuracy: 0.9381 - 1s/epoch - 42ms/step\n",
            "Epoch 34/100\n",
            "30/30 - 1s - loss: 0.1035 - categorical_accuracy: 0.9699 - val_loss: 0.4454 - val_categorical_accuracy: 0.9381 - 1s/epoch - 44ms/step\n",
            "Epoch 35/100\n",
            "30/30 - 1s - loss: 0.1150 - categorical_accuracy: 0.9694 - val_loss: 0.4418 - val_categorical_accuracy: 0.9381 - 1s/epoch - 43ms/step\n",
            "Epoch 36/100\n",
            "30/30 - 1s - loss: 0.0966 - categorical_accuracy: 0.9720 - val_loss: 0.4173 - val_categorical_accuracy: 0.9429 - 1s/epoch - 44ms/step\n",
            "Epoch 37/100\n",
            "30/30 - 1s - loss: 0.0816 - categorical_accuracy: 0.9715 - val_loss: 0.4871 - val_categorical_accuracy: 0.9333 - 1s/epoch - 43ms/step\n",
            "Epoch 38/100\n",
            "30/30 - 1s - loss: 0.0844 - categorical_accuracy: 0.9752 - val_loss: 0.4329 - val_categorical_accuracy: 0.9238 - 1s/epoch - 44ms/step\n",
            "Epoch 39/100\n",
            "30/30 - 1s - loss: 0.0834 - categorical_accuracy: 0.9757 - val_loss: 0.4043 - val_categorical_accuracy: 0.9429 - 1s/epoch - 43ms/step\n",
            "Epoch 40/100\n",
            "30/30 - 1s - loss: 0.0918 - categorical_accuracy: 0.9715 - val_loss: 0.4442 - val_categorical_accuracy: 0.9429 - 1s/epoch - 44ms/step\n",
            "Epoch 41/100\n",
            "30/30 - 1s - loss: 0.0812 - categorical_accuracy: 0.9715 - val_loss: 0.4161 - val_categorical_accuracy: 0.9429 - 1s/epoch - 42ms/step\n",
            "Epoch 42/100\n",
            "30/30 - 1s - loss: 0.0782 - categorical_accuracy: 0.9757 - val_loss: 0.4227 - val_categorical_accuracy: 0.9381 - 1s/epoch - 42ms/step\n",
            "Epoch 43/100\n",
            "30/30 - 1s - loss: 0.0812 - categorical_accuracy: 0.9742 - val_loss: 0.4315 - val_categorical_accuracy: 0.9476 - 1s/epoch - 43ms/step\n",
            "Epoch 44/100\n",
            "30/30 - 1s - loss: 0.0804 - categorical_accuracy: 0.9736 - val_loss: 0.3998 - val_categorical_accuracy: 0.9381 - 1s/epoch - 43ms/step\n",
            "Epoch 45/100\n",
            "30/30 - 1s - loss: 0.0829 - categorical_accuracy: 0.9736 - val_loss: 0.4080 - val_categorical_accuracy: 0.9524 - 1s/epoch - 42ms/step\n",
            "Epoch 46/100\n",
            "30/30 - 1s - loss: 0.0804 - categorical_accuracy: 0.9757 - val_loss: 0.4274 - val_categorical_accuracy: 0.9429 - 1s/epoch - 43ms/step\n",
            "Epoch 47/100\n",
            "30/30 - 1s - loss: 0.0696 - categorical_accuracy: 0.9763 - val_loss: 0.4355 - val_categorical_accuracy: 0.9333 - 1s/epoch - 43ms/step\n",
            "Epoch 48/100\n",
            "30/30 - 1s - loss: 0.0749 - categorical_accuracy: 0.9747 - val_loss: 0.4091 - val_categorical_accuracy: 0.9429 - 1s/epoch - 43ms/step\n",
            "Epoch 49/100\n",
            "30/30 - 1s - loss: 0.1241 - categorical_accuracy: 0.9641 - val_loss: 0.5884 - val_categorical_accuracy: 0.9048 - 1s/epoch - 42ms/step\n",
            "Epoch 50/100\n",
            "30/30 - 1s - loss: 0.1033 - categorical_accuracy: 0.9684 - val_loss: 0.4590 - val_categorical_accuracy: 0.9476 - 1s/epoch - 44ms/step\n",
            "Epoch 51/100\n",
            "30/30 - 1s - loss: 0.0725 - categorical_accuracy: 0.9763 - val_loss: 0.4331 - val_categorical_accuracy: 0.9524 - 1s/epoch - 42ms/step\n",
            "Epoch 52/100\n",
            "30/30 - 1s - loss: 0.0665 - categorical_accuracy: 0.9768 - val_loss: 0.4510 - val_categorical_accuracy: 0.9429 - 1s/epoch - 42ms/step\n",
            "Epoch 53/100\n",
            "30/30 - 1s - loss: 0.0649 - categorical_accuracy: 0.9747 - val_loss: 0.4104 - val_categorical_accuracy: 0.9476 - 1s/epoch - 43ms/step\n",
            "Epoch 54/100\n",
            "30/30 - 1s - loss: 0.0735 - categorical_accuracy: 0.9731 - val_loss: 0.4961 - val_categorical_accuracy: 0.9381 - 1s/epoch - 42ms/step\n",
            "Epoch 55/100\n",
            "30/30 - 1s - loss: 0.0835 - categorical_accuracy: 0.9736 - val_loss: 0.4751 - val_categorical_accuracy: 0.9333 - 1s/epoch - 43ms/step\n",
            "Epoch 56/100\n",
            "30/30 - 1s - loss: 0.0760 - categorical_accuracy: 0.9736 - val_loss: 0.4394 - val_categorical_accuracy: 0.9333 - 1s/epoch - 44ms/step\n",
            "Epoch 57/100\n",
            "30/30 - 1s - loss: 0.0711 - categorical_accuracy: 0.9778 - val_loss: 0.4502 - val_categorical_accuracy: 0.9333 - 1s/epoch - 43ms/step\n",
            "Epoch 58/100\n",
            "30/30 - 1s - loss: 0.0697 - categorical_accuracy: 0.9715 - val_loss: 0.4686 - val_categorical_accuracy: 0.9333 - 1s/epoch - 44ms/step\n",
            "Epoch 59/100\n",
            "30/30 - 1s - loss: 0.0690 - categorical_accuracy: 0.9763 - val_loss: 0.4390 - val_categorical_accuracy: 0.9429 - 1s/epoch - 45ms/step\n",
            "Epoch 60/100\n",
            "30/30 - 1s - loss: 0.0651 - categorical_accuracy: 0.9757 - val_loss: 0.4509 - val_categorical_accuracy: 0.9238 - 1s/epoch - 43ms/step\n",
            "Epoch 61/100\n",
            "30/30 - 1s - loss: 0.0666 - categorical_accuracy: 0.9789 - val_loss: 0.4551 - val_categorical_accuracy: 0.9381 - 1s/epoch - 43ms/step\n",
            "Epoch 62/100\n",
            "30/30 - 1s - loss: 0.0664 - categorical_accuracy: 0.9752 - val_loss: 0.4133 - val_categorical_accuracy: 0.9476 - 1s/epoch - 42ms/step\n",
            "Epoch 63/100\n",
            "30/30 - 1s - loss: 0.1451 - categorical_accuracy: 0.9589 - val_loss: 0.5938 - val_categorical_accuracy: 0.8857 - 1s/epoch - 42ms/step\n",
            "Epoch 64/100\n",
            "30/30 - 1s - loss: 0.2321 - categorical_accuracy: 0.9251 - val_loss: 0.5391 - val_categorical_accuracy: 0.9048 - 1s/epoch - 43ms/step\n",
            "Epoch 65/100\n",
            "30/30 - 1s - loss: 0.0953 - categorical_accuracy: 0.9673 - val_loss: 0.4287 - val_categorical_accuracy: 0.9333 - 1s/epoch - 42ms/step\n",
            "Epoch 66/100\n",
            "30/30 - 1s - loss: 0.0683 - categorical_accuracy: 0.9763 - val_loss: 0.4160 - val_categorical_accuracy: 0.9476 - 1s/epoch - 42ms/step\n",
            "Epoch 67/100\n",
            "30/30 - 1s - loss: 0.0656 - categorical_accuracy: 0.9768 - val_loss: 0.4451 - val_categorical_accuracy: 0.9333 - 1s/epoch - 42ms/step\n",
            "Epoch 68/100\n",
            "30/30 - 1s - loss: 0.0607 - categorical_accuracy: 0.9789 - val_loss: 0.3953 - val_categorical_accuracy: 0.9476 - 1s/epoch - 42ms/step\n",
            "Epoch 69/100\n",
            "30/30 - 1s - loss: 0.0653 - categorical_accuracy: 0.9778 - val_loss: 0.4334 - val_categorical_accuracy: 0.9429 - 1s/epoch - 43ms/step\n",
            "Epoch 70/100\n",
            "30/30 - 1s - loss: 0.0582 - categorical_accuracy: 0.9815 - val_loss: 0.3916 - val_categorical_accuracy: 0.9524 - 1s/epoch - 42ms/step\n",
            "Epoch 71/100\n",
            "30/30 - 1s - loss: 0.0599 - categorical_accuracy: 0.9763 - val_loss: 0.4482 - val_categorical_accuracy: 0.9333 - 1s/epoch - 42ms/step\n",
            "Epoch 72/100\n",
            "30/30 - 1s - loss: 0.0572 - categorical_accuracy: 0.9815 - val_loss: 0.4251 - val_categorical_accuracy: 0.9381 - 1s/epoch - 43ms/step\n",
            "Epoch 73/100\n",
            "30/30 - 1s - loss: 0.0580 - categorical_accuracy: 0.9768 - val_loss: 0.4654 - val_categorical_accuracy: 0.9238 - 1s/epoch - 41ms/step\n",
            "Epoch 74/100\n",
            "30/30 - 1s - loss: 0.0618 - categorical_accuracy: 0.9784 - val_loss: 0.4159 - val_categorical_accuracy: 0.9476 - 1s/epoch - 42ms/step\n",
            "Epoch 75/100\n",
            "30/30 - 1s - loss: 0.0672 - categorical_accuracy: 0.9757 - val_loss: 0.4290 - val_categorical_accuracy: 0.9429 - 1s/epoch - 42ms/step\n",
            "Epoch 76/100\n",
            "30/30 - 1s - loss: 0.0533 - categorical_accuracy: 0.9815 - val_loss: 0.4420 - val_categorical_accuracy: 0.9238 - 1s/epoch - 43ms/step\n",
            "Epoch 77/100\n",
            "30/30 - 1s - loss: 0.0562 - categorical_accuracy: 0.9752 - val_loss: 0.4061 - val_categorical_accuracy: 0.9381 - 1s/epoch - 43ms/step\n",
            "Epoch 78/100\n",
            "30/30 - 1s - loss: 0.0607 - categorical_accuracy: 0.9752 - val_loss: 0.4335 - val_categorical_accuracy: 0.9571 - 1s/epoch - 43ms/step\n",
            "Epoch 79/100\n",
            "30/30 - 1s - loss: 0.0568 - categorical_accuracy: 0.9794 - val_loss: 0.4448 - val_categorical_accuracy: 0.9381 - 1s/epoch - 42ms/step\n",
            "Epoch 80/100\n",
            "30/30 - 1s - loss: 0.0480 - categorical_accuracy: 0.9794 - val_loss: 0.4590 - val_categorical_accuracy: 0.9333 - 1s/epoch - 44ms/step\n",
            "Epoch 81/100\n",
            "30/30 - 1s - loss: 0.0592 - categorical_accuracy: 0.9757 - val_loss: 0.4446 - val_categorical_accuracy: 0.9381 - 1s/epoch - 42ms/step\n",
            "Epoch 82/100\n",
            "30/30 - 1s - loss: 0.0612 - categorical_accuracy: 0.9757 - val_loss: 0.4036 - val_categorical_accuracy: 0.9476 - 1s/epoch - 43ms/step\n",
            "Epoch 83/100\n",
            "30/30 - 1s - loss: 0.0550 - categorical_accuracy: 0.9789 - val_loss: 0.4839 - val_categorical_accuracy: 0.9238 - 1s/epoch - 43ms/step\n",
            "Epoch 84/100\n",
            "30/30 - 1s - loss: 0.0646 - categorical_accuracy: 0.9773 - val_loss: 0.4372 - val_categorical_accuracy: 0.9333 - 1s/epoch - 43ms/step\n",
            "Epoch 85/100\n",
            "30/30 - 1s - loss: 0.0752 - categorical_accuracy: 0.9731 - val_loss: 0.5025 - val_categorical_accuracy: 0.9190 - 1s/epoch - 42ms/step\n",
            "Epoch 86/100\n",
            "30/30 - 1s - loss: 0.0670 - categorical_accuracy: 0.9731 - val_loss: 0.4452 - val_categorical_accuracy: 0.9381 - 1s/epoch - 42ms/step\n",
            "Epoch 87/100\n",
            "30/30 - 1s - loss: 0.0601 - categorical_accuracy: 0.9778 - val_loss: 0.4528 - val_categorical_accuracy: 0.9286 - 1s/epoch - 42ms/step\n",
            "Epoch 88/100\n",
            "30/30 - 1s - loss: 0.0687 - categorical_accuracy: 0.9736 - val_loss: 0.4964 - val_categorical_accuracy: 0.9190 - 1s/epoch - 43ms/step\n",
            "Epoch 89/100\n",
            "30/30 - 1s - loss: 0.0958 - categorical_accuracy: 0.9673 - val_loss: 0.4766 - val_categorical_accuracy: 0.9381 - 1s/epoch - 43ms/step\n",
            "Epoch 90/100\n",
            "30/30 - 1s - loss: 0.0912 - categorical_accuracy: 0.9684 - val_loss: 0.4617 - val_categorical_accuracy: 0.9381 - 1s/epoch - 43ms/step\n",
            "Epoch 91/100\n",
            "30/30 - 1s - loss: 0.0802 - categorical_accuracy: 0.9768 - val_loss: 0.4875 - val_categorical_accuracy: 0.9381 - 1s/epoch - 42ms/step\n",
            "Epoch 92/100\n",
            "30/30 - 1s - loss: 0.0909 - categorical_accuracy: 0.9710 - val_loss: 0.5369 - val_categorical_accuracy: 0.9238 - 1s/epoch - 42ms/step\n",
            "Epoch 93/100\n",
            "30/30 - 1s - loss: 0.0725 - categorical_accuracy: 0.9747 - val_loss: 0.4474 - val_categorical_accuracy: 0.9286 - 1s/epoch - 42ms/step\n",
            "Epoch 94/100\n",
            "30/30 - 1s - loss: 0.0573 - categorical_accuracy: 0.9763 - val_loss: 0.4476 - val_categorical_accuracy: 0.9476 - 1s/epoch - 43ms/step\n",
            "Epoch 95/100\n",
            "30/30 - 1s - loss: 0.0568 - categorical_accuracy: 0.9778 - val_loss: 0.4290 - val_categorical_accuracy: 0.9429 - 1s/epoch - 43ms/step\n",
            "Epoch 96/100\n",
            "30/30 - 1s - loss: 0.0570 - categorical_accuracy: 0.9778 - val_loss: 0.4416 - val_categorical_accuracy: 0.9381 - 1s/epoch - 44ms/step\n",
            "Epoch 97/100\n",
            "30/30 - 1s - loss: 0.0514 - categorical_accuracy: 0.9810 - val_loss: 0.4171 - val_categorical_accuracy: 0.9476 - 1s/epoch - 43ms/step\n",
            "Epoch 98/100\n",
            "30/30 - 1s - loss: 0.0540 - categorical_accuracy: 0.9805 - val_loss: 0.4384 - val_categorical_accuracy: 0.9333 - 1s/epoch - 43ms/step\n",
            "Epoch 99/100\n",
            "30/30 - 1s - loss: 0.0515 - categorical_accuracy: 0.9789 - val_loss: 0.4783 - val_categorical_accuracy: 0.9286 - 1s/epoch - 43ms/step\n",
            "Epoch 100/100\n",
            "30/30 - 1s - loss: 0.0580 - categorical_accuracy: 0.9768 - val_loss: 0.4400 - val_categorical_accuracy: 0.9381 - 1s/epoch - 43ms/step\n"
          ]
        }
      ]
    },
    {
      "cell_type": "code",
      "source": [
        "# Forward model is trained on forward data, tested on forward data\n",
        "testing_pairs = generate_input_output_pairs([target_sequence])\n",
        "testX, testY = preprocess_data(testing_pairs)\n",
        "_, forward_accuracy = forward_model.evaluate(testX, testY)\n",
        "print(f\"Accuracy on Forward Model for {model_name}: {forward_accuracy:.2f}\")"
      ],
      "metadata": {
        "id": "mm9MoTGQOMue",
        "colab": {
          "base_uri": "https://localhost:8080/"
        },
        "outputId": "4e9c058a-9379-45b5-c24e-51f5ca781ec0"
      },
      "execution_count": 76,
      "outputs": [
        {
          "output_type": "stream",
          "name": "stdout",
          "text": [
            "7/7 [==============================] - 0s 9ms/step - loss: 0.0336 - categorical_accuracy: 0.9856\n",
            "Accuracy on Forward Model for CNN Bi-LSTM: 0.99\n"
          ]
        }
      ]
    },
    {
      "cell_type": "code",
      "source": [
        "# Reverse model is trained on reverse data, tested on reverse data\n",
        "testing_pairs = generate_input_output_pairs([target_sequence_reversed])\n",
        "testX, testY = preprocess_data(testing_pairs)\n",
        "_, reverse_accuracy = reverse_model.evaluate(testX, testY)\n",
        "print(f\"Accuracy on Reverse Model for {model_name}: {reverse_accuracy:.2f}\")"
      ],
      "metadata": {
        "id": "3jIIJdMeOMue",
        "colab": {
          "base_uri": "https://localhost:8080/"
        },
        "outputId": "c3175385-63c5-4793-de7e-322e33fb5958"
      },
      "execution_count": 77,
      "outputs": [
        {
          "output_type": "stream",
          "name": "stdout",
          "text": [
            "7/7 [==============================] - 0s 10ms/step - loss: 0.0298 - categorical_accuracy: 0.9856\n",
            "Accuracy on Reverse Model for CNN Bi-LSTM: 0.99\n"
          ]
        }
      ]
    },
    {
      "cell_type": "code",
      "source": [
        "plot_metric(forward_history.history, title=\"Forward\", metric=\"categorical_accuracy\")"
      ],
      "metadata": {
        "id": "DAb05u1-OMue",
        "colab": {
          "base_uri": "https://localhost:8080/",
          "height": 295
        },
        "outputId": "2b57145b-60a1-461e-870f-8184b38792e3"
      },
      "execution_count": 78,
      "outputs": [
        {
          "output_type": "display_data",
          "data": {
            "text/plain": [
              "<Figure size 432x288 with 1 Axes>"
            ],
            "image/png": "[encoded data removed]"
          },
          "metadata": {
            "needs_background": "light"
          }
        }
      ]
    },
    {
      "cell_type": "code",
      "source": [
        "plot_metric(reverse_history.history, title=\"Reverse\", metric=\"categorical_accuracy\")"
      ],
      "metadata": {
        "id": "2MtznZ8AOMuf",
        "colab": {
          "base_uri": "https://localhost:8080/",
          "height": 295
        },
        "outputId": "dadaef53-009e-4cb8-d710-65be82d61949"
      },
      "execution_count": 79,
      "outputs": [
        {
          "output_type": "display_data",
          "data": {
            "text/plain": [
              "<Figure size 432x288 with 1 Axes>"
            ],
            "image/png": "[encoded data removed]"
          },
          "metadata": {
            "needs_background": "light"
          }
        }
      ]
    },
    {
      "cell_type": "code",
      "source": [
        "plot_metric(forward_history.history, title=\"Forward\", metric=\"loss\")"
      ],
      "metadata": {
        "id": "7Rwn0P4WOMuf",
        "colab": {
          "base_uri": "https://localhost:8080/",
          "height": 295
        },
        "outputId": "d8a2dc48-b5ca-4fca-939c-be23f722aa63"
      },
      "execution_count": 80,
      "outputs": [
        {
          "output_type": "display_data",
          "data": {
            "text/plain": [
              "<Figure size 432x288 with 1 Axes>"
            ],
            "image/png": "[encoded data removed]"
          },
          "metadata": {
            "needs_background": "light"
          }
        }
      ]
    },
    {
      "cell_type": "code",
      "source": [
        "plot_metric(reverse_history.history, title=\"Reverse\", metric=\"loss\")"
      ],
      "metadata": {
        "id": "0r2qKRJWOMuf",
        "colab": {
          "base_uri": "https://localhost:8080/",
          "height": 295
        },
        "outputId": "ecc45a73-af09-4297-9df3-e1f92418e68e"
      },
      "execution_count": 81,
      "outputs": [
        {
          "output_type": "display_data",
          "data": {
            "text/plain": [
              "<Figure size 432x288 with 1 Axes>"
            ],
            "image/png": "[encoded data removed]"
          },
          "metadata": {
            "needs_background": "light"
          }
        }
      ]
    },
    {
      "cell_type": "code",
      "source": [
        "# Now use both models to predict a de novo sequence based on target sequence\n",
        "missing_indices = set([0, 1, 2, 24, 25, 26, 62, 63, 64, 66, 67, 68, 69, 75, 76, 77, 78, 79, 80, 81, 82, 83, 84, 85, 209, 210, 211, 212, 213])\n",
        "de_novo_sequence = \"\".join(c if i not in missing_indices else \"-\" for i, c in enumerate(target_sequence))\n",
        "\n",
        "pred_sequence_full = predict_gaps(de_novo_sequence, forward_model, reverse_model)\n",
        "incorrect_indices = get_nonmatching_indices(target_sequence, pred_sequence_full)\n",
        "correct_indices = missing_indices.difference(incorrect_indices)\n",
        "\n",
        "# Print the three different sequences for visual inspection\n",
        "print_sequence(target_sequence, \"TARGET SEQUENCE\")"
      ],
      "metadata": {
        "id": "PRgRhKmVOMuf",
        "colab": {
          "base_uri": "https://localhost:8080/"
        },
        "outputId": "2eae5c72-5127-424a-afdc-8e7354ddbfdb"
      },
      "execution_count": 82,
      "outputs": [
        {
          "output_type": "stream",
          "name": "stdout",
          "text": [
            "TARGET SEQUENCE\n",
            "=====================================================================\n",
            "DIQMTQSPSS\tLSASVGDRVT\tITCKASQNID\tKYLNWYQQKP\n",
            "GKAPKLLIYN\tTNNLQTGVPS\tRFSGSGSGTD\tFTFTISSLQP\n",
            "EDIATYYCLQ\tHISRPRTFGQ\tGTKVEIKRTV\tAAPSVFIFPP\n",
            "SDEQLKSGTA\tSVVCLLNNFY\tPREAKVQWKV\tDNALQSGNSQ\n",
            "ESVTEQDSKD\tSTYSLSSTLT\tLSKADYEKHK\tVYACEVTHQG\n",
            "LSSPVTKSFN\tRGEC\n"
          ]
        }
      ]
    },
    {
      "cell_type": "code",
      "source": [
        "print_sequence(de_novo_sequence,\"DE NOVO SEQUENCE\", missing_indices)"
      ],
      "metadata": {
        "id": "sBXuLzmGOMug",
        "colab": {
          "base_uri": "https://localhost:8080/"
        },
        "outputId": "be59d812-3349-4ec8-f608-b128cc2c906a"
      },
      "execution_count": 83,
      "outputs": [
        {
          "output_type": "stream",
          "name": "stdout",
          "text": [
            "DE NOVO SEQUENCE\n",
            "=====================================================================\n",
            "\u001b[1m\u001b[31m-\u001b[0m\u001b[1m\u001b[31m-\u001b[0m\u001b[1m\u001b[31m-\u001b[0mMTQSPSS\tLSASVGDRVT\tITCK\u001b[1m\u001b[31m-\u001b[0m\u001b[1m\u001b[31m-\u001b[0m\u001b[1m\u001b[31m-\u001b[0mNID\tKYLNWYQQKP\n",
            "GKAPKLLIYN\tTNNLQTGVPS\tRF\u001b[1m\u001b[31m-\u001b[0m\u001b[1m\u001b[31m-\u001b[0m\u001b[1m\u001b[31m-\u001b[0mG\u001b[1m\u001b[31m-\u001b[0m\u001b[1m\u001b[31m-\u001b[0m\u001b[1m\u001b[31m-\u001b[0m\u001b[1m\u001b[31m-\u001b[0m\tFTFTI\u001b[1m\u001b[31m-\u001b[0m\u001b[1m\u001b[31m-\u001b[0m\u001b[1m\u001b[31m-\u001b[0m\u001b[1m\u001b[31m-\u001b[0m\u001b[1m\u001b[31m-\u001b[0m\n",
            "\u001b[1m\u001b[31m-\u001b[0m\u001b[1m\u001b[31m-\u001b[0m\u001b[1m\u001b[31m-\u001b[0m\u001b[1m\u001b[31m-\u001b[0m\u001b[1m\u001b[31m-\u001b[0m\u001b[1m\u001b[31m-\u001b[0mYCLQ\tHISRPRTFGQ\tGTKVEIKRTV\tAAPSVFIFPP\n",
            "SDEQLKSGTA\tSVVCLLNNFY\tPREAKVQWKV\tDNALQSGNSQ\n",
            "ESVTEQDSKD\tSTYSLSSTLT\tLSKADYEKHK\tVYACEVTHQG\n",
            "LSSPVTKSF\u001b[1m\u001b[31m-\u001b[0m\t\u001b[1m\u001b[31m-\u001b[0m\u001b[1m\u001b[31m-\u001b[0m\u001b[1m\u001b[31m-\u001b[0m\u001b[1m\u001b[31m-\u001b[0m\n"
          ]
        }
      ]
    },
    {
      "cell_type": "code",
      "source": [
        "print_sequence(pred_sequence_full, \"PREDICTED SEQUENCE\", incorrect_indices, correct_indices)"
      ],
      "metadata": {
        "id": "wo7kfUK1OMug",
        "colab": {
          "base_uri": "https://localhost:8080/"
        },
        "outputId": "5232c601-92f3-4bad-f2ab-abd98a127802"
      },
      "execution_count": 84,
      "outputs": [
        {
          "output_type": "stream",
          "name": "stdout",
          "text": [
            "PREDICTED SEQUENCE\n",
            "=====================================================================\n",
            "\u001b[1m\u001b[32mD\u001b[0m\u001b[1m\u001b[32mI\u001b[0m\u001b[1m\u001b[32mQ\u001b[0mMTQSPSS\tLSASVGDRVT\tITCK\u001b[1m\u001b[32mA\u001b[0m\u001b[1m\u001b[32mS\u001b[0m\u001b[1m\u001b[32mQ\u001b[0mNID\tKYLNWYQQKP\n",
            "GKAPKLLIYN\tTNNLQTGVPS\tRF\u001b[1m\u001b[32mS\u001b[0m\u001b[1m\u001b[32mG\u001b[0m\u001b[1m\u001b[32mS\u001b[0mG\u001b[1m\u001b[32mS\u001b[0m\u001b[1m\u001b[32mG\u001b[0m\u001b[1m\u001b[32mT\u001b[0m\u001b[1m\u001b[32mD\u001b[0m\tFTFTI\u001b[1m\u001b[32mS\u001b[0m\u001b[1m\u001b[32mS\u001b[0m\u001b[1m\u001b[32mL\u001b[0m\u001b[1m\u001b[32mQ\u001b[0m\u001b[1m\u001b[32mP\u001b[0m\n",
            "\u001b[1m\u001b[32mE\u001b[0m\u001b[1m\u001b[32mD\u001b[0m\u001b[1m\u001b[32mI\u001b[0m\u001b[1m\u001b[32mA\u001b[0m\u001b[1m\u001b[32mT\u001b[0m\u001b[1m\u001b[32mY\u001b[0mYCLQ\tHISRPRTFGQ\tGTKVEIKRTV\tAAPSVFIFPP\n",
            "SDEQLKSGTA\tSVVCLLNNFY\tPREAKVQWKV\tDNALQSGNSQ\n",
            "ESVTEQDSKD\tSTYSLSSTLT\tLSKADYEKHK\tVYACEVTHQG\n",
            "LSSPVTKSF\u001b[1m\u001b[32mN\u001b[0m\t\u001b[1m\u001b[32mR\u001b[0m\u001b[1m\u001b[32mG\u001b[0m\u001b[1m\u001b[32mE\u001b[0m\u001b[1m\u001b[32mC\u001b[0m\n"
          ]
        }
      ]
    },
    {
      "cell_type": "code",
      "source": [
        "# Compute final accuracy on de novo sequence\n",
        "target_len = len(target_sequence)\n",
        "full_accuracy = (target_len - len(incorrect_indices)) / target_len\n",
        "print(f\"Accuracy on De Novo Sequence: {full_accuracy:.3f}\")"
      ],
      "metadata": {
        "id": "U7XgLXDrOMug",
        "colab": {
          "base_uri": "https://localhost:8080/"
        },
        "outputId": "a24b8234-958a-43b3-abfb-907b20c944bd"
      },
      "execution_count": 85,
      "outputs": [
        {
          "output_type": "stream",
          "name": "stdout",
          "text": [
            "Accuracy on De Novo Sequence: 1.000\n"
          ]
        }
      ]
    },
    {
      "cell_type": "code",
      "source": [
        "# Print the predictions in forward and reverse directions as well\n",
        "forward_pred = predict_gaps(de_novo_sequence, forward_model=forward_model, reverse_model=None)\n",
        "incorrect_indices = get_nonmatching_indices(target_sequence, forward_pred)\n",
        "correct_indices = missing_indices.difference(incorrect_indices)\n",
        "print_sequence(forward_pred, \"FORWARD PREDICTIONS\", incorrect_indices, correct_indices)\n",
        "\n",
        "reverse_pred = predict_gaps(de_novo_sequence, forward_model=None, reverse_model=reverse_model)\n",
        "incorrect_indices = get_nonmatching_indices(target_sequence, reverse_pred)\n",
        "correct_indices = missing_indices.difference(incorrect_indices)\n",
        "print_sequence(reverse_pred, \"REVERSE PREDICTIONS\", incorrect_indices, correct_indices)"
      ],
      "metadata": {
        "id": "fSee5yumOMug",
        "colab": {
          "base_uri": "https://localhost:8080/"
        },
        "outputId": "49557c67-d2b2-4a1f-d839-bb54855fbd68"
      },
      "execution_count": 86,
      "outputs": [
        {
          "output_type": "stream",
          "name": "stdout",
          "text": [
            "FORWARD PREDICTIONS\n",
            "=====================================================================\n",
            "\u001b[1m\u001b[31m-\u001b[0m\u001b[1m\u001b[31m-\u001b[0m\u001b[1m\u001b[31m-\u001b[0mMTQSPSS\tLSASVGDRVT\tITCK\u001b[1m\u001b[32mA\u001b[0m\u001b[1m\u001b[32mS\u001b[0m\u001b[1m\u001b[32mQ\u001b[0mNID\tKYLNWYQQKP\n",
            "GKAPKLLIYN\tTNNLQTGVPS\tRF\u001b[1m\u001b[32mS\u001b[0m\u001b[1m\u001b[32mG\u001b[0m\u001b[1m\u001b[32mS\u001b[0mG\u001b[1m\u001b[32mS\u001b[0m\u001b[1m\u001b[32mG\u001b[0m\u001b[1m\u001b[32mT\u001b[0m\u001b[1m\u001b[32mD\u001b[0m\tFTFTI\u001b[1m\u001b[32mS\u001b[0m\u001b[1m\u001b[32mS\u001b[0m\u001b[1m\u001b[32mL\u001b[0m\u001b[1m\u001b[32mQ\u001b[0m\u001b[1m\u001b[32mP\u001b[0m\n",
            "\u001b[1m\u001b[32mE\u001b[0m\u001b[1m\u001b[32mD\u001b[0m\u001b[1m\u001b[32mI\u001b[0m\u001b[1m\u001b[32mA\u001b[0m\u001b[1m\u001b[32mT\u001b[0m\u001b[1m\u001b[32mY\u001b[0mYCLQ\tHISRPRTFGQ\tGTKVEIKRTV\tAAPSVFIFPP\n",
            "SDEQLKSGTA\tSVVCLLNNFY\tPREAKVQWKV\tDNALQSGNSQ\n",
            "ESVTEQDSKD\tSTYSLSSTLT\tLSKADYEKHK\tVYACEVTHQG\n",
            "LSSPVTKSF\u001b[1m\u001b[32mN\u001b[0m\t\u001b[1m\u001b[32mR\u001b[0m\u001b[1m\u001b[32mG\u001b[0m\u001b[1m\u001b[32mE\u001b[0m\u001b[1m\u001b[32mC\u001b[0m\n",
            "REVERSE PREDICTIONS\n",
            "=====================================================================\n",
            "\u001b[1m\u001b[32mD\u001b[0m\u001b[1m\u001b[32mI\u001b[0m\u001b[1m\u001b[32mQ\u001b[0mMTQSPSS\tLSASVGDRVT\tITCK\u001b[1m\u001b[32mA\u001b[0m\u001b[1m\u001b[32mS\u001b[0m\u001b[1m\u001b[32mQ\u001b[0mNID\tKYLNWYQQKP\n",
            "GKAPKLLIYN\tTNNLQTGVPS\tRF\u001b[1m\u001b[32mS\u001b[0m\u001b[1m\u001b[32mG\u001b[0m\u001b[1m\u001b[32mS\u001b[0mG\u001b[1m\u001b[32mS\u001b[0m\u001b[1m\u001b[32mG\u001b[0m\u001b[1m\u001b[32mT\u001b[0m\u001b[1m\u001b[32mD\u001b[0m\tFTFTI\u001b[1m\u001b[32mS\u001b[0m\u001b[1m\u001b[32mS\u001b[0m\u001b[1m\u001b[32mL\u001b[0m\u001b[1m\u001b[32mQ\u001b[0m\u001b[1m\u001b[32mP\u001b[0m\n",
            "\u001b[1m\u001b[32mE\u001b[0m\u001b[1m\u001b[32mD\u001b[0m\u001b[1m\u001b[32mI\u001b[0m\u001b[1m\u001b[32mA\u001b[0m\u001b[1m\u001b[32mT\u001b[0m\u001b[1m\u001b[32mY\u001b[0mYCLQ\tHISRPRTFGQ\tGTKVEIKRTV\tAAPSVFIFPP\n",
            "SDEQLKSGTA\tSVVCLLNNFY\tPREAKVQWKV\tDNALQSGNSQ\n",
            "ESVTEQDSKD\tSTYSLSSTLT\tLSKADYEKHK\tVYACEVTHQG\n",
            "LSSPVTKSF\u001b[1m\u001b[31m-\u001b[0m\t\u001b[1m\u001b[31m-\u001b[0m\u001b[1m\u001b[31m-\u001b[0m\u001b[1m\u001b[31m-\u001b[0m\u001b[1m\u001b[31m-\u001b[0m\n"
          ]
        }
      ]
    }
  ]
}