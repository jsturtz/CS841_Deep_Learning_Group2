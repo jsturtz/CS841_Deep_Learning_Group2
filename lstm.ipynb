{
  "nbformat": 4,
  "nbformat_minor": 0,
  "metadata": {
    "colab": {
      "name": "lstm.ipynb",
      "provenance": [],
      "collapsed_sections": [],
      "toc_visible": true
    },
    "kernelspec": {
      "name": "python3",
      "display_name": "Python 3"
    },
    "language_info": {
      "name": "python"
    }
  },
  "cells": [
    {
      "cell_type": "markdown",
      "source": [
        "The following is a stripped-down notebook version of our current github project that can be inspected at  https://github.com/jsturtz/CS841_Deep_Learning_Group2.\n",
        "\n",
        "The idea with our project is that if we are given any partial de novo protein sequence with gaps, we can query the NCBI Protein blast server for the closest matches, then train on those matches to create predictions for the missing gaps. We therefore have two goals:\n",
        "\n",
        "1. get high accuracy predicting ALL the gaps in the target sequence from our ten training instances.\n",
        "2. get high accuracy when deploying our model to predict the gaps in the de novo sequence\n",
        "\n",
        "The `target_sequence_raw` variable holds the target we want to predict. In other words, it is our test data.\n",
        "\n",
        "The `de_novo_sequence_raw` variable is the same thing as the target sequence but with gaps. We built this variable manually by removing the gaps mentioned in our source paper. We used this value to query the NCBI Protein Blast server and then downloaded the top ten results. Those top ten results are what we stored in `training_sequences_raw`.\n",
        "\n"
      ],
      "metadata": {
        "id": "BtqVTAnVKY-I"
      }
    },
    {
      "cell_type": "code",
      "source": [
        "target_sequence_raw = \"\"\">1CE1:L CAMPATH-1H:Light Chain 1\n",
        "DIQMTQSPSSLSASVGDRVTITCKASQNIDKYLNWYQQKPGKAPKLLIYNTNNLQTGVPS\n",
        "RFSGSGSGTDFTFTISSLQPEDIATYYCLQHISRPRTFGQGTKVEIKRTVAAPSVFIFPP\n",
        "SDEQLKSGTASVVCLLNNFYPREAKVQWKVDNALQSGNSQESVTEQDSKDSTYSLSSTLT\n",
        "LSKADYEKHKVYACEVTHQGLSSPVTKSFNRGEC\"\"\"\n",
        "\n",
        "de_novo_sequence_raw = \"\"\">DE NOVO SEQUENCE\n",
        "MTQSPSSLSASVGDRVTITCKNIDKYLNWYQQKPGKAPKLLIYNTNNLQTGVPSRFGFTF\n",
        "TIYCLQHISRPRTFGQGTKVEIKRTVAAPSVFIFPPSDEQLKSGTASVVCLLNNFYPREA\n",
        "KVQWKVDNALQSGNSQESVTEQDSKDSTYSLSSTLTLSKADYEKHKVYACEVTHQGLSSP\n",
        "VTKSF\"\"\"\n",
        "\n",
        "training_sequences_raw = \"\"\">1CE1_L 1.9a Structure Of The Therapeutic Antibody Campath-1h Fab In Complex With A Synthetic Peptide Antigen [Homo sapiens]\n",
        "DIQMTQSPSSLSASVGDRVTITCKASQNIDKYLNWYQQKPGKAPKLLIYNTNNLQTGVPSRFSGSGSGTDFTFTISSLQP\n",
        "EDIATYYCLQHISRPRTFGQGTKVEIKRTVAAPSVFIFPPSDEQLKSGTASVVCLLNNFYPREAKVQWKVDNALQSGNSQ\n",
        "ESVTEQDSKDSTYSLSSTLTLSKADYEKHKVYACEVTHQGLSSPVTKSFNR\n",
        ">1BEY_L Antibody To Campath-1h Humanized Fab [Homo sapiens]\n",
        "DIQMTQSPSSLSASVGDRVTITCKASQNIDKYLNWYQQKPGKAPKLLIYNTNNLQTGVPSRFSGSGSGTDFTFTISSLQP\n",
        "EDIATYYCLQHISRPRTFGQGTKVEIKRTVAAPSVFIFPPSDEQLKSGTASVVCLLNNFYPREAKVQWKVDNALQSGNSQ\n",
        "ESVTEQDSKDSTYSLSSTLTLSKADYEKHKVYACEVTHQGLSSPVTKSFNRGEC\n",
        ">AAB21182.1 immunoglobulin light chain [Rattus sp.]\n",
        "MGWSCIILFLVATATGVHSDIQMTQSPSSLSASVGDRVTITCKASQNIDKYLNWYQQKPGKAPKLLIYNTNNLQTGVPSR\n",
        "FSGSGSGTDFTFTISSLQPEDIATYYCLQHISRPRTFGQGTKVEIKRTVAAPSVFIFPPSDEQLKSGTASVVCLLNNFYP\n",
        "REAKVQWKVDNALQSGNSQESVTEQDSKDSTYSLSSTLTLSKADYEKHKVYACEVTHQGLSSPVTKSFNRGEC\n",
        ">7S0C_L Chain L, N-612-017 Light Chain [Homo sapiens]\n",
        "DIQMTQSPSSLSASVGDRVTITCQASQDISNYLNWYQQKPGKAPKLLIYDASNLETGVPSRFSGSGSGTDFTFTISSLQP\n",
        "EDIATYYCQQHDALPWTFGQGTKVEIKRTVAAPSVFIFPPSDEQLKSGTASVVCLLNNFYPREAKVQWKVDNALQSGNSQ\n",
        "ESVTEQDSKDSTYSLSSTLTLSKADYEKHKVYACEVTHQGLSSPVTKSFNRGEC\n",
        ">1DEE_A Structure of S. aureus protein A bound to a human IgM Fab [Homo sapiens]\n",
        "DIQMTQSPSSLSASVGDRVTITCRTSQSISSYLNWYQQKPGKAPKLLIYAASSLQSGVPSRFSGSGSGTDFTLTISSLQP\n",
        "EDFATYYCQQSYSAPRTFGQGTKVEIKRTVAAPSVFIFPPSDEQLKSGTASVVCLLNNFYPREAKVQWKVDNALQSGNSQ\n",
        "ESVTEQDSKDSTYSLSSTLTLSKADYEKHKVYACEVTHQGLSSPVTKSFNRGEC\n",
        ">1HEZ_A antibody-antigen complex [Homo sapiens]\n",
        "DIQMTQSPSSLSASVGDRVTITCRTSQSISSYLNWYQQKPGKAPKLLIYAASSLQSGVPSRFSGSGSGTDFTLTISSLQP\n",
        "EDFATYYCQQSYSTPRTFGQGTKVEIKRTVAAPSVFIFPPSDEQLKSGTASVVCLLNNFYPREAKVQWKVDNALQSGNSQ\n",
        "ESVTEQDSKDSTYSLSSTLTLSKADYEKHKVYACEVTHQGLSSPVTKSFNRGEC\n",
        ">7S0B_B Chain B, N-612-056 Light Chain [Homo sapiens]\n",
        "DIQMTQSPSSLSASVGDRVTITCQASQDISNYLNWYQQKPGKAPKLLIYDASNLETGVPSRFSGSGSGTDFTFTISSLQP\n",
        "EDIATYYCQQDAGTPLTFGQGTKVEIKRTVAAPSVFIFPPSDEQLKSGTASVVCLLNNFYPREAKVQWKVDNALQSGNSQ\n",
        "ESVTEQDSKDSTYSLSSTLTLSKADYEKHKVYACEVTHQGLSSPVTKSFNRGEC\n",
        ">7S0D_L Chain L, N-612-014 Light Chain [Homo sapiens]\n",
        "DIQMTQSPSSLSASVGDRVTITCQASQDISNYLNWYQQKPGKAPKLLIYDASNLETGVPSRFSGSGSGTDFTFTISSLQP\n",
        "EDIATYYCQQAYAYPLTFGQGTKVEIKRTVAAPSVFIFPPSDEQLKSGTASVVCLLNNFYPREAKVQWKVDNALQSGNSQ\n",
        "ESVTEQDSKDSTYSLSSTLTLSKADYEKHKVYACEVTHQGLSSPVTKSFNRGEC\n",
        ">7E88_B Chain B, BD-515 Fab Light Chain [Homo sapiens]\n",
        "DIQMTQSPSSLSASVGDRVTITCQASQDINKYLNWYQQKPGKAPKLLIFDASHLETGVPSRFSASGSGTDFTFTISSLQP\n",
        "EDIATYYCHQYDNLPRTFGQGTRLEIKRTVAAPSVFIFPPSDEQLKSGTASVVCLLNNFYPREAKVQWKVDNALQSGNSQ\n",
        "ESVTEQDSKDSTYSLSSTLTLSKADYEKHKVYACEVTHQGLSSPVTKSFNRGEC\n",
        ">3FZU_D IgG1 Fab characterized by H/D exchange [Homo sapiens]\n",
        "DIQMTQSPSSLSASVGDRVTITCRASQDIRYYLNWYQQKPGKAPKLLIYVASSLQSGVPSRFSGSGSGTEFTLTVSSLQP\n",
        "EDFATYYCLQVYSTPRTFGQGTKVEIKRTVAAPSVFIFPPSDEQLKSGTASVVCLLNNFYPREAKVQWKVDNALQSGNSQ\n",
        "ESVTEQDSKDSTYSLSSTLTLSKADYEKHKVYACEVTHQGLSSPVTKSFNRGEC\"\"\""
      ],
      "metadata": {
        "id": "V6aNP-npJv-5"
      },
      "execution_count": 1,
      "outputs": []
    },
    {
      "cell_type": "code",
      "source": [
        "# =============================================================================\n",
        "# Imports here\n",
        "# =============================================================================\n",
        "\n",
        "from termcolor import colored\n",
        "import functools\n",
        "import json\n",
        "import numpy as np\n",
        "import os\n",
        "from datetime import datetime\n",
        "\n",
        "from tensorflow import keras\n",
        "from tensorflow.keras import layers\n",
        "from keras.utils import np_utils\n",
        "from matplotlib import pyplot as plt\n",
        "from matplotlib.ticker import MaxNLocator\n",
        "from tensorflow.keras.callbacks import EarlyStopping\n",
        "from tensorflow.keras.callbacks import Callback"
      ],
      "metadata": {
        "id": "R3iWANYuQmbG"
      },
      "execution_count": 2,
      "outputs": []
    },
    {
      "cell_type": "code",
      "source": [
        "# =============================================================================\n",
        "# Globals here\n",
        "# =============================================================================\n",
        "\n",
        "# Model parameters\n",
        "KMER_LENGTH = 5\n",
        "MAX_EPOCH_LENGTH = 100\n",
        "NUM_LSTM_LAYERS = 256\n",
        "FIRST_CONV_FILTERS = 128\n",
        "FIRST_CONV_KERNEL_SIZE = 3\n",
        "FIRST_DENSE_LAYER = 128\n",
        "SECOND_DENSE_LAYER = 64\n",
        "COST_FUNC = \"categorical_crossentropy\"\n",
        "OPTIMIZER = \"adam\"\n",
        "OUTPUT_ACTIVATION_FUNC = \"softmax\"\n",
        "HIDDEN_LAYER_ACTIVATION_FUNC = \"relu\"\n",
        "VALIDATION_PERCENT = 0.1\n",
        "BATCH_SIZE = 64\n",
        "NUM_CLASSES = -1\n",
        "CHAR_TO_INT = {}\n",
        "INT_TO_CHAR = {}"
      ],
      "metadata": {
        "id": "MOvueIu1QdKQ"
      },
      "execution_count": 3,
      "outputs": []
    },
    {
      "cell_type": "code",
      "source": [
        "# Use monospace to make formatting cleaner\n",
        "plt.rcParams.update({'font.family':'monospace'})\n",
        "\n",
        "# fix random seed for reproducibility\n",
        "np.random.seed(7)"
      ],
      "metadata": {
        "id": "oST_a7_pQx3V"
      },
      "execution_count": 4,
      "outputs": []
    },
    {
      "cell_type": "code",
      "source": [
        "# =============================================================================\n",
        "# FUNCTIONS START HERE\n",
        "# =============================================================================\n",
        "\n",
        "# =============================================================================\n",
        "def snake_case_prettify(s):\n",
        "    return \" \".join(w.capitalize() for w in s.split(\"_\"))\n",
        "\n",
        "# =============================================================================\n",
        "def plot_metric(history, title, metric):\n",
        "    metric_prettify = snake_case_prettify(metric)\n",
        "    title = \"{} on {}\".format(title, metric_prettify)\n",
        "    fig, ax = plt.subplots()\n",
        "    epoch_axis = list(range(1, MAX_EPOCH_LENGTH + 1))\n",
        "    ax.plot(epoch_axis, history[metric], label='Training')\n",
        "    ax.plot(epoch_axis, history[f\"val_{metric}\"], label='Validation')\n",
        "    ax.set_xlabel('Epochs')         # Add an x-label to the axes.\n",
        "    ax.set_ylabel(metric_prettify)  # Add a y-label to the axes.\n",
        "    ax.set_title(title)             # Add a title to the axes.\n",
        "    ax.xaxis.set_major_locator(MaxNLocator(integer=True))\n",
        "\n",
        "    ax.legend();  # Add a legend.\n",
        "    plt.show()\n",
        "\n",
        "# =============================================================================\n",
        "def generate_input_output_pairs(sequence):\n",
        "\n",
        "    # Extract all input_output pairs from all sequences\n",
        "    input_output_pairs = []\n",
        "    for seq in sequence:\n",
        "        for start in range(len(seq)-KMER_LENGTH):\n",
        "            end = start + KMER_LENGTH\n",
        "            seq_in = seq[start:end]\n",
        "            seq_out = seq[end]\n",
        "            input_output_pairs.append((seq_in, seq_out))\n",
        "\n",
        "    return input_output_pairs\n",
        "\n",
        "# =============================================================================\n",
        "def preprocess_data(dataset):\n",
        "    \"\"\"\n",
        "    Preprocesses raw dataset and returns tuple (dataX, dataY)\n",
        "    \"\"\"\n",
        "\n",
        "    # First, convert the raw strings to integers\n",
        "    input_as_lst = []\n",
        "    output_as_lst = []\n",
        "    for inp, out in dataset:\n",
        "        input_as_lst.append([CHAR_TO_INT[c] for c in inp])\n",
        "        output_as_lst.append(CHAR_TO_INT[out])\n",
        "\n",
        "    # reshape X to be [samples, time steps, features], normalize\n",
        "    dataX = np.reshape(input_as_lst, (len(input_as_lst), KMER_LENGTH, 1))\n",
        "    dataX = dataX / float(NUM_CLASSES)\n",
        "\n",
        "    # Convert output to categorical vector\n",
        "    dataY = np_utils.to_categorical(output_as_lst, num_classes=NUM_CLASSES)\n",
        "\n",
        "    return dataX, dataY\n",
        "\n",
        "# =============================================================================\n",
        "def get_sequence_predictions(model, seq, gap_char):\n",
        "\n",
        "    # Characters that already exist have a probability of 1. Until gaps are filled, their probability is 0\n",
        "    predictions_probabilities = [(c, 1 if c != gap_char else 0) for c in seq]\n",
        "\n",
        "    if not model:\n",
        "        return predictions_probabilities\n",
        "\n",
        "    for start in range(len(seq) - KMER_LENGTH):\n",
        "        end = start+KMER_LENGTH\n",
        "        # Only if we have a gap, do we need to update predictions_probabilities\n",
        "        if seq[end] == gap_char:\n",
        "            input_seq = [c for c, _ in predictions_probabilities[start:end]]\n",
        "            input_seq = np.array([CHAR_TO_INT[c] for c in input_seq])\n",
        "            input_seq = input_seq / float(NUM_CLASSES)\n",
        "            input_seq = np.reshape(input_seq, (1, KMER_LENGTH, 1))\n",
        "\n",
        "            output_arr = model.predict(input_seq).flatten()\n",
        "            highest_probability = np.amax(output_arr)\n",
        "            output_class = np.where(output_arr == highest_probability)[0][0]\n",
        "\n",
        "            # Convert the output class integer back into the predicted character\n",
        "            predicted_char = INT_TO_CHAR[output_class]\n",
        "            predictions_probabilities[end] = (predicted_char, highest_probability)\n",
        "\n",
        "    return predictions_probabilities\n",
        "\n",
        "# =============================================================================\n",
        "def predict_gaps(seq, forward_model=None, reverse_model=None, gap_char=\"-\"):\n",
        "\n",
        "    forward_preds = get_sequence_predictions(forward_model, seq, gap_char)\n",
        "    reverse_preds = get_sequence_predictions(reverse_model, seq[::-1], gap_char)\n",
        "\n",
        "    predicted_seq = \"\"\n",
        "    for ((forward_pred, forward_prob), (reverse_pred, reverse_prob)) in zip(forward_preds, reverse_preds[::-1]):\n",
        "        best_prediction = forward_pred if forward_prob >= reverse_prob else reverse_pred\n",
        "        predicted_seq += best_prediction\n",
        "\n",
        "    return predicted_seq\n",
        "\n",
        "# =============================================================================\n",
        "def get_nonmatching_indices(seq1, seq2):\n",
        "    s = set()\n",
        "    for i, (c1, c2) in enumerate(zip(seq1, seq2)):\n",
        "        if c1 != c2:\n",
        "            s.add(i)\n",
        "    return s\n",
        "\n",
        "# =============================================================================\n",
        "def highlight_indices(seq, indices, color):\n",
        "    seq = list(seq)\n",
        "    for i, char in enumerate(seq):\n",
        "        if i in indices:\n",
        "            seq[i] = colored(char, color=color, attrs=['bold'])\n",
        "\n",
        "    return functools.reduce(lambda a, b: a+b, seq)\n",
        "\n",
        "# =============================================================================\n",
        "def print_sequence(seq, header=None, incorrect_indices=None, correct_indices=None):\n",
        "\n",
        "    line_length = 40\n",
        "    group_length = 10\n",
        "\n",
        "    if header:\n",
        "        print(header)\n",
        "    print(\"=====================================================================\")\n",
        "\n",
        "    lines = [seq[begin:begin+line_length] for begin in range(0, len(seq), line_length)]\n",
        "    for line_num, line in enumerate(lines):\n",
        "\n",
        "        groups = [line[begin:begin+group_length] for begin in range(0, len(line), group_length)]\n",
        "\n",
        "        # FIXME: I hate this shit so much. Figure out a more elegant solution\n",
        "        for group_num, group in enumerate(groups):\n",
        "            start_group_index = line_num * line_length + group_num * group_length\n",
        "            group_indices = range(start_group_index, start_group_index + group_length)\n",
        "\n",
        "            if incorrect_indices:\n",
        "                fail_indices = incorrect_indices.intersection(group_indices)\n",
        "                fail_indices = set([item - start_group_index for item in fail_indices])\n",
        "                group = highlight_indices(group, fail_indices, color='red')\n",
        "\n",
        "            if correct_indices:\n",
        "                success_indices = correct_indices.intersection(group_indices)\n",
        "                success_indices = set([item - start_group_index for item in success_indices])\n",
        "                group = highlight_indices(group, success_indices, color='green')\n",
        "\n",
        "            groups[group_num] = group\n",
        "\n",
        "        print(\"\\t\".join(groups))\n",
        "\n",
        "# =============================================================================\n",
        "def get_sequences(raw_sequence):\n",
        "    sequences = [seq.split(\"\\n\") for seq in raw_sequence.split(\">\") if seq]\n",
        "    sequences = [\"\".join(parts).strip() for _, *parts in sequences]\n",
        "    return sequences\n",
        "\n",
        "# =============================================================================\n",
        "def build_model(training_seqs):\n",
        "\n",
        "    training_pairs = generate_input_output_pairs(training_seqs)\n",
        "\n",
        "    # Shuffle the training data so no bias is introduced when splitting for validation\n",
        "    np.random.shuffle(training_pairs)\n",
        "\n",
        "    # Determine indices to use to split randomized data into training/validation/test sets\n",
        "    validation_threshold = int(VALIDATION_PERCENT * len(training_pairs))\n",
        "\n",
        "    # Convert lists of lists to appropriate data structure complete with any necessary preprocessing\n",
        "    trainX, trainY = preprocess_data(training_pairs[validation_threshold:])\n",
        "    validX, validY = preprocess_data(training_pairs[:validation_threshold])\n",
        "\n",
        "    # Build model\n",
        "    inputs = keras.Input(shape=(KMER_LENGTH, 1))\n",
        "    outputs = layers.Conv1D(FIRST_CONV_FILTERS, FIRST_CONV_KERNEL_SIZE)(inputs)\n",
        "    outputs = layers.Bidirectional(layers.LSTM(NUM_LSTM_LAYERS))(outputs)\n",
        "    outputs = layers.Dense(FIRST_DENSE_LAYER, activation=HIDDEN_LAYER_ACTIVATION_FUNC)(outputs)\n",
        "    outputs = layers.Dense(SECOND_DENSE_LAYER, activation=HIDDEN_LAYER_ACTIVATION_FUNC)(outputs)\n",
        "    outputs = layers.Dense(NUM_CLASSES, activation=OUTPUT_ACTIVATION_FUNC)(outputs)\n",
        "    model = keras.Model(inputs=inputs, outputs=outputs)\n",
        "    model.compile(loss=COST_FUNC, optimizer=OPTIMIZER, metrics=['categorical_accuracy'])\n",
        "\n",
        "    history = model.fit(\n",
        "        trainX,\n",
        "        trainY,\n",
        "        epochs=MAX_EPOCH_LENGTH,\n",
        "        batch_size=BATCH_SIZE,\n",
        "        verbose=2,\n",
        "        validation_data=(validX, validY)\n",
        "    )\n",
        "    model.summary()\n",
        "    return model, history"
      ],
      "metadata": {
        "id": "s0DBGiW5GI1E"
      },
      "execution_count": 5,
      "outputs": []
    },
    {
      "cell_type": "code",
      "source": [
        "# =============================================================================\n",
        "# MAIN CODE STARTS HERE\n",
        "# =============================================================================\n",
        "\n",
        "training_sequences = get_sequences(training_sequences_raw)\n",
        "training_sequences_reversed = [item[::-1] for item in training_sequences]\n",
        "training_sequences"
      ],
      "metadata": {
        "colab": {
          "base_uri": "https://localhost:8080/"
        },
        "id": "4YCVFsHaQS4C",
        "outputId": "4e55aa8e-99f6-4305-8afb-bf1c3c10df57"
      },
      "execution_count": 6,
      "outputs": [
        {
          "output_type": "execute_result",
          "data": {
            "text/plain": [
              "['DIQMTQSPSSLSASVGDRVTITCKASQNIDKYLNWYQQKPGKAPKLLIYNTNNLQTGVPSRFSGSGSGTDFTFTISSLQPEDIATYYCLQHISRPRTFGQGTKVEIKRTVAAPSVFIFPPSDEQLKSGTASVVCLLNNFYPREAKVQWKVDNALQSGNSQESVTEQDSKDSTYSLSSTLTLSKADYEKHKVYACEVTHQGLSSPVTKSFNR',\n",
              " 'DIQMTQSPSSLSASVGDRVTITCKASQNIDKYLNWYQQKPGKAPKLLIYNTNNLQTGVPSRFSGSGSGTDFTFTISSLQPEDIATYYCLQHISRPRTFGQGTKVEIKRTVAAPSVFIFPPSDEQLKSGTASVVCLLNNFYPREAKVQWKVDNALQSGNSQESVTEQDSKDSTYSLSSTLTLSKADYEKHKVYACEVTHQGLSSPVTKSFNRGEC',\n",
              " 'MGWSCIILFLVATATGVHSDIQMTQSPSSLSASVGDRVTITCKASQNIDKYLNWYQQKPGKAPKLLIYNTNNLQTGVPSRFSGSGSGTDFTFTISSLQPEDIATYYCLQHISRPRTFGQGTKVEIKRTVAAPSVFIFPPSDEQLKSGTASVVCLLNNFYPREAKVQWKVDNALQSGNSQESVTEQDSKDSTYSLSSTLTLSKADYEKHKVYACEVTHQGLSSPVTKSFNRGEC',\n",
              " 'DIQMTQSPSSLSASVGDRVTITCQASQDISNYLNWYQQKPGKAPKLLIYDASNLETGVPSRFSGSGSGTDFTFTISSLQPEDIATYYCQQHDALPWTFGQGTKVEIKRTVAAPSVFIFPPSDEQLKSGTASVVCLLNNFYPREAKVQWKVDNALQSGNSQESVTEQDSKDSTYSLSSTLTLSKADYEKHKVYACEVTHQGLSSPVTKSFNRGEC',\n",
              " 'DIQMTQSPSSLSASVGDRVTITCRTSQSISSYLNWYQQKPGKAPKLLIYAASSLQSGVPSRFSGSGSGTDFTLTISSLQPEDFATYYCQQSYSAPRTFGQGTKVEIKRTVAAPSVFIFPPSDEQLKSGTASVVCLLNNFYPREAKVQWKVDNALQSGNSQESVTEQDSKDSTYSLSSTLTLSKADYEKHKVYACEVTHQGLSSPVTKSFNRGEC',\n",
              " 'DIQMTQSPSSLSASVGDRVTITCRTSQSISSYLNWYQQKPGKAPKLLIYAASSLQSGVPSRFSGSGSGTDFTLTISSLQPEDFATYYCQQSYSTPRTFGQGTKVEIKRTVAAPSVFIFPPSDEQLKSGTASVVCLLNNFYPREAKVQWKVDNALQSGNSQESVTEQDSKDSTYSLSSTLTLSKADYEKHKVYACEVTHQGLSSPVTKSFNRGEC',\n",
              " 'DIQMTQSPSSLSASVGDRVTITCQASQDISNYLNWYQQKPGKAPKLLIYDASNLETGVPSRFSGSGSGTDFTFTISSLQPEDIATYYCQQDAGTPLTFGQGTKVEIKRTVAAPSVFIFPPSDEQLKSGTASVVCLLNNFYPREAKVQWKVDNALQSGNSQESVTEQDSKDSTYSLSSTLTLSKADYEKHKVYACEVTHQGLSSPVTKSFNRGEC',\n",
              " 'DIQMTQSPSSLSASVGDRVTITCQASQDISNYLNWYQQKPGKAPKLLIYDASNLETGVPSRFSGSGSGTDFTFTISSLQPEDIATYYCQQAYAYPLTFGQGTKVEIKRTVAAPSVFIFPPSDEQLKSGTASVVCLLNNFYPREAKVQWKVDNALQSGNSQESVTEQDSKDSTYSLSSTLTLSKADYEKHKVYACEVTHQGLSSPVTKSFNRGEC',\n",
              " 'DIQMTQSPSSLSASVGDRVTITCQASQDINKYLNWYQQKPGKAPKLLIFDASHLETGVPSRFSASGSGTDFTFTISSLQPEDIATYYCHQYDNLPRTFGQGTRLEIKRTVAAPSVFIFPPSDEQLKSGTASVVCLLNNFYPREAKVQWKVDNALQSGNSQESVTEQDSKDSTYSLSSTLTLSKADYEKHKVYACEVTHQGLSSPVTKSFNRGEC',\n",
              " 'DIQMTQSPSSLSASVGDRVTITCRASQDIRYYLNWYQQKPGKAPKLLIYVASSLQSGVPSRFSGSGSGTEFTLTVSSLQPEDFATYYCLQVYSTPRTFGQGTKVEIKRTVAAPSVFIFPPSDEQLKSGTASVVCLLNNFYPREAKVQWKVDNALQSGNSQESVTEQDSKDSTYSLSSTLTLSKADYEKHKVYACEVTHQGLSSPVTKSFNRGEC']"
            ]
          },
          "metadata": {},
          "execution_count": 6
        }
      ]
    },
    {
      "cell_type": "code",
      "source": [
        "target_sequence = get_sequences(target_sequence_raw)[0]\n",
        "target_sequence_reversed = target_sequence[::-1]\n",
        "target_sequence"
      ],
      "metadata": {
        "colab": {
          "base_uri": "https://localhost:8080/",
          "height": 70
        },
        "id": "cnSHtwQXRoQW",
        "outputId": "9e425800-6279-4dae-e252-a0bd02a12991"
      },
      "execution_count": 7,
      "outputs": [
        {
          "output_type": "execute_result",
          "data": {
            "text/plain": [
              "'DIQMTQSPSSLSASVGDRVTITCKASQNIDKYLNWYQQKPGKAPKLLIYNTNNLQTGVPSRFSGSGSGTDFTFTISSLQPEDIATYYCLQHISRPRTFGQGTKVEIKRTVAAPSVFIFPPSDEQLKSGTASVVCLLNNFYPREAKVQWKVDNALQSGNSQESVTEQDSKDSTYSLSSTLTLSKADYEKHKVYACEVTHQGLSSPVTKSFNRGEC'"
            ],
            "application/vnd.google.colaboratory.intrinsic+json": {
              "type": "string"
            }
          },
          "metadata": {},
          "execution_count": 7
        }
      ]
    },
    {
      "cell_type": "code",
      "source": [
        "# extract all chars from all sequences to create our mappings and to determine classes\n",
        "all_chars = set(\"\".join(training_sequences) + target_sequence)\n",
        "\n",
        "# These globals must be determined at runtime\n",
        "global NUM_CLASSES, CHAR_TO_INT, INT_TO_CHAR\n",
        "NUM_CLASSES = len(all_chars)\n",
        "CHAR_TO_INT = {c: i for i, c in enumerate(all_chars)}\n",
        "INT_TO_CHAR = {v: k for k, v in CHAR_TO_INT.items()}\n",
        "NUM_CLASSES"
      ],
      "metadata": {
        "colab": {
          "base_uri": "https://localhost:8080/"
        },
        "id": "xjhoEGlURxgb",
        "outputId": "45ca28b2-4817-467f-91a2-70cd4b2341d5"
      },
      "execution_count": 8,
      "outputs": [
        {
          "output_type": "execute_result",
          "data": {
            "text/plain": [
              "20"
            ]
          },
          "metadata": {},
          "execution_count": 8
        }
      ]
    },
    {
      "cell_type": "code",
      "source": [
        "forward_model, forward_history = build_model(training_sequences)"
      ],
      "metadata": {
        "id": "PiXSBXOVVx48",
        "colab": {
          "base_uri": "https://localhost:8080/"
        },
        "outputId": "e6bd3fbe-e38d-4fe5-9f77-ecb660cdcdf7"
      },
      "execution_count": 9,
      "outputs": [
        {
          "output_type": "stream",
          "name": "stdout",
          "text": [
            "Epoch 1/100\n",
            "30/30 - 8s - loss: 2.9122 - categorical_accuracy: 0.1392 - val_loss: 2.7709 - val_categorical_accuracy: 0.1762 - 8s/epoch - 251ms/step\n",
            "Epoch 2/100\n",
            "30/30 - 1s - loss: 2.8380 - categorical_accuracy: 0.1445 - val_loss: 2.7378 - val_categorical_accuracy: 0.1762 - 1s/epoch - 35ms/step\n",
            "Epoch 3/100\n",
            "30/30 - 1s - loss: 2.8166 - categorical_accuracy: 0.1445 - val_loss: 2.7083 - val_categorical_accuracy: 0.1762 - 1s/epoch - 35ms/step\n",
            "Epoch 4/100\n",
            "30/30 - 1s - loss: 2.7944 - categorical_accuracy: 0.1445 - val_loss: 2.6995 - val_categorical_accuracy: 0.1762 - 1s/epoch - 35ms/step\n",
            "Epoch 5/100\n",
            "30/30 - 1s - loss: 2.7719 - categorical_accuracy: 0.1440 - val_loss: 2.6189 - val_categorical_accuracy: 0.1952 - 1s/epoch - 36ms/step\n",
            "Epoch 6/100\n",
            "30/30 - 1s - loss: 2.7117 - categorical_accuracy: 0.1450 - val_loss: 2.5818 - val_categorical_accuracy: 0.2476 - 1s/epoch - 36ms/step\n",
            "Epoch 7/100\n",
            "30/30 - 1s - loss: 2.6172 - categorical_accuracy: 0.1667 - val_loss: 2.5194 - val_categorical_accuracy: 0.2524 - 1s/epoch - 36ms/step\n",
            "Epoch 8/100\n",
            "30/30 - 1s - loss: 2.4610 - categorical_accuracy: 0.2046 - val_loss: 2.3832 - val_categorical_accuracy: 0.2381 - 1s/epoch - 35ms/step\n",
            "Epoch 9/100\n",
            "30/30 - 1s - loss: 2.3157 - categorical_accuracy: 0.2410 - val_loss: 2.2478 - val_categorical_accuracy: 0.2762 - 1s/epoch - 36ms/step\n",
            "Epoch 10/100\n",
            "30/30 - 1s - loss: 2.0903 - categorical_accuracy: 0.3423 - val_loss: 1.9574 - val_categorical_accuracy: 0.4095 - 1s/epoch - 35ms/step\n",
            "Epoch 11/100\n",
            "30/30 - 1s - loss: 1.8684 - categorical_accuracy: 0.4040 - val_loss: 1.8810 - val_categorical_accuracy: 0.4143 - 1s/epoch - 35ms/step\n",
            "Epoch 12/100\n",
            "30/30 - 1s - loss: 1.6127 - categorical_accuracy: 0.5169 - val_loss: 1.6526 - val_categorical_accuracy: 0.4524 - 1s/epoch - 35ms/step\n",
            "Epoch 13/100\n",
            "30/30 - 1s - loss: 1.4042 - categorical_accuracy: 0.5659 - val_loss: 1.3983 - val_categorical_accuracy: 0.5619 - 1s/epoch - 35ms/step\n",
            "Epoch 14/100\n",
            "30/30 - 1s - loss: 1.1591 - categorical_accuracy: 0.6556 - val_loss: 1.2386 - val_categorical_accuracy: 0.6286 - 1s/epoch - 35ms/step\n",
            "Epoch 15/100\n",
            "30/30 - 1s - loss: 0.9924 - categorical_accuracy: 0.7199 - val_loss: 1.0239 - val_categorical_accuracy: 0.7286 - 1s/epoch - 36ms/step\n",
            "Epoch 16/100\n",
            "30/30 - 1s - loss: 0.8311 - categorical_accuracy: 0.7811 - val_loss: 0.8885 - val_categorical_accuracy: 0.8000 - 1s/epoch - 35ms/step\n",
            "Epoch 17/100\n",
            "30/30 - 1s - loss: 0.6841 - categorical_accuracy: 0.8333 - val_loss: 0.7656 - val_categorical_accuracy: 0.8238 - 1s/epoch - 35ms/step\n",
            "Epoch 18/100\n",
            "30/30 - 1s - loss: 0.5628 - categorical_accuracy: 0.8692 - val_loss: 0.7282 - val_categorical_accuracy: 0.8667 - 1s/epoch - 35ms/step\n",
            "Epoch 19/100\n",
            "30/30 - 1s - loss: 0.4925 - categorical_accuracy: 0.8840 - val_loss: 0.6382 - val_categorical_accuracy: 0.8905 - 1s/epoch - 35ms/step\n",
            "Epoch 20/100\n",
            "30/30 - 1s - loss: 0.4340 - categorical_accuracy: 0.9014 - val_loss: 0.6091 - val_categorical_accuracy: 0.8905 - 1s/epoch - 36ms/step\n",
            "Epoch 21/100\n",
            "30/30 - 1s - loss: 0.3991 - categorical_accuracy: 0.9051 - val_loss: 0.6134 - val_categorical_accuracy: 0.8905 - 1s/epoch - 35ms/step\n",
            "Epoch 22/100\n",
            "30/30 - 1s - loss: 0.3485 - categorical_accuracy: 0.9219 - val_loss: 0.5522 - val_categorical_accuracy: 0.9143 - 1s/epoch - 36ms/step\n",
            "Epoch 23/100\n",
            "30/30 - 1s - loss: 0.2855 - categorical_accuracy: 0.9341 - val_loss: 0.5359 - val_categorical_accuracy: 0.9190 - 1s/epoch - 37ms/step\n",
            "Epoch 24/100\n",
            "30/30 - 1s - loss: 0.2497 - categorical_accuracy: 0.9441 - val_loss: 0.5477 - val_categorical_accuracy: 0.9000 - 1s/epoch - 37ms/step\n",
            "Epoch 25/100\n",
            "30/30 - 1s - loss: 0.2310 - categorical_accuracy: 0.9483 - val_loss: 0.5554 - val_categorical_accuracy: 0.9143 - 1s/epoch - 36ms/step\n",
            "Epoch 26/100\n",
            "30/30 - 1s - loss: 0.2139 - categorical_accuracy: 0.9499 - val_loss: 0.5184 - val_categorical_accuracy: 0.9095 - 1s/epoch - 36ms/step\n",
            "Epoch 27/100\n",
            "30/30 - 1s - loss: 0.1989 - categorical_accuracy: 0.9525 - val_loss: 0.5283 - val_categorical_accuracy: 0.9190 - 1s/epoch - 35ms/step\n",
            "Epoch 28/100\n",
            "30/30 - 1s - loss: 0.1826 - categorical_accuracy: 0.9568 - val_loss: 0.5437 - val_categorical_accuracy: 0.9238 - 1s/epoch - 35ms/step\n",
            "Epoch 29/100\n",
            "30/30 - 1s - loss: 0.1609 - categorical_accuracy: 0.9604 - val_loss: 0.5194 - val_categorical_accuracy: 0.9238 - 1s/epoch - 35ms/step\n",
            "Epoch 30/100\n",
            "30/30 - 1s - loss: 0.1493 - categorical_accuracy: 0.9615 - val_loss: 0.5055 - val_categorical_accuracy: 0.9190 - 1s/epoch - 36ms/step\n",
            "Epoch 31/100\n",
            "30/30 - 1s - loss: 0.1426 - categorical_accuracy: 0.9615 - val_loss: 0.5389 - val_categorical_accuracy: 0.9143 - 1s/epoch - 35ms/step\n",
            "Epoch 32/100\n",
            "30/30 - 1s - loss: 0.1324 - categorical_accuracy: 0.9684 - val_loss: 0.5022 - val_categorical_accuracy: 0.9286 - 1s/epoch - 36ms/step\n",
            "Epoch 33/100\n",
            "30/30 - 1s - loss: 0.1392 - categorical_accuracy: 0.9631 - val_loss: 0.5572 - val_categorical_accuracy: 0.9095 - 1s/epoch - 36ms/step\n",
            "Epoch 34/100\n",
            "30/30 - 1s - loss: 0.1414 - categorical_accuracy: 0.9647 - val_loss: 0.6728 - val_categorical_accuracy: 0.8905 - 1s/epoch - 37ms/step\n",
            "Epoch 35/100\n",
            "30/30 - 1s - loss: 0.2071 - categorical_accuracy: 0.9404 - val_loss: 0.6091 - val_categorical_accuracy: 0.8905 - 1s/epoch - 36ms/step\n",
            "Epoch 36/100\n",
            "30/30 - 1s - loss: 0.1298 - categorical_accuracy: 0.9647 - val_loss: 0.5621 - val_categorical_accuracy: 0.9190 - 1s/epoch - 35ms/step\n",
            "Epoch 37/100\n",
            "30/30 - 1s - loss: 0.0980 - categorical_accuracy: 0.9747 - val_loss: 0.5566 - val_categorical_accuracy: 0.9286 - 1s/epoch - 35ms/step\n",
            "Epoch 38/100\n",
            "30/30 - 1s - loss: 0.0974 - categorical_accuracy: 0.9720 - val_loss: 0.5461 - val_categorical_accuracy: 0.9238 - 1s/epoch - 36ms/step\n",
            "Epoch 39/100\n",
            "30/30 - 1s - loss: 0.0965 - categorical_accuracy: 0.9720 - val_loss: 0.5418 - val_categorical_accuracy: 0.9238 - 1s/epoch - 37ms/step\n",
            "Epoch 40/100\n",
            "30/30 - 2s - loss: 0.0938 - categorical_accuracy: 0.9720 - val_loss: 0.5385 - val_categorical_accuracy: 0.9238 - 2s/epoch - 59ms/step\n",
            "Epoch 41/100\n",
            "30/30 - 2s - loss: 0.0946 - categorical_accuracy: 0.9720 - val_loss: 0.5533 - val_categorical_accuracy: 0.9286 - 2s/epoch - 51ms/step\n",
            "Epoch 42/100\n",
            "30/30 - 2s - loss: 0.0920 - categorical_accuracy: 0.9757 - val_loss: 0.5464 - val_categorical_accuracy: 0.9190 - 2s/epoch - 59ms/step\n",
            "Epoch 43/100\n",
            "30/30 - 2s - loss: 0.0834 - categorical_accuracy: 0.9768 - val_loss: 0.5483 - val_categorical_accuracy: 0.9190 - 2s/epoch - 53ms/step\n",
            "Epoch 44/100\n",
            "30/30 - 1s - loss: 0.0749 - categorical_accuracy: 0.9757 - val_loss: 0.5846 - val_categorical_accuracy: 0.9143 - 1s/epoch - 35ms/step\n",
            "Epoch 45/100\n",
            "30/30 - 1s - loss: 0.0762 - categorical_accuracy: 0.9757 - val_loss: 0.5823 - val_categorical_accuracy: 0.9190 - 1s/epoch - 36ms/step\n",
            "Epoch 46/100\n",
            "30/30 - 1s - loss: 0.0809 - categorical_accuracy: 0.9768 - val_loss: 0.5527 - val_categorical_accuracy: 0.9286 - 1s/epoch - 36ms/step\n",
            "Epoch 47/100\n",
            "30/30 - 1s - loss: 0.0777 - categorical_accuracy: 0.9773 - val_loss: 0.5742 - val_categorical_accuracy: 0.9286 - 1s/epoch - 36ms/step\n",
            "Epoch 48/100\n",
            "30/30 - 1s - loss: 0.0772 - categorical_accuracy: 0.9773 - val_loss: 0.5845 - val_categorical_accuracy: 0.9286 - 1s/epoch - 36ms/step\n",
            "Epoch 49/100\n",
            "30/30 - 1s - loss: 0.0759 - categorical_accuracy: 0.9778 - val_loss: 0.5839 - val_categorical_accuracy: 0.9238 - 1s/epoch - 36ms/step\n",
            "Epoch 50/100\n",
            "30/30 - 1s - loss: 0.0797 - categorical_accuracy: 0.9752 - val_loss: 0.5914 - val_categorical_accuracy: 0.9190 - 1s/epoch - 37ms/step\n",
            "Epoch 51/100\n",
            "30/30 - 1s - loss: 0.0785 - categorical_accuracy: 0.9747 - val_loss: 0.5728 - val_categorical_accuracy: 0.9238 - 1s/epoch - 37ms/step\n",
            "Epoch 52/100\n",
            "30/30 - 1s - loss: 0.0752 - categorical_accuracy: 0.9752 - val_loss: 0.5757 - val_categorical_accuracy: 0.9238 - 1s/epoch - 37ms/step\n",
            "Epoch 53/100\n",
            "30/30 - 1s - loss: 0.0688 - categorical_accuracy: 0.9773 - val_loss: 0.6202 - val_categorical_accuracy: 0.9190 - 1s/epoch - 46ms/step\n",
            "Epoch 54/100\n",
            "30/30 - 2s - loss: 0.0725 - categorical_accuracy: 0.9778 - val_loss: 0.6026 - val_categorical_accuracy: 0.9238 - 2s/epoch - 70ms/step\n",
            "Epoch 55/100\n",
            "30/30 - 1s - loss: 0.0751 - categorical_accuracy: 0.9763 - val_loss: 0.5976 - val_categorical_accuracy: 0.9190 - 1s/epoch - 36ms/step\n",
            "Epoch 56/100\n",
            "30/30 - 1s - loss: 0.0706 - categorical_accuracy: 0.9768 - val_loss: 0.5803 - val_categorical_accuracy: 0.9286 - 1s/epoch - 36ms/step\n",
            "Epoch 57/100\n",
            "30/30 - 1s - loss: 0.0933 - categorical_accuracy: 0.9710 - val_loss: 0.6750 - val_categorical_accuracy: 0.8952 - 1s/epoch - 37ms/step\n",
            "Epoch 58/100\n",
            "30/30 - 1s - loss: 0.1622 - categorical_accuracy: 0.9594 - val_loss: 0.5988 - val_categorical_accuracy: 0.9190 - 1s/epoch - 36ms/step\n",
            "Epoch 59/100\n",
            "30/30 - 1s - loss: 0.1284 - categorical_accuracy: 0.9631 - val_loss: 0.5248 - val_categorical_accuracy: 0.9286 - 1s/epoch - 37ms/step\n",
            "Epoch 60/100\n",
            "30/30 - 1s - loss: 0.1145 - categorical_accuracy: 0.9673 - val_loss: 0.5213 - val_categorical_accuracy: 0.9095 - 1s/epoch - 36ms/step\n",
            "Epoch 61/100\n",
            "30/30 - 1s - loss: 0.0866 - categorical_accuracy: 0.9736 - val_loss: 0.5556 - val_categorical_accuracy: 0.9238 - 1s/epoch - 36ms/step\n",
            "Epoch 62/100\n",
            "30/30 - 1s - loss: 0.0722 - categorical_accuracy: 0.9794 - val_loss: 0.5482 - val_categorical_accuracy: 0.9238 - 1s/epoch - 44ms/step\n",
            "Epoch 63/100\n",
            "30/30 - 2s - loss: 0.0714 - categorical_accuracy: 0.9805 - val_loss: 0.5880 - val_categorical_accuracy: 0.9190 - 2s/epoch - 54ms/step\n",
            "Epoch 64/100\n",
            "30/30 - 2s - loss: 0.0655 - categorical_accuracy: 0.9800 - val_loss: 0.5850 - val_categorical_accuracy: 0.9238 - 2s/epoch - 58ms/step\n",
            "Epoch 65/100\n",
            "30/30 - 1s - loss: 0.0617 - categorical_accuracy: 0.9752 - val_loss: 0.5302 - val_categorical_accuracy: 0.9333 - 1s/epoch - 37ms/step\n",
            "Epoch 66/100\n",
            "30/30 - 2s - loss: 0.0576 - categorical_accuracy: 0.9815 - val_loss: 0.5631 - val_categorical_accuracy: 0.9238 - 2s/epoch - 52ms/step\n",
            "Epoch 67/100\n",
            "30/30 - 2s - loss: 0.0606 - categorical_accuracy: 0.9784 - val_loss: 0.6165 - val_categorical_accuracy: 0.9190 - 2s/epoch - 53ms/step\n",
            "Epoch 68/100\n",
            "30/30 - 1s - loss: 0.0641 - categorical_accuracy: 0.9789 - val_loss: 0.5840 - val_categorical_accuracy: 0.9095 - 1s/epoch - 38ms/step\n",
            "Epoch 69/100\n",
            "30/30 - 1s - loss: 0.0621 - categorical_accuracy: 0.9778 - val_loss: 0.6223 - val_categorical_accuracy: 0.9143 - 1s/epoch - 43ms/step\n",
            "Epoch 70/100\n",
            "30/30 - 2s - loss: 0.0632 - categorical_accuracy: 0.9805 - val_loss: 0.5855 - val_categorical_accuracy: 0.9190 - 2s/epoch - 51ms/step\n",
            "Epoch 71/100\n",
            "30/30 - 1s - loss: 0.0549 - categorical_accuracy: 0.9784 - val_loss: 0.5914 - val_categorical_accuracy: 0.9238 - 1s/epoch - 46ms/step\n",
            "Epoch 72/100\n",
            "30/30 - 1s - loss: 0.0566 - categorical_accuracy: 0.9800 - val_loss: 0.5745 - val_categorical_accuracy: 0.9238 - 1s/epoch - 40ms/step\n",
            "Epoch 73/100\n",
            "30/30 - 2s - loss: 0.0560 - categorical_accuracy: 0.9821 - val_loss: 0.6187 - val_categorical_accuracy: 0.9190 - 2s/epoch - 53ms/step\n",
            "Epoch 74/100\n",
            "30/30 - 1s - loss: 0.0550 - categorical_accuracy: 0.9794 - val_loss: 0.5920 - val_categorical_accuracy: 0.9238 - 1s/epoch - 47ms/step\n",
            "Epoch 75/100\n",
            "30/30 - 1s - loss: 0.0582 - categorical_accuracy: 0.9784 - val_loss: 0.5722 - val_categorical_accuracy: 0.9333 - 1s/epoch - 39ms/step\n",
            "Epoch 76/100\n",
            "30/30 - 1s - loss: 0.0583 - categorical_accuracy: 0.9800 - val_loss: 0.5738 - val_categorical_accuracy: 0.9333 - 1s/epoch - 35ms/step\n",
            "Epoch 77/100\n",
            "30/30 - 1s - loss: 0.0587 - categorical_accuracy: 0.9800 - val_loss: 0.6126 - val_categorical_accuracy: 0.9190 - 1s/epoch - 35ms/step\n",
            "Epoch 78/100\n",
            "30/30 - 1s - loss: 0.0563 - categorical_accuracy: 0.9805 - val_loss: 0.5858 - val_categorical_accuracy: 0.9333 - 1s/epoch - 36ms/step\n",
            "Epoch 79/100\n",
            "30/30 - 1s - loss: 0.0556 - categorical_accuracy: 0.9826 - val_loss: 0.5913 - val_categorical_accuracy: 0.9286 - 1s/epoch - 36ms/step\n",
            "Epoch 80/100\n",
            "30/30 - 1s - loss: 0.0623 - categorical_accuracy: 0.9800 - val_loss: 0.6302 - val_categorical_accuracy: 0.9190 - 1s/epoch - 36ms/step\n",
            "Epoch 81/100\n",
            "30/30 - 1s - loss: 0.0587 - categorical_accuracy: 0.9778 - val_loss: 0.6002 - val_categorical_accuracy: 0.9286 - 1s/epoch - 40ms/step\n",
            "Epoch 82/100\n",
            "30/30 - 1s - loss: 0.0615 - categorical_accuracy: 0.9768 - val_loss: 0.5917 - val_categorical_accuracy: 0.9286 - 1s/epoch - 36ms/step\n",
            "Epoch 83/100\n",
            "30/30 - 1s - loss: 0.0577 - categorical_accuracy: 0.9784 - val_loss: 0.6094 - val_categorical_accuracy: 0.9286 - 1s/epoch - 36ms/step\n",
            "Epoch 84/100\n",
            "30/30 - 1s - loss: 0.0521 - categorical_accuracy: 0.9815 - val_loss: 0.5846 - val_categorical_accuracy: 0.9286 - 1s/epoch - 35ms/step\n",
            "Epoch 85/100\n",
            "30/30 - 1s - loss: 0.0545 - categorical_accuracy: 0.9810 - val_loss: 0.5931 - val_categorical_accuracy: 0.9381 - 1s/epoch - 35ms/step\n",
            "Epoch 86/100\n",
            "30/30 - 1s - loss: 0.0546 - categorical_accuracy: 0.9784 - val_loss: 0.6263 - val_categorical_accuracy: 0.9238 - 1s/epoch - 35ms/step\n",
            "Epoch 87/100\n",
            "30/30 - 1s - loss: 0.0579 - categorical_accuracy: 0.9778 - val_loss: 0.6100 - val_categorical_accuracy: 0.9190 - 1s/epoch - 35ms/step\n",
            "Epoch 88/100\n",
            "30/30 - 2s - loss: 0.0509 - categorical_accuracy: 0.9800 - val_loss: 0.6690 - val_categorical_accuracy: 0.9238 - 2s/epoch - 51ms/step\n",
            "Epoch 89/100\n",
            "30/30 - 1s - loss: 0.0668 - categorical_accuracy: 0.9773 - val_loss: 0.6206 - val_categorical_accuracy: 0.9286 - 1s/epoch - 47ms/step\n",
            "Epoch 90/100\n",
            "30/30 - 2s - loss: 0.0566 - categorical_accuracy: 0.9789 - val_loss: 0.5743 - val_categorical_accuracy: 0.9238 - 2s/epoch - 72ms/step\n",
            "Epoch 91/100\n",
            "30/30 - 2s - loss: 0.0567 - categorical_accuracy: 0.9794 - val_loss: 0.6170 - val_categorical_accuracy: 0.9238 - 2s/epoch - 68ms/step\n",
            "Epoch 92/100\n",
            "30/30 - 2s - loss: 0.0526 - categorical_accuracy: 0.9789 - val_loss: 0.5769 - val_categorical_accuracy: 0.9238 - 2s/epoch - 60ms/step\n",
            "Epoch 93/100\n",
            "30/30 - 1s - loss: 0.0523 - categorical_accuracy: 0.9805 - val_loss: 0.6008 - val_categorical_accuracy: 0.9190 - 1s/epoch - 36ms/step\n",
            "Epoch 94/100\n",
            "30/30 - 1s - loss: 0.0520 - categorical_accuracy: 0.9821 - val_loss: 0.6045 - val_categorical_accuracy: 0.9190 - 1s/epoch - 36ms/step\n",
            "Epoch 95/100\n",
            "30/30 - 1s - loss: 0.0636 - categorical_accuracy: 0.9789 - val_loss: 0.5895 - val_categorical_accuracy: 0.9238 - 1s/epoch - 35ms/step\n",
            "Epoch 96/100\n",
            "30/30 - 1s - loss: 0.0710 - categorical_accuracy: 0.9778 - val_loss: 0.6289 - val_categorical_accuracy: 0.9190 - 1s/epoch - 36ms/step\n",
            "Epoch 97/100\n",
            "30/30 - 1s - loss: 0.0832 - categorical_accuracy: 0.9742 - val_loss: 0.6206 - val_categorical_accuracy: 0.9286 - 1s/epoch - 35ms/step\n",
            "Epoch 98/100\n",
            "30/30 - 1s - loss: 0.0779 - categorical_accuracy: 0.9705 - val_loss: 0.6009 - val_categorical_accuracy: 0.9143 - 1s/epoch - 36ms/step\n",
            "Epoch 99/100\n",
            "30/30 - 2s - loss: 0.1473 - categorical_accuracy: 0.9531 - val_loss: 0.6669 - val_categorical_accuracy: 0.9095 - 2s/epoch - 50ms/step\n",
            "Epoch 100/100\n",
            "30/30 - 2s - loss: 0.1409 - categorical_accuracy: 0.9589 - val_loss: 0.6145 - val_categorical_accuracy: 0.9190 - 2s/epoch - 61ms/step\n",
            "Model: \"model\"\n",
            "_________________________________________________________________\n",
            " Layer (type)                Output Shape              Param #   \n",
            "=================================================================\n",
            " input_1 (InputLayer)        [(None, 5, 1)]            0         \n",
            "                                                                 \n",
            " conv1d (Conv1D)             (None, 3, 128)            512       \n",
            "                                                                 \n",
            " bidirectional (Bidirectiona  (None, 512)              788480    \n",
            " l)                                                              \n",
            "                                                                 \n",
            " dense (Dense)               (None, 128)               65664     \n",
            "                                                                 \n",
            " dense_1 (Dense)             (None, 64)                8256      \n",
            "                                                                 \n",
            " dense_2 (Dense)             (None, 20)                1300      \n",
            "                                                                 \n",
            "=================================================================\n",
            "Total params: 864,212\n",
            "Trainable params: 864,212\n",
            "Non-trainable params: 0\n",
            "_________________________________________________________________\n"
          ]
        }
      ]
    },
    {
      "cell_type": "code",
      "source": [
        "reverse_model, reverse_history = build_model(training_sequences_reversed)"
      ],
      "metadata": {
        "colab": {
          "base_uri": "https://localhost:8080/"
        },
        "id": "2aU1pi5fR3Iq",
        "outputId": "f95b7a59-1a07-4568-af80-02147ff25b67"
      },
      "execution_count": 10,
      "outputs": [
        {
          "output_type": "stream",
          "name": "stdout",
          "text": [
            "Epoch 1/100\n",
            "30/30 - 5s - loss: 2.9008 - categorical_accuracy: 0.1503 - val_loss: 2.8747 - val_categorical_accuracy: 0.0952 - 5s/epoch - 181ms/step\n",
            "Epoch 2/100\n",
            "30/30 - 1s - loss: 2.8200 - categorical_accuracy: 0.1487 - val_loss: 2.8393 - val_categorical_accuracy: 0.0952 - 1s/epoch - 37ms/step\n",
            "Epoch 3/100\n",
            "30/30 - 1s - loss: 2.7926 - categorical_accuracy: 0.1551 - val_loss: 2.8080 - val_categorical_accuracy: 0.0952 - 1s/epoch - 36ms/step\n",
            "Epoch 4/100\n",
            "30/30 - 1s - loss: 2.7584 - categorical_accuracy: 0.1577 - val_loss: 2.7680 - val_categorical_accuracy: 0.1048 - 1s/epoch - 36ms/step\n",
            "Epoch 5/100\n",
            "30/30 - 1s - loss: 2.7129 - categorical_accuracy: 0.1693 - val_loss: 2.7284 - val_categorical_accuracy: 0.1000 - 1s/epoch - 36ms/step\n",
            "Epoch 6/100\n",
            "30/30 - 1s - loss: 2.6265 - categorical_accuracy: 0.1714 - val_loss: 2.6639 - val_categorical_accuracy: 0.1429 - 1s/epoch - 36ms/step\n",
            "Epoch 7/100\n",
            "30/30 - 1s - loss: 2.5348 - categorical_accuracy: 0.1988 - val_loss: 2.5595 - val_categorical_accuracy: 0.1810 - 1s/epoch - 36ms/step\n",
            "Epoch 8/100\n",
            "30/30 - 1s - loss: 2.3842 - categorical_accuracy: 0.2220 - val_loss: 2.4179 - val_categorical_accuracy: 0.2476 - 1s/epoch - 37ms/step\n",
            "Epoch 9/100\n",
            "30/30 - 1s - loss: 2.2214 - categorical_accuracy: 0.2864 - val_loss: 2.2095 - val_categorical_accuracy: 0.3000 - 1s/epoch - 36ms/step\n",
            "Epoch 10/100\n",
            "30/30 - 1s - loss: 1.9326 - categorical_accuracy: 0.3935 - val_loss: 1.9574 - val_categorical_accuracy: 0.4476 - 1s/epoch - 36ms/step\n",
            "Epoch 11/100\n",
            "30/30 - 1s - loss: 1.6628 - categorical_accuracy: 0.5063 - val_loss: 1.6526 - val_categorical_accuracy: 0.5381 - 1s/epoch - 36ms/step\n",
            "Epoch 12/100\n",
            "30/30 - 1s - loss: 1.3665 - categorical_accuracy: 0.6245 - val_loss: 1.3912 - val_categorical_accuracy: 0.6476 - 1s/epoch - 37ms/step\n",
            "Epoch 13/100\n",
            "30/30 - 1s - loss: 1.1786 - categorical_accuracy: 0.6862 - val_loss: 1.2570 - val_categorical_accuracy: 0.6762 - 1s/epoch - 36ms/step\n",
            "Epoch 14/100\n",
            "30/30 - 1s - loss: 0.8982 - categorical_accuracy: 0.7785 - val_loss: 0.9462 - val_categorical_accuracy: 0.7619 - 1s/epoch - 36ms/step\n",
            "Epoch 15/100\n",
            "30/30 - 1s - loss: 0.7350 - categorical_accuracy: 0.8307 - val_loss: 0.8804 - val_categorical_accuracy: 0.8143 - 1s/epoch - 36ms/step\n",
            "Epoch 16/100\n",
            "30/30 - 1s - loss: 0.5929 - categorical_accuracy: 0.8634 - val_loss: 0.8175 - val_categorical_accuracy: 0.8143 - 1s/epoch - 37ms/step\n",
            "Epoch 17/100\n",
            "30/30 - 1s - loss: 0.4979 - categorical_accuracy: 0.8877 - val_loss: 0.6763 - val_categorical_accuracy: 0.8667 - 1s/epoch - 36ms/step\n",
            "Epoch 18/100\n",
            "30/30 - 1s - loss: 0.4116 - categorical_accuracy: 0.9072 - val_loss: 0.6660 - val_categorical_accuracy: 0.8667 - 1s/epoch - 37ms/step\n",
            "Epoch 19/100\n",
            "30/30 - 1s - loss: 0.3706 - categorical_accuracy: 0.9146 - val_loss: 0.6174 - val_categorical_accuracy: 0.8762 - 1s/epoch - 38ms/step\n",
            "Epoch 20/100\n",
            "30/30 - 1s - loss: 0.3045 - categorical_accuracy: 0.9288 - val_loss: 0.5901 - val_categorical_accuracy: 0.8762 - 1s/epoch - 37ms/step\n",
            "Epoch 21/100\n",
            "30/30 - 1s - loss: 0.2814 - categorical_accuracy: 0.9320 - val_loss: 0.6051 - val_categorical_accuracy: 0.8952 - 1s/epoch - 38ms/step\n",
            "Epoch 22/100\n",
            "30/30 - 1s - loss: 0.2500 - categorical_accuracy: 0.9430 - val_loss: 0.5465 - val_categorical_accuracy: 0.8857 - 1s/epoch - 36ms/step\n",
            "Epoch 23/100\n",
            "30/30 - 1s - loss: 0.2098 - categorical_accuracy: 0.9499 - val_loss: 0.5791 - val_categorical_accuracy: 0.8905 - 1s/epoch - 37ms/step\n",
            "Epoch 24/100\n",
            "30/30 - 1s - loss: 0.2085 - categorical_accuracy: 0.9515 - val_loss: 0.5391 - val_categorical_accuracy: 0.8857 - 1s/epoch - 37ms/step\n",
            "Epoch 25/100\n",
            "30/30 - 1s - loss: 0.1692 - categorical_accuracy: 0.9589 - val_loss: 0.5196 - val_categorical_accuracy: 0.9000 - 1s/epoch - 36ms/step\n",
            "Epoch 26/100\n",
            "30/30 - 1s - loss: 0.1417 - categorical_accuracy: 0.9636 - val_loss: 0.5401 - val_categorical_accuracy: 0.8952 - 1s/epoch - 36ms/step\n",
            "Epoch 27/100\n",
            "30/30 - 1s - loss: 0.1387 - categorical_accuracy: 0.9668 - val_loss: 0.4910 - val_categorical_accuracy: 0.9000 - 1s/epoch - 37ms/step\n",
            "Epoch 28/100\n",
            "30/30 - 1s - loss: 0.1530 - categorical_accuracy: 0.9552 - val_loss: 0.5610 - val_categorical_accuracy: 0.8952 - 1s/epoch - 37ms/step\n",
            "Epoch 29/100\n",
            "30/30 - 1s - loss: 0.1260 - categorical_accuracy: 0.9684 - val_loss: 0.5155 - val_categorical_accuracy: 0.9048 - 1s/epoch - 36ms/step\n",
            "Epoch 30/100\n",
            "30/30 - 1s - loss: 0.1136 - categorical_accuracy: 0.9699 - val_loss: 0.5373 - val_categorical_accuracy: 0.9048 - 1s/epoch - 36ms/step\n",
            "Epoch 31/100\n",
            "30/30 - 1s - loss: 0.1101 - categorical_accuracy: 0.9720 - val_loss: 0.5292 - val_categorical_accuracy: 0.9048 - 1s/epoch - 38ms/step\n",
            "Epoch 32/100\n",
            "30/30 - 1s - loss: 0.1016 - categorical_accuracy: 0.9736 - val_loss: 0.5210 - val_categorical_accuracy: 0.9000 - 1s/epoch - 36ms/step\n",
            "Epoch 33/100\n",
            "30/30 - 1s - loss: 0.0997 - categorical_accuracy: 0.9689 - val_loss: 0.5363 - val_categorical_accuracy: 0.9048 - 1s/epoch - 36ms/step\n",
            "Epoch 34/100\n",
            "30/30 - 1s - loss: 0.0938 - categorical_accuracy: 0.9773 - val_loss: 0.5846 - val_categorical_accuracy: 0.9048 - 1s/epoch - 36ms/step\n",
            "Epoch 35/100\n",
            "30/30 - 1s - loss: 0.0910 - categorical_accuracy: 0.9757 - val_loss: 0.5655 - val_categorical_accuracy: 0.9095 - 1s/epoch - 36ms/step\n",
            "Epoch 36/100\n",
            "30/30 - 1s - loss: 0.0988 - categorical_accuracy: 0.9736 - val_loss: 0.5448 - val_categorical_accuracy: 0.9048 - 1s/epoch - 35ms/step\n",
            "Epoch 37/100\n",
            "30/30 - 1s - loss: 0.0810 - categorical_accuracy: 0.9768 - val_loss: 0.6516 - val_categorical_accuracy: 0.9048 - 1s/epoch - 36ms/step\n",
            "Epoch 38/100\n",
            "30/30 - 1s - loss: 0.0800 - categorical_accuracy: 0.9773 - val_loss: 0.5616 - val_categorical_accuracy: 0.9095 - 1s/epoch - 36ms/step\n",
            "Epoch 39/100\n",
            "30/30 - 1s - loss: 0.0721 - categorical_accuracy: 0.9836 - val_loss: 0.5538 - val_categorical_accuracy: 0.9048 - 1s/epoch - 35ms/step\n",
            "Epoch 40/100\n",
            "30/30 - 1s - loss: 0.0773 - categorical_accuracy: 0.9747 - val_loss: 0.5842 - val_categorical_accuracy: 0.9000 - 1s/epoch - 37ms/step\n",
            "Epoch 41/100\n",
            "30/30 - 1s - loss: 0.0811 - categorical_accuracy: 0.9757 - val_loss: 0.5739 - val_categorical_accuracy: 0.9190 - 1s/epoch - 37ms/step\n",
            "Epoch 42/100\n",
            "30/30 - 1s - loss: 0.0707 - categorical_accuracy: 0.9815 - val_loss: 0.6230 - val_categorical_accuracy: 0.8952 - 1s/epoch - 36ms/step\n",
            "Epoch 43/100\n",
            "30/30 - 1s - loss: 0.0736 - categorical_accuracy: 0.9778 - val_loss: 0.5560 - val_categorical_accuracy: 0.9095 - 1s/epoch - 37ms/step\n",
            "Epoch 44/100\n",
            "30/30 - 1s - loss: 0.0718 - categorical_accuracy: 0.9810 - val_loss: 0.6160 - val_categorical_accuracy: 0.9048 - 1s/epoch - 36ms/step\n",
            "Epoch 45/100\n",
            "30/30 - 1s - loss: 0.0786 - categorical_accuracy: 0.9768 - val_loss: 0.5781 - val_categorical_accuracy: 0.9000 - 1s/epoch - 37ms/step\n",
            "Epoch 46/100\n",
            "30/30 - 1s - loss: 0.0818 - categorical_accuracy: 0.9731 - val_loss: 0.6028 - val_categorical_accuracy: 0.9000 - 1s/epoch - 36ms/step\n",
            "Epoch 47/100\n",
            "30/30 - 1s - loss: 0.0924 - categorical_accuracy: 0.9736 - val_loss: 0.5783 - val_categorical_accuracy: 0.9095 - 1s/epoch - 35ms/step\n",
            "Epoch 48/100\n",
            "30/30 - 1s - loss: 0.0758 - categorical_accuracy: 0.9752 - val_loss: 0.5790 - val_categorical_accuracy: 0.9095 - 1s/epoch - 35ms/step\n",
            "Epoch 49/100\n",
            "30/30 - 1s - loss: 0.0925 - categorical_accuracy: 0.9731 - val_loss: 0.5667 - val_categorical_accuracy: 0.9048 - 1s/epoch - 36ms/step\n",
            "Epoch 50/100\n",
            "30/30 - 1s - loss: 0.1396 - categorical_accuracy: 0.9578 - val_loss: 0.6889 - val_categorical_accuracy: 0.8619 - 1s/epoch - 35ms/step\n",
            "Epoch 51/100\n",
            "30/30 - 1s - loss: 0.1450 - categorical_accuracy: 0.9525 - val_loss: 0.5669 - val_categorical_accuracy: 0.8905 - 1s/epoch - 36ms/step\n",
            "Epoch 52/100\n",
            "30/30 - 1s - loss: 0.0953 - categorical_accuracy: 0.9694 - val_loss: 0.6677 - val_categorical_accuracy: 0.8952 - 1s/epoch - 36ms/step\n",
            "Epoch 53/100\n",
            "30/30 - 1s - loss: 0.0756 - categorical_accuracy: 0.9794 - val_loss: 0.5754 - val_categorical_accuracy: 0.9190 - 1s/epoch - 37ms/step\n",
            "Epoch 54/100\n",
            "30/30 - 1s - loss: 0.0619 - categorical_accuracy: 0.9773 - val_loss: 0.5925 - val_categorical_accuracy: 0.9095 - 1s/epoch - 36ms/step\n",
            "Epoch 55/100\n",
            "30/30 - 1s - loss: 0.0599 - categorical_accuracy: 0.9800 - val_loss: 0.5773 - val_categorical_accuracy: 0.9048 - 1s/epoch - 37ms/step\n",
            "Epoch 56/100\n",
            "30/30 - 1s - loss: 0.0598 - categorical_accuracy: 0.9842 - val_loss: 0.6716 - val_categorical_accuracy: 0.8952 - 1s/epoch - 36ms/step\n",
            "Epoch 57/100\n",
            "30/30 - 1s - loss: 0.0677 - categorical_accuracy: 0.9773 - val_loss: 0.6280 - val_categorical_accuracy: 0.9143 - 1s/epoch - 37ms/step\n",
            "Epoch 58/100\n",
            "30/30 - 1s - loss: 0.0555 - categorical_accuracy: 0.9810 - val_loss: 0.6419 - val_categorical_accuracy: 0.9095 - 1s/epoch - 36ms/step\n",
            "Epoch 59/100\n",
            "30/30 - 1s - loss: 0.0634 - categorical_accuracy: 0.9810 - val_loss: 0.5803 - val_categorical_accuracy: 0.9143 - 1s/epoch - 37ms/step\n",
            "Epoch 60/100\n",
            "30/30 - 1s - loss: 0.0646 - categorical_accuracy: 0.9768 - val_loss: 0.5847 - val_categorical_accuracy: 0.9048 - 1s/epoch - 36ms/step\n",
            "Epoch 61/100\n",
            "30/30 - 1s - loss: 0.0629 - categorical_accuracy: 0.9800 - val_loss: 0.5976 - val_categorical_accuracy: 0.9143 - 1s/epoch - 35ms/step\n",
            "Epoch 62/100\n",
            "30/30 - 1s - loss: 0.0569 - categorical_accuracy: 0.9789 - val_loss: 0.6035 - val_categorical_accuracy: 0.9048 - 1s/epoch - 36ms/step\n",
            "Epoch 63/100\n",
            "30/30 - 1s - loss: 0.0531 - categorical_accuracy: 0.9826 - val_loss: 0.6211 - val_categorical_accuracy: 0.9095 - 1s/epoch - 35ms/step\n",
            "Epoch 64/100\n",
            "30/30 - 1s - loss: 0.0602 - categorical_accuracy: 0.9742 - val_loss: 0.5972 - val_categorical_accuracy: 0.9095 - 1s/epoch - 35ms/step\n",
            "Epoch 65/100\n",
            "30/30 - 1s - loss: 0.0588 - categorical_accuracy: 0.9810 - val_loss: 0.5924 - val_categorical_accuracy: 0.9095 - 1s/epoch - 36ms/step\n",
            "Epoch 66/100\n",
            "30/30 - 1s - loss: 0.0537 - categorical_accuracy: 0.9847 - val_loss: 0.6213 - val_categorical_accuracy: 0.9143 - 1s/epoch - 36ms/step\n",
            "Epoch 67/100\n",
            "30/30 - 1s - loss: 0.0494 - categorical_accuracy: 0.9842 - val_loss: 0.6239 - val_categorical_accuracy: 0.9048 - 1s/epoch - 37ms/step\n",
            "Epoch 68/100\n",
            "30/30 - 1s - loss: 0.0579 - categorical_accuracy: 0.9784 - val_loss: 0.6452 - val_categorical_accuracy: 0.9048 - 1s/epoch - 38ms/step\n",
            "Epoch 69/100\n",
            "30/30 - 1s - loss: 0.0587 - categorical_accuracy: 0.9805 - val_loss: 0.6438 - val_categorical_accuracy: 0.9000 - 1s/epoch - 36ms/step\n",
            "Epoch 70/100\n",
            "30/30 - 1s - loss: 0.0538 - categorical_accuracy: 0.9826 - val_loss: 0.5915 - val_categorical_accuracy: 0.9095 - 1s/epoch - 36ms/step\n",
            "Epoch 71/100\n",
            "30/30 - 1s - loss: 0.0615 - categorical_accuracy: 0.9789 - val_loss: 0.6366 - val_categorical_accuracy: 0.9000 - 1s/epoch - 36ms/step\n",
            "Epoch 72/100\n",
            "30/30 - 1s - loss: 0.0581 - categorical_accuracy: 0.9821 - val_loss: 0.6213 - val_categorical_accuracy: 0.9143 - 1s/epoch - 36ms/step\n",
            "Epoch 73/100\n",
            "30/30 - 1s - loss: 0.0509 - categorical_accuracy: 0.9810 - val_loss: 0.6084 - val_categorical_accuracy: 0.9143 - 1s/epoch - 36ms/step\n",
            "Epoch 74/100\n",
            "30/30 - 1s - loss: 0.0546 - categorical_accuracy: 0.9784 - val_loss: 0.6090 - val_categorical_accuracy: 0.9095 - 1s/epoch - 37ms/step\n",
            "Epoch 75/100\n",
            "30/30 - 1s - loss: 0.0596 - categorical_accuracy: 0.9805 - val_loss: 0.6333 - val_categorical_accuracy: 0.9095 - 1s/epoch - 37ms/step\n",
            "Epoch 76/100\n",
            "30/30 - 1s - loss: 0.0580 - categorical_accuracy: 0.9778 - val_loss: 0.6158 - val_categorical_accuracy: 0.9095 - 1s/epoch - 37ms/step\n",
            "Epoch 77/100\n",
            "30/30 - 1s - loss: 0.0570 - categorical_accuracy: 0.9836 - val_loss: 0.6047 - val_categorical_accuracy: 0.9048 - 1s/epoch - 42ms/step\n",
            "Epoch 78/100\n",
            "30/30 - 1s - loss: 0.0557 - categorical_accuracy: 0.9789 - val_loss: 0.6337 - val_categorical_accuracy: 0.9095 - 1s/epoch - 35ms/step\n",
            "Epoch 79/100\n",
            "30/30 - 1s - loss: 0.0534 - categorical_accuracy: 0.9810 - val_loss: 0.5902 - val_categorical_accuracy: 0.9190 - 1s/epoch - 36ms/step\n",
            "Epoch 80/100\n",
            "30/30 - 1s - loss: 0.0466 - categorical_accuracy: 0.9831 - val_loss: 0.6489 - val_categorical_accuracy: 0.9000 - 1s/epoch - 37ms/step\n",
            "Epoch 81/100\n",
            "30/30 - 1s - loss: 0.0503 - categorical_accuracy: 0.9800 - val_loss: 0.6326 - val_categorical_accuracy: 0.9095 - 1s/epoch - 36ms/step\n",
            "Epoch 82/100\n",
            "30/30 - 1s - loss: 0.0551 - categorical_accuracy: 0.9794 - val_loss: 0.6164 - val_categorical_accuracy: 0.9143 - 1s/epoch - 36ms/step\n",
            "Epoch 83/100\n",
            "30/30 - 1s - loss: 0.0512 - categorical_accuracy: 0.9821 - val_loss: 0.6542 - val_categorical_accuracy: 0.9095 - 1s/epoch - 37ms/step\n",
            "Epoch 84/100\n",
            "30/30 - 1s - loss: 0.0540 - categorical_accuracy: 0.9826 - val_loss: 0.6501 - val_categorical_accuracy: 0.9048 - 1s/epoch - 37ms/step\n",
            "Epoch 85/100\n",
            "30/30 - 1s - loss: 0.0584 - categorical_accuracy: 0.9805 - val_loss: 0.6342 - val_categorical_accuracy: 0.9143 - 1s/epoch - 35ms/step\n",
            "Epoch 86/100\n",
            "30/30 - 1s - loss: 0.0643 - categorical_accuracy: 0.9757 - val_loss: 0.6149 - val_categorical_accuracy: 0.9095 - 1s/epoch - 35ms/step\n",
            "Epoch 87/100\n",
            "30/30 - 1s - loss: 0.0585 - categorical_accuracy: 0.9789 - val_loss: 0.6131 - val_categorical_accuracy: 0.9048 - 1s/epoch - 37ms/step\n",
            "Epoch 88/100\n",
            "30/30 - 1s - loss: 0.0573 - categorical_accuracy: 0.9810 - val_loss: 0.6792 - val_categorical_accuracy: 0.8952 - 1s/epoch - 35ms/step\n",
            "Epoch 89/100\n",
            "30/30 - 1s - loss: 0.0571 - categorical_accuracy: 0.9794 - val_loss: 0.6275 - val_categorical_accuracy: 0.9190 - 1s/epoch - 36ms/step\n",
            "Epoch 90/100\n",
            "30/30 - 1s - loss: 0.0560 - categorical_accuracy: 0.9826 - val_loss: 0.6281 - val_categorical_accuracy: 0.9048 - 1s/epoch - 36ms/step\n",
            "Epoch 91/100\n",
            "30/30 - 1s - loss: 0.0534 - categorical_accuracy: 0.9815 - val_loss: 0.6575 - val_categorical_accuracy: 0.9000 - 1s/epoch - 36ms/step\n",
            "Epoch 92/100\n",
            "30/30 - 1s - loss: 0.0500 - categorical_accuracy: 0.9826 - val_loss: 0.6292 - val_categorical_accuracy: 0.8952 - 1s/epoch - 42ms/step\n",
            "Epoch 93/100\n",
            "30/30 - 1s - loss: 0.0835 - categorical_accuracy: 0.9736 - val_loss: 0.6078 - val_categorical_accuracy: 0.9143 - 1s/epoch - 37ms/step\n",
            "Epoch 94/100\n",
            "30/30 - 1s - loss: 0.0549 - categorical_accuracy: 0.9815 - val_loss: 0.6342 - val_categorical_accuracy: 0.9095 - 1s/epoch - 36ms/step\n",
            "Epoch 95/100\n",
            "30/30 - 1s - loss: 0.0531 - categorical_accuracy: 0.9821 - val_loss: 0.6249 - val_categorical_accuracy: 0.9000 - 1s/epoch - 36ms/step\n",
            "Epoch 96/100\n",
            "30/30 - 1s - loss: 0.0506 - categorical_accuracy: 0.9815 - val_loss: 0.6086 - val_categorical_accuracy: 0.9048 - 1s/epoch - 37ms/step\n",
            "Epoch 97/100\n",
            "30/30 - 1s - loss: 0.0521 - categorical_accuracy: 0.9800 - val_loss: 0.6155 - val_categorical_accuracy: 0.9000 - 1s/epoch - 36ms/step\n",
            "Epoch 98/100\n",
            "30/30 - 1s - loss: 0.0484 - categorical_accuracy: 0.9836 - val_loss: 0.6139 - val_categorical_accuracy: 0.9048 - 1s/epoch - 36ms/step\n",
            "Epoch 99/100\n",
            "30/30 - 1s - loss: 0.0511 - categorical_accuracy: 0.9794 - val_loss: 0.6378 - val_categorical_accuracy: 0.9095 - 1s/epoch - 36ms/step\n",
            "Epoch 100/100\n",
            "30/30 - 1s - loss: 0.0556 - categorical_accuracy: 0.9815 - val_loss: 0.6698 - val_categorical_accuracy: 0.9095 - 1s/epoch - 36ms/step\n",
            "Model: \"model_1\"\n",
            "_________________________________________________________________\n",
            " Layer (type)                Output Shape              Param #   \n",
            "=================================================================\n",
            " input_2 (InputLayer)        [(None, 5, 1)]            0         \n",
            "                                                                 \n",
            " conv1d_1 (Conv1D)           (None, 3, 128)            512       \n",
            "                                                                 \n",
            " bidirectional_1 (Bidirectio  (None, 512)              788480    \n",
            " nal)                                                            \n",
            "                                                                 \n",
            " dense_3 (Dense)             (None, 128)               65664     \n",
            "                                                                 \n",
            " dense_4 (Dense)             (None, 64)                8256      \n",
            "                                                                 \n",
            " dense_5 (Dense)             (None, 20)                1300      \n",
            "                                                                 \n",
            "=================================================================\n",
            "Total params: 864,212\n",
            "Trainable params: 864,212\n",
            "Non-trainable params: 0\n",
            "_________________________________________________________________\n"
          ]
        }
      ]
    },
    {
      "cell_type": "code",
      "source": [
        "# Forward model is trained on forward data, tested on forward data\n",
        "testing_pairs = generate_input_output_pairs([target_sequence])\n",
        "testX, testY = preprocess_data(testing_pairs)\n",
        "_, forward_accuracy = forward_model.evaluate(testX, testY)\n",
        "print(f\"Accuracy on Forward Model: {forward_accuracy:.2f}\")"
      ],
      "metadata": {
        "colab": {
          "base_uri": "https://localhost:8080/"
        },
        "id": "qCbzrCOgR96h",
        "outputId": "4ed40549-3558-4be4-97e1-504b2a540a1c"
      },
      "execution_count": 11,
      "outputs": [
        {
          "output_type": "stream",
          "name": "stdout",
          "text": [
            "7/7 [==============================] - 0s 11ms/step - loss: 0.0476 - categorical_accuracy: 0.9856\n",
            "Accuracy on Forward Model: 0.99\n"
          ]
        }
      ]
    },
    {
      "cell_type": "code",
      "source": [
        "# Reverse model is trained on reverse data, tested on reverse data\n",
        "testing_pairs = generate_input_output_pairs([target_sequence_reversed])\n",
        "testX, testY = preprocess_data(testing_pairs)\n",
        "_, reverse_accuracy = reverse_model.evaluate(testX, testY)\n",
        "print(f\"Accuracy on Reverse Model: {reverse_accuracy:.2f}\")"
      ],
      "metadata": {
        "colab": {
          "base_uri": "https://localhost:8080/"
        },
        "id": "e3Xxfd6WR_5p",
        "outputId": "862c2168-0ccc-4303-e13f-11a6bb6c02cb"
      },
      "execution_count": 12,
      "outputs": [
        {
          "output_type": "stream",
          "name": "stdout",
          "text": [
            "7/7 [==============================] - 0s 11ms/step - loss: 0.0401 - categorical_accuracy: 0.9809\n",
            "Accuracy on Reverse Model: 0.98\n"
          ]
        }
      ]
    },
    {
      "cell_type": "code",
      "source": [
        "plot_metric(forward_history.history, title=\"Forward\", metric=\"categorical_accuracy\")"
      ],
      "metadata": {
        "colab": {
          "base_uri": "https://localhost:8080/",
          "height": 295
        },
        "id": "LkXVEl0qSGU1",
        "outputId": "adf230df-752f-460b-d065-902252fee7b5"
      },
      "execution_count": 15,
      "outputs": [
        {
          "output_type": "display_data",
          "data": {
            "text/plain": [
              "<Figure size 432x288 with 1 Axes>"
            ],
            "image/png": "[encoded data removed]"
          },
          "metadata": {
            "needs_background": "light"
          }
        }
      ]
    },
    {
      "cell_type": "code",
      "source": [
        "plot_metric(reverse_history.history, title=\"Reverse\", metric=\"categorical_accuracy\")"
      ],
      "metadata": {
        "colab": {
          "base_uri": "https://localhost:8080/",
          "height": 295
        },
        "id": "i15kBFNqSE7x",
        "outputId": "63ddda41-ec25-4183-b5cc-e4a340ff0e43"
      },
      "execution_count": 16,
      "outputs": [
        {
          "output_type": "display_data",
          "data": {
            "text/plain": [
              "<Figure size 432x288 with 1 Axes>"
            ],
            "image/png": "[encoded data removed]"
          },
          "metadata": {
            "needs_background": "light"
          }
        }
      ]
    },
    {
      "cell_type": "code",
      "source": [
        "plot_metric(forward_history.history, title=\"Forward\", metric=\"loss\")"
      ],
      "metadata": {
        "colab": {
          "base_uri": "https://localhost:8080/",
          "height": 295
        },
        "id": "AKSP6RZSGLiL",
        "outputId": "e5aca889-b393-4624-ff1d-7db27cf57c56"
      },
      "execution_count": 17,
      "outputs": [
        {
          "output_type": "display_data",
          "data": {
            "text/plain": [
              "<Figure size 432x288 with 1 Axes>"
            ],
            "image/png": "[encoded data removed]"
          },
          "metadata": {
            "needs_background": "light"
          }
        }
      ]
    },
    {
      "cell_type": "code",
      "source": [
        "plot_metric(reverse_history.history, title=\"Reverse\", metric=\"loss\")"
      ],
      "metadata": {
        "colab": {
          "base_uri": "https://localhost:8080/",
          "height": 295
        },
        "id": "cNiHZNzVGId_",
        "outputId": "9e390b10-8216-48e7-bad3-c08908cf554a"
      },
      "execution_count": 18,
      "outputs": [
        {
          "output_type": "display_data",
          "data": {
            "text/plain": [
              "<Figure size 432x288 with 1 Axes>"
            ],
            "image/png": "[encoded data removed]"
          },
          "metadata": {
            "needs_background": "light"
          }
        }
      ]
    },
    {
      "cell_type": "code",
      "source": [
        "# Now use both models to predict a de novo sequence based on target sequence\n",
        "missing_indices = set([0, 1, 2, 24, 25, 26, 62, 63, 64, 66, 67, 68, 69, 75, 76, 77, 78, 79, 80, 81, 82, 83, 84, 85, 209, 210, 211, 212, 213])\n",
        "de_novo_sequence = \"\".join(c if i not in missing_indices else \"-\" for i, c in enumerate(target_sequence))\n",
        "\n",
        "pred_sequence_full = predict_gaps(de_novo_sequence, forward_model, reverse_model)\n",
        "incorrect_indices = get_nonmatching_indices(target_sequence, pred_sequence_full)\n",
        "correct_indices = missing_indices.difference(incorrect_indices)\n",
        "\n",
        "# Print the three different sequences for visual inspection\n",
        "print_sequence(target_sequence, \"TARGET SEQUENCE\")"
      ],
      "metadata": {
        "colab": {
          "base_uri": "https://localhost:8080/"
        },
        "id": "-KJwEY5dSsN4",
        "outputId": "fa3df6d0-17e1-4e62-be3c-9ccc2afcf238"
      },
      "execution_count": 19,
      "outputs": [
        {
          "output_type": "stream",
          "name": "stdout",
          "text": [
            "TARGET SEQUENCE\n",
            "=====================================================================\n",
            "DIQMTQSPSS\tLSASVGDRVT\tITCKASQNID\tKYLNWYQQKP\n",
            "GKAPKLLIYN\tTNNLQTGVPS\tRFSGSGSGTD\tFTFTISSLQP\n",
            "EDIATYYCLQ\tHISRPRTFGQ\tGTKVEIKRTV\tAAPSVFIFPP\n",
            "SDEQLKSGTA\tSVVCLLNNFY\tPREAKVQWKV\tDNALQSGNSQ\n",
            "ESVTEQDSKD\tSTYSLSSTLT\tLSKADYEKHK\tVYACEVTHQG\n",
            "LSSPVTKSFN\tRGEC\n"
          ]
        }
      ]
    },
    {
      "cell_type": "code",
      "source": [
        "print_sequence(de_novo_sequence,\"DE NOVO SEQUENCE\", missing_indices)"
      ],
      "metadata": {
        "colab": {
          "base_uri": "https://localhost:8080/"
        },
        "id": "T98qnZC9Sz1W",
        "outputId": "769178a9-4205-4af3-dfe8-9a264b3a7c59"
      },
      "execution_count": 20,
      "outputs": [
        {
          "output_type": "stream",
          "name": "stdout",
          "text": [
            "DE NOVO SEQUENCE\n",
            "=====================================================================\n",
            "\u001b[1m\u001b[31m-\u001b[0m\u001b[1m\u001b[31m-\u001b[0m\u001b[1m\u001b[31m-\u001b[0mMTQSPSS\tLSASVGDRVT\tITCK\u001b[1m\u001b[31m-\u001b[0m\u001b[1m\u001b[31m-\u001b[0m\u001b[1m\u001b[31m-\u001b[0mNID\tKYLNWYQQKP\n",
            "GKAPKLLIYN\tTNNLQTGVPS\tRF\u001b[1m\u001b[31m-\u001b[0m\u001b[1m\u001b[31m-\u001b[0m\u001b[1m\u001b[31m-\u001b[0mG\u001b[1m\u001b[31m-\u001b[0m\u001b[1m\u001b[31m-\u001b[0m\u001b[1m\u001b[31m-\u001b[0m\u001b[1m\u001b[31m-\u001b[0m\tFTFTI\u001b[1m\u001b[31m-\u001b[0m\u001b[1m\u001b[31m-\u001b[0m\u001b[1m\u001b[31m-\u001b[0m\u001b[1m\u001b[31m-\u001b[0m\u001b[1m\u001b[31m-\u001b[0m\n",
            "\u001b[1m\u001b[31m-\u001b[0m\u001b[1m\u001b[31m-\u001b[0m\u001b[1m\u001b[31m-\u001b[0m\u001b[1m\u001b[31m-\u001b[0m\u001b[1m\u001b[31m-\u001b[0m\u001b[1m\u001b[31m-\u001b[0mYCLQ\tHISRPRTFGQ\tGTKVEIKRTV\tAAPSVFIFPP\n",
            "SDEQLKSGTA\tSVVCLLNNFY\tPREAKVQWKV\tDNALQSGNSQ\n",
            "ESVTEQDSKD\tSTYSLSSTLT\tLSKADYEKHK\tVYACEVTHQG\n",
            "LSSPVTKSF\u001b[1m\u001b[31m-\u001b[0m\t\u001b[1m\u001b[31m-\u001b[0m\u001b[1m\u001b[31m-\u001b[0m\u001b[1m\u001b[31m-\u001b[0m\u001b[1m\u001b[31m-\u001b[0m\n"
          ]
        }
      ]
    },
    {
      "cell_type": "code",
      "source": [
        "print_sequence(pred_sequence_full, \"PREDICTED SEQUENCE\", incorrect_indices, correct_indices)"
      ],
      "metadata": {
        "colab": {
          "base_uri": "https://localhost:8080/"
        },
        "id": "Gegi0pN7SxP2",
        "outputId": "64fd0875-745a-44fe-cb2b-40a708c185a8"
      },
      "execution_count": 21,
      "outputs": [
        {
          "output_type": "stream",
          "name": "stdout",
          "text": [
            "PREDICTED SEQUENCE\n",
            "=====================================================================\n",
            "\u001b[1m\u001b[32mD\u001b[0m\u001b[1m\u001b[32mI\u001b[0m\u001b[1m\u001b[32mQ\u001b[0mMTQSPSS\tLSASVGDRVT\tITCK\u001b[1m\u001b[32mA\u001b[0m\u001b[1m\u001b[32mS\u001b[0m\u001b[1m\u001b[32mQ\u001b[0mNID\tKYLNWYQQKP\n",
            "GKAPKLLIYN\tTNNLQTGVPS\tRF\u001b[1m\u001b[32mS\u001b[0m\u001b[1m\u001b[32mG\u001b[0m\u001b[1m\u001b[32mS\u001b[0mG\u001b[1m\u001b[32mS\u001b[0m\u001b[1m\u001b[32mG\u001b[0m\u001b[1m\u001b[32mT\u001b[0m\u001b[1m\u001b[32mD\u001b[0m\tFTFTI\u001b[1m\u001b[32mS\u001b[0m\u001b[1m\u001b[32mS\u001b[0m\u001b[1m\u001b[32mL\u001b[0m\u001b[1m\u001b[32mQ\u001b[0m\u001b[1m\u001b[32mP\u001b[0m\n",
            "\u001b[1m\u001b[32mE\u001b[0m\u001b[1m\u001b[32mD\u001b[0m\u001b[1m\u001b[32mI\u001b[0m\u001b[1m\u001b[32mA\u001b[0m\u001b[1m\u001b[32mT\u001b[0m\u001b[1m\u001b[32mY\u001b[0mYCLQ\tHISRPRTFGQ\tGTKVEIKRTV\tAAPSVFIFPP\n",
            "SDEQLKSGTA\tSVVCLLNNFY\tPREAKVQWKV\tDNALQSGNSQ\n",
            "ESVTEQDSKD\tSTYSLSSTLT\tLSKADYEKHK\tVYACEVTHQG\n",
            "LSSPVTKSF\u001b[1m\u001b[32mN\u001b[0m\t\u001b[1m\u001b[32mR\u001b[0m\u001b[1m\u001b[32mG\u001b[0m\u001b[1m\u001b[32mE\u001b[0m\u001b[1m\u001b[32mC\u001b[0m\n"
          ]
        }
      ]
    },
    {
      "cell_type": "code",
      "source": [
        "# Compute final accuracy on de novo sequence\n",
        "target_len = len(target_sequence)\n",
        "full_accuracy = (target_len - len(incorrect_indices)) / target_len\n",
        "print(f\"Accuracy on De Novo Sequence: {full_accuracy:.3f}\")"
      ],
      "metadata": {
        "colab": {
          "base_uri": "https://localhost:8080/"
        },
        "id": "ohlmVCY1Q-Ij",
        "outputId": "d7b957fd-94da-4428-ed19-3a27f09d4d00"
      },
      "execution_count": 22,
      "outputs": [
        {
          "output_type": "stream",
          "name": "stdout",
          "text": [
            "Accuracy on De Novo Sequence: 1.000\n"
          ]
        }
      ]
    },
    {
      "cell_type": "code",
      "source": [
        "# Print the predictions in forward and reverse directions as well\n",
        "forward_pred = predict_gaps(de_novo_sequence, forward_model=forward_model, reverse_model=None)\n",
        "incorrect_indices = get_nonmatching_indices(target_sequence, forward_pred)\n",
        "correct_indices = missing_indices.difference(incorrect_indices)\n",
        "print_sequence(forward_pred, \"FORWARD PREDICTIONS\", incorrect_indices, correct_indices)\n",
        "\n",
        "reverse_pred = predict_gaps(de_novo_sequence, forward_model=None, reverse_model=reverse_model)\n",
        "incorrect_indices = get_nonmatching_indices(target_sequence, reverse_pred)\n",
        "correct_indices = missing_indices.difference(incorrect_indices)\n",
        "print_sequence(reverse_pred, \"REVERSE PREDICTIONS\", incorrect_indices, correct_indices)"
      ],
      "metadata": {
        "colab": {
          "base_uri": "https://localhost:8080/"
        },
        "id": "rVV3CQ14U-i2",
        "outputId": "fb7f6076-daa2-4ee4-bcd6-0531c4b1ca27"
      },
      "execution_count": 23,
      "outputs": [
        {
          "output_type": "stream",
          "name": "stdout",
          "text": [
            "FORWARD PREDICTIONS\n",
            "=====================================================================\n",
            "\u001b[1m\u001b[31m-\u001b[0m\u001b[1m\u001b[31m-\u001b[0m\u001b[1m\u001b[31m-\u001b[0mMTQSPSS\tLSASVGDRVT\tITCK\u001b[1m\u001b[32mA\u001b[0m\u001b[1m\u001b[32mS\u001b[0m\u001b[1m\u001b[32mQ\u001b[0mNID\tKYLNWYQQKP\n",
            "GKAPKLLIYN\tTNNLQTGVPS\tRF\u001b[1m\u001b[32mS\u001b[0m\u001b[1m\u001b[32mG\u001b[0m\u001b[1m\u001b[32mS\u001b[0mG\u001b[1m\u001b[32mS\u001b[0m\u001b[1m\u001b[32mG\u001b[0m\u001b[1m\u001b[32mT\u001b[0m\u001b[1m\u001b[32mD\u001b[0m\tFTFTI\u001b[1m\u001b[32mS\u001b[0m\u001b[1m\u001b[32mS\u001b[0m\u001b[1m\u001b[32mL\u001b[0m\u001b[1m\u001b[32mQ\u001b[0m\u001b[1m\u001b[32mP\u001b[0m\n",
            "\u001b[1m\u001b[32mE\u001b[0m\u001b[1m\u001b[32mD\u001b[0m\u001b[1m\u001b[32mI\u001b[0m\u001b[1m\u001b[32mA\u001b[0m\u001b[1m\u001b[32mT\u001b[0m\u001b[1m\u001b[32mY\u001b[0mYCLQ\tHISRPRTFGQ\tGTKVEIKRTV\tAAPSVFIFPP\n",
            "SDEQLKSGTA\tSVVCLLNNFY\tPREAKVQWKV\tDNALQSGNSQ\n",
            "ESVTEQDSKD\tSTYSLSSTLT\tLSKADYEKHK\tVYACEVTHQG\n",
            "LSSPVTKSF\u001b[1m\u001b[32mN\u001b[0m\t\u001b[1m\u001b[32mR\u001b[0m\u001b[1m\u001b[32mG\u001b[0m\u001b[1m\u001b[32mE\u001b[0m\u001b[1m\u001b[32mC\u001b[0m\n",
            "REVERSE PREDICTIONS\n",
            "=====================================================================\n",
            "\u001b[1m\u001b[32mD\u001b[0m\u001b[1m\u001b[32mI\u001b[0m\u001b[1m\u001b[32mQ\u001b[0mMTQSPSS\tLSASVGDRVT\tITCK\u001b[1m\u001b[32mA\u001b[0m\u001b[1m\u001b[32mS\u001b[0m\u001b[1m\u001b[32mQ\u001b[0mNID\tKYLNWYQQKP\n",
            "GKAPKLLIYN\tTNNLQTGVPS\tRF\u001b[1m\u001b[32mS\u001b[0m\u001b[1m\u001b[32mG\u001b[0m\u001b[1m\u001b[32mS\u001b[0mG\u001b[1m\u001b[32mS\u001b[0m\u001b[1m\u001b[32mG\u001b[0m\u001b[1m\u001b[32mT\u001b[0m\u001b[1m\u001b[32mD\u001b[0m\tFTFTI\u001b[1m\u001b[32mS\u001b[0m\u001b[1m\u001b[32mS\u001b[0m\u001b[1m\u001b[32mL\u001b[0m\u001b[1m\u001b[32mQ\u001b[0m\u001b[1m\u001b[32mP\u001b[0m\n",
            "\u001b[1m\u001b[32mE\u001b[0m\u001b[1m\u001b[32mD\u001b[0m\u001b[1m\u001b[32mI\u001b[0m\u001b[1m\u001b[32mA\u001b[0m\u001b[1m\u001b[32mT\u001b[0m\u001b[1m\u001b[32mY\u001b[0mYCLQ\tHISRPRTFGQ\tGTKVEIKRTV\tAAPSVFIFPP\n",
            "SDEQLKSGTA\tSVVCLLNNFY\tPREAKVQWKV\tDNALQSGNSQ\n",
            "ESVTEQDSKD\tSTYSLSSTLT\tLSKADYEKHK\tVYACEVTHQG\n",
            "LSSPVTKSF\u001b[1m\u001b[31m-\u001b[0m\t\u001b[1m\u001b[31m-\u001b[0m\u001b[1m\u001b[31m-\u001b[0m\u001b[1m\u001b[31m-\u001b[0m\u001b[1m\u001b[31m-\u001b[0m\n"
          ]
        }
      ]
    }
  ]
}